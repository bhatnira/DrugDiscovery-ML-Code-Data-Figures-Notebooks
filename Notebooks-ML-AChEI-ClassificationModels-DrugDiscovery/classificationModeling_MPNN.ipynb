{
  "cells": [
    {
      "cell_type": "markdown",
      "metadata": {
        "id": "view-in-github",
        "colab_type": "text"
      },
      "source": [
        "<a href=\"https://colab.research.google.com/github/bhatnira/Acetylcholinesterase-Inhibitor-Discovery/blob/main/classificationModeling_MPNN.ipynb\" target=\"_parent\"><img src=\"https://colab.research.google.com/assets/colab-badge.svg\" alt=\"Open In Colab\"/></a>"
      ]
    },
    {
      "cell_type": "markdown",
      "metadata": {
        "id": "TyDNINjoV746"
      },
      "source": [
        "\n",
        "# Message Passing Neural Network Classification Modeling\n"
      ]
    },
    {
      "cell_type": "markdown",
      "metadata": {
        "id": "jiX8pkSE88cj"
      },
      "source": [
        "## Introduction\n",
        "Message Passing Neural Networks, founded on a sophisticated aggregation methodology and message-passing algorithm, obviates the necessity for elaborate feature engineering by facilitating a holistic analysis of the graph (Gilmer et al., 2017)\n"
      ]
    },
    {
      "cell_type": "markdown",
      "metadata": {
        "id": "LbEFlfpg-pYQ"
      },
      "source": [
        "## Data loading and Preprocessing\n",
        "\n"
      ]
    },
    {
      "cell_type": "code",
      "execution_count": null,
      "metadata": {
        "id": "u1zCyNG21ikK",
        "colab": {
          "base_uri": "https://localhost:8080/",
          "height": 576
        },
        "outputId": "9be60b75-1923-4228-b8b1-41028f53170f"
      },
      "outputs": [
        {
          "output_type": "stream",
          "name": "stdout",
          "text": [
            "Collecting deepchem\n",
            "  Downloading deepchem-2.7.2.dev20231228190544-py3-none-any.whl (954 kB)\n",
            "\u001b[2K     \u001b[90m━━━━━━━━━━━━━━━━━━━━━━━━━━━━━━━━━━━━━━━━\u001b[0m \u001b[32m954.0/954.0 kB\u001b[0m \u001b[31m7.5 MB/s\u001b[0m eta \u001b[36m0:00:00\u001b[0m\n",
            "\u001b[?25hRequirement already satisfied: joblib in /usr/local/lib/python3.10/dist-packages (from deepchem) (1.3.2)\n",
            "Requirement already satisfied: numpy>=1.21 in /usr/local/lib/python3.10/dist-packages (from deepchem) (1.23.5)\n",
            "Requirement already satisfied: pandas in /usr/local/lib/python3.10/dist-packages (from deepchem) (1.5.3)\n",
            "Requirement already satisfied: scikit-learn in /usr/local/lib/python3.10/dist-packages (from deepchem) (1.2.2)\n",
            "Requirement already satisfied: sympy in /usr/local/lib/python3.10/dist-packages (from deepchem) (1.12)\n",
            "Requirement already satisfied: scipy>=1.10.1 in /usr/local/lib/python3.10/dist-packages (from deepchem) (1.11.4)\n",
            "Collecting rdkit (from deepchem)\n",
            "  Downloading rdkit-2023.9.3-cp310-cp310-manylinux_2_17_x86_64.manylinux2014_x86_64.whl (34.3 MB)\n",
            "\u001b[2K     \u001b[90m━━━━━━━━━━━━━━━━━━━━━━━━━━━━━━━━━━━━━━━━\u001b[0m \u001b[32m34.3/34.3 MB\u001b[0m \u001b[31m12.1 MB/s\u001b[0m eta \u001b[36m0:00:00\u001b[0m\n",
            "\u001b[?25hRequirement already satisfied: python-dateutil>=2.8.1 in /usr/local/lib/python3.10/dist-packages (from pandas->deepchem) (2.8.2)\n",
            "Requirement already satisfied: pytz>=2020.1 in /usr/local/lib/python3.10/dist-packages (from pandas->deepchem) (2023.3.post1)\n",
            "Requirement already satisfied: Pillow in /usr/local/lib/python3.10/dist-packages (from rdkit->deepchem) (9.4.0)\n",
            "Requirement already satisfied: threadpoolctl>=2.0.0 in /usr/local/lib/python3.10/dist-packages (from scikit-learn->deepchem) (3.2.0)\n",
            "Requirement already satisfied: mpmath>=0.19 in /usr/local/lib/python3.10/dist-packages (from sympy->deepchem) (1.3.0)\n",
            "Requirement already satisfied: six>=1.5 in /usr/local/lib/python3.10/dist-packages (from python-dateutil>=2.8.1->pandas->deepchem) (1.16.0)\n",
            "Installing collected packages: rdkit, deepchem\n",
            "Successfully installed deepchem-2.7.2.dev20231228190544 rdkit-2023.9.3\n"
          ]
        },
        {
          "output_type": "stream",
          "name": "stderr",
          "text": [
            "WARNING:deepchem.feat.molecule_featurizers.rdkit_descriptors:No normalization for SPS. Feature removed!\n",
            "WARNING:deepchem.feat.molecule_featurizers.rdkit_descriptors:No normalization for AvgIpc. Feature removed!\n",
            "WARNING:tensorflow:From /usr/local/lib/python3.10/dist-packages/tensorflow/python/util/deprecation.py:588: calling function (from tensorflow.python.eager.polymorphic_function.polymorphic_function) with experimental_relax_shapes is deprecated and will be removed in a future version.\n",
            "Instructions for updating:\n",
            "experimental_relax_shapes is deprecated, use reduce_retracing instead\n",
            "WARNING:deepchem.models:Skipped loading some PyTorch models, missing a dependency. No module named 'torch_geometric'\n",
            "WARNING:deepchem.models:No module named 'torch_geometric'\n",
            "WARNING:deepchem.models:Skipped loading modules with pytorch-geometric dependency, missing a dependency. No module named 'torch_geometric'\n",
            "WARNING:deepchem.models:Skipped loading modules with pytorch-lightning dependency, missing a dependency. No module named 'pytorch_lightning'\n",
            "WARNING:deepchem.models:Skipped loading some Jax models, missing a dependency. No module named 'haiku'\n"
          ]
        },
        {
          "output_type": "execute_result",
          "data": {
            "text/plain": [
              "'2.7.2.dev'"
            ],
            "application/vnd.google.colaboratory.intrinsic+json": {
              "type": "string"
            }
          },
          "metadata": {},
          "execution_count": 1
        }
      ],
      "source": [
        "!pip install --pre deepchem\n",
        "import deepchem\n",
        "deepchem.__version__"
      ]
    },
    {
      "cell_type": "code",
      "execution_count": null,
      "metadata": {
        "id": "4E31J5i_COdl"
      },
      "outputs": [],
      "source": [
        "import deepchem as dc\n",
        "import numpy as np"
      ]
    },
    {
      "cell_type": "code",
      "execution_count": null,
      "metadata": {
        "id": "T2qvkDDsCW4q",
        "colab": {
          "base_uri": "https://localhost:8080/"
        },
        "outputId": "f7099927-e60a-47d1-fde1-e623a6323b0b"
      },
      "outputs": [
        {
          "output_type": "stream",
          "name": "stdout",
          "text": [
            "Mounted at /content/drive\n"
          ]
        }
      ],
      "source": [
        "from google.colab import drive\n",
        "drive.mount('/content/drive')"
      ]
    },
    {
      "cell_type": "markdown",
      "source": [
        "##Primary Dataset"
      ],
      "metadata": {
        "id": "5aIzeTrNUf9K"
      }
    },
    {
      "cell_type": "code",
      "execution_count": null,
      "metadata": {
        "id": "CwMI_hbVQFad"
      },
      "outputs": [],
      "source": [
        "import pandas as pd\n",
        "df=pd.read_excel(\"/content/drive/MyDrive/Predictive Generative transfer learning/Part_2_standarizationOfMolecule/StandarizedSmiles_cutOFF800daltonMolecularweight.xlsx\")"
      ]
    },
    {
      "cell_type": "code",
      "execution_count": null,
      "metadata": {
        "id": "-yrYMt2vRNLI",
        "colab": {
          "base_uri": "https://localhost:8080/",
          "height": 417
        },
        "outputId": "bb4a877b-0203-4d97-c2fd-a0be316702a2"
      },
      "outputs": [
        {
          "output_type": "execute_result",
          "data": {
            "text/plain": [
              "  Molecule ChEMBL ID                                             Smiles  \\\n",
              "0           CHEMBL94        CNC(=O)Oc1ccc2c(c1)[C@]1(C)CCN(C)[C@@H]1N2C   \n",
              "1       CHEMBL207777  Cc1ccccc1NC(=O)Oc1ccc2c(c1)[C@]1(C)CO[C@@H](C1)O2   \n",
              "2       CHEMBL205967         CCNC(=O)Oc1ccc2c(c1)[C@]1(C)CO[C@@H](C1)O2   \n",
              "3        CHEMBL60119                         Cc1ccc2c(N)c3c(nc2c1)CCCC3   \n",
              "4       CHEMBL294525       CCCCCCCNc1c2c(nc3cc([N+](=O)[O-])ccc13)CCCC2   \n",
              "\n",
              "     IC50  classLabel  IsValidSMILES  \\\n",
              "0    28.0           1           True   \n",
              "1    97.0           1           True   \n",
              "2  2420.0           0           True   \n",
              "3   100.0           1           True   \n",
              "4   290.0           1           True   \n",
              "\n",
              "                                           Morgan_FP  \\\n",
              "0  <rdkit.DataStructs.cDataStructs.ExplicitBitVec...   \n",
              "1  <rdkit.DataStructs.cDataStructs.ExplicitBitVec...   \n",
              "2  <rdkit.DataStructs.cDataStructs.ExplicitBitVec...   \n",
              "3  <rdkit.DataStructs.cDataStructs.ExplicitBitVec...   \n",
              "4  <rdkit.DataStructs.cDataStructs.ExplicitBitVec...   \n",
              "\n",
              "                                           Molecule  \\\n",
              "0  <rdkit.Chem.rdchem.Mol object at 0x7bcfd8e880b0>   \n",
              "1  <rdkit.Chem.rdchem.Mol object at 0x7bcfd8e88190>   \n",
              "2  <rdkit.Chem.rdchem.Mol object at 0x7bcfd8e88270>   \n",
              "3  <rdkit.Chem.rdchem.Mol object at 0x7bcfd8e88430>   \n",
              "4  <rdkit.Chem.rdchem.Mol object at 0x7bcfd8e884a0>   \n",
              "\n",
              "                                         Fingerprint      PCA1      PCA2  \\\n",
              "0  <rdkit.DataStructs.cDataStructs.ExplicitBitVec... -1.738898 -1.494784   \n",
              "1  <rdkit.DataStructs.cDataStructs.ExplicitBitVec... -1.014164 -1.325272   \n",
              "2  <rdkit.DataStructs.cDataStructs.ExplicitBitVec... -1.235565 -1.559108   \n",
              "3  <rdkit.DataStructs.cDataStructs.ExplicitBitVec...  2.705664  0.148113   \n",
              "4  <rdkit.DataStructs.cDataStructs.ExplicitBitVec...  3.600017 -0.978574   \n",
              "\n",
              "       tSNE1      tSNE2  MolecularWeight  Frequency  \\\n",
              "0 -52.761700 -42.736099          275.352         27   \n",
              "1 -63.027809 -53.765778          325.364          1   \n",
              "2 -61.968063 -54.078575          263.293          1   \n",
              "3  57.758297  -8.911607          212.296          4   \n",
              "4  61.242554   5.783804          341.455          3   \n",
              "\n",
              "                                          cleanedMol  \n",
              "0        CNC(=O)Oc1ccc2c(c1)[C@]1(C)CCN(C)[C@@H]1N2C  \n",
              "1  Cc1ccccc1NC(=O)Oc1ccc2c(c1)[C@]1(C)CO[C@@H](C1)O2  \n",
              "2         CCNC(=O)Oc1ccc2c(c1)[C@]1(C)CO[C@@H](C1)O2  \n",
              "3                         Cc1ccc2c(N)c3c(nc2c1)CCCC3  \n",
              "4       CCCCCCCNc1c2c(nc3cc([N+](=O)[O-])ccc13)CCCC2  "
            ],
            "text/html": [
              "\n",
              "  <div id=\"df-8ae3700d-960d-4ccd-b0ca-393676734341\" class=\"colab-df-container\">\n",
              "    <div>\n",
              "<style scoped>\n",
              "    .dataframe tbody tr th:only-of-type {\n",
              "        vertical-align: middle;\n",
              "    }\n",
              "\n",
              "    .dataframe tbody tr th {\n",
              "        vertical-align: top;\n",
              "    }\n",
              "\n",
              "    .dataframe thead th {\n",
              "        text-align: right;\n",
              "    }\n",
              "</style>\n",
              "<table border=\"1\" class=\"dataframe\">\n",
              "  <thead>\n",
              "    <tr style=\"text-align: right;\">\n",
              "      <th></th>\n",
              "      <th>Molecule ChEMBL ID</th>\n",
              "      <th>Smiles</th>\n",
              "      <th>IC50</th>\n",
              "      <th>classLabel</th>\n",
              "      <th>IsValidSMILES</th>\n",
              "      <th>Morgan_FP</th>\n",
              "      <th>Molecule</th>\n",
              "      <th>Fingerprint</th>\n",
              "      <th>PCA1</th>\n",
              "      <th>PCA2</th>\n",
              "      <th>tSNE1</th>\n",
              "      <th>tSNE2</th>\n",
              "      <th>MolecularWeight</th>\n",
              "      <th>Frequency</th>\n",
              "      <th>cleanedMol</th>\n",
              "    </tr>\n",
              "  </thead>\n",
              "  <tbody>\n",
              "    <tr>\n",
              "      <th>0</th>\n",
              "      <td>CHEMBL94</td>\n",
              "      <td>CNC(=O)Oc1ccc2c(c1)[C@]1(C)CCN(C)[C@@H]1N2C</td>\n",
              "      <td>28.0</td>\n",
              "      <td>1</td>\n",
              "      <td>True</td>\n",
              "      <td>&lt;rdkit.DataStructs.cDataStructs.ExplicitBitVec...</td>\n",
              "      <td>&lt;rdkit.Chem.rdchem.Mol object at 0x7bcfd8e880b0&gt;</td>\n",
              "      <td>&lt;rdkit.DataStructs.cDataStructs.ExplicitBitVec...</td>\n",
              "      <td>-1.738898</td>\n",
              "      <td>-1.494784</td>\n",
              "      <td>-52.761700</td>\n",
              "      <td>-42.736099</td>\n",
              "      <td>275.352</td>\n",
              "      <td>27</td>\n",
              "      <td>CNC(=O)Oc1ccc2c(c1)[C@]1(C)CCN(C)[C@@H]1N2C</td>\n",
              "    </tr>\n",
              "    <tr>\n",
              "      <th>1</th>\n",
              "      <td>CHEMBL207777</td>\n",
              "      <td>Cc1ccccc1NC(=O)Oc1ccc2c(c1)[C@]1(C)CO[C@@H](C1)O2</td>\n",
              "      <td>97.0</td>\n",
              "      <td>1</td>\n",
              "      <td>True</td>\n",
              "      <td>&lt;rdkit.DataStructs.cDataStructs.ExplicitBitVec...</td>\n",
              "      <td>&lt;rdkit.Chem.rdchem.Mol object at 0x7bcfd8e88190&gt;</td>\n",
              "      <td>&lt;rdkit.DataStructs.cDataStructs.ExplicitBitVec...</td>\n",
              "      <td>-1.014164</td>\n",
              "      <td>-1.325272</td>\n",
              "      <td>-63.027809</td>\n",
              "      <td>-53.765778</td>\n",
              "      <td>325.364</td>\n",
              "      <td>1</td>\n",
              "      <td>Cc1ccccc1NC(=O)Oc1ccc2c(c1)[C@]1(C)CO[C@@H](C1)O2</td>\n",
              "    </tr>\n",
              "    <tr>\n",
              "      <th>2</th>\n",
              "      <td>CHEMBL205967</td>\n",
              "      <td>CCNC(=O)Oc1ccc2c(c1)[C@]1(C)CO[C@@H](C1)O2</td>\n",
              "      <td>2420.0</td>\n",
              "      <td>0</td>\n",
              "      <td>True</td>\n",
              "      <td>&lt;rdkit.DataStructs.cDataStructs.ExplicitBitVec...</td>\n",
              "      <td>&lt;rdkit.Chem.rdchem.Mol object at 0x7bcfd8e88270&gt;</td>\n",
              "      <td>&lt;rdkit.DataStructs.cDataStructs.ExplicitBitVec...</td>\n",
              "      <td>-1.235565</td>\n",
              "      <td>-1.559108</td>\n",
              "      <td>-61.968063</td>\n",
              "      <td>-54.078575</td>\n",
              "      <td>263.293</td>\n",
              "      <td>1</td>\n",
              "      <td>CCNC(=O)Oc1ccc2c(c1)[C@]1(C)CO[C@@H](C1)O2</td>\n",
              "    </tr>\n",
              "    <tr>\n",
              "      <th>3</th>\n",
              "      <td>CHEMBL60119</td>\n",
              "      <td>Cc1ccc2c(N)c3c(nc2c1)CCCC3</td>\n",
              "      <td>100.0</td>\n",
              "      <td>1</td>\n",
              "      <td>True</td>\n",
              "      <td>&lt;rdkit.DataStructs.cDataStructs.ExplicitBitVec...</td>\n",
              "      <td>&lt;rdkit.Chem.rdchem.Mol object at 0x7bcfd8e88430&gt;</td>\n",
              "      <td>&lt;rdkit.DataStructs.cDataStructs.ExplicitBitVec...</td>\n",
              "      <td>2.705664</td>\n",
              "      <td>0.148113</td>\n",
              "      <td>57.758297</td>\n",
              "      <td>-8.911607</td>\n",
              "      <td>212.296</td>\n",
              "      <td>4</td>\n",
              "      <td>Cc1ccc2c(N)c3c(nc2c1)CCCC3</td>\n",
              "    </tr>\n",
              "    <tr>\n",
              "      <th>4</th>\n",
              "      <td>CHEMBL294525</td>\n",
              "      <td>CCCCCCCNc1c2c(nc3cc([N+](=O)[O-])ccc13)CCCC2</td>\n",
              "      <td>290.0</td>\n",
              "      <td>1</td>\n",
              "      <td>True</td>\n",
              "      <td>&lt;rdkit.DataStructs.cDataStructs.ExplicitBitVec...</td>\n",
              "      <td>&lt;rdkit.Chem.rdchem.Mol object at 0x7bcfd8e884a0&gt;</td>\n",
              "      <td>&lt;rdkit.DataStructs.cDataStructs.ExplicitBitVec...</td>\n",
              "      <td>3.600017</td>\n",
              "      <td>-0.978574</td>\n",
              "      <td>61.242554</td>\n",
              "      <td>5.783804</td>\n",
              "      <td>341.455</td>\n",
              "      <td>3</td>\n",
              "      <td>CCCCCCCNc1c2c(nc3cc([N+](=O)[O-])ccc13)CCCC2</td>\n",
              "    </tr>\n",
              "  </tbody>\n",
              "</table>\n",
              "</div>\n",
              "    <div class=\"colab-df-buttons\">\n",
              "\n",
              "  <div class=\"colab-df-container\">\n",
              "    <button class=\"colab-df-convert\" onclick=\"convertToInteractive('df-8ae3700d-960d-4ccd-b0ca-393676734341')\"\n",
              "            title=\"Convert this dataframe to an interactive table.\"\n",
              "            style=\"display:none;\">\n",
              "\n",
              "  <svg xmlns=\"http://www.w3.org/2000/svg\" height=\"24px\" viewBox=\"0 -960 960 960\">\n",
              "    <path d=\"M120-120v-720h720v720H120Zm60-500h600v-160H180v160Zm220 220h160v-160H400v160Zm0 220h160v-160H400v160ZM180-400h160v-160H180v160Zm440 0h160v-160H620v160ZM180-180h160v-160H180v160Zm440 0h160v-160H620v160Z\"/>\n",
              "  </svg>\n",
              "    </button>\n",
              "\n",
              "  <style>\n",
              "    .colab-df-container {\n",
              "      display:flex;\n",
              "      gap: 12px;\n",
              "    }\n",
              "\n",
              "    .colab-df-convert {\n",
              "      background-color: #E8F0FE;\n",
              "      border: none;\n",
              "      border-radius: 50%;\n",
              "      cursor: pointer;\n",
              "      display: none;\n",
              "      fill: #1967D2;\n",
              "      height: 32px;\n",
              "      padding: 0 0 0 0;\n",
              "      width: 32px;\n",
              "    }\n",
              "\n",
              "    .colab-df-convert:hover {\n",
              "      background-color: #E2EBFA;\n",
              "      box-shadow: 0px 1px 2px rgba(60, 64, 67, 0.3), 0px 1px 3px 1px rgba(60, 64, 67, 0.15);\n",
              "      fill: #174EA6;\n",
              "    }\n",
              "\n",
              "    .colab-df-buttons div {\n",
              "      margin-bottom: 4px;\n",
              "    }\n",
              "\n",
              "    [theme=dark] .colab-df-convert {\n",
              "      background-color: #3B4455;\n",
              "      fill: #D2E3FC;\n",
              "    }\n",
              "\n",
              "    [theme=dark] .colab-df-convert:hover {\n",
              "      background-color: #434B5C;\n",
              "      box-shadow: 0px 1px 3px 1px rgba(0, 0, 0, 0.15);\n",
              "      filter: drop-shadow(0px 1px 2px rgba(0, 0, 0, 0.3));\n",
              "      fill: #FFFFFF;\n",
              "    }\n",
              "  </style>\n",
              "\n",
              "    <script>\n",
              "      const buttonEl =\n",
              "        document.querySelector('#df-8ae3700d-960d-4ccd-b0ca-393676734341 button.colab-df-convert');\n",
              "      buttonEl.style.display =\n",
              "        google.colab.kernel.accessAllowed ? 'block' : 'none';\n",
              "\n",
              "      async function convertToInteractive(key) {\n",
              "        const element = document.querySelector('#df-8ae3700d-960d-4ccd-b0ca-393676734341');\n",
              "        const dataTable =\n",
              "          await google.colab.kernel.invokeFunction('convertToInteractive',\n",
              "                                                    [key], {});\n",
              "        if (!dataTable) return;\n",
              "\n",
              "        const docLinkHtml = 'Like what you see? Visit the ' +\n",
              "          '<a target=\"_blank\" href=https://colab.research.google.com/notebooks/data_table.ipynb>data table notebook</a>'\n",
              "          + ' to learn more about interactive tables.';\n",
              "        element.innerHTML = '';\n",
              "        dataTable['output_type'] = 'display_data';\n",
              "        await google.colab.output.renderOutput(dataTable, element);\n",
              "        const docLink = document.createElement('div');\n",
              "        docLink.innerHTML = docLinkHtml;\n",
              "        element.appendChild(docLink);\n",
              "      }\n",
              "    </script>\n",
              "  </div>\n",
              "\n",
              "\n",
              "<div id=\"df-65f08833-a2dd-4280-a645-f51a4e62b69f\">\n",
              "  <button class=\"colab-df-quickchart\" onclick=\"quickchart('df-65f08833-a2dd-4280-a645-f51a4e62b69f')\"\n",
              "            title=\"Suggest charts\"\n",
              "            style=\"display:none;\">\n",
              "\n",
              "<svg xmlns=\"http://www.w3.org/2000/svg\" height=\"24px\"viewBox=\"0 0 24 24\"\n",
              "     width=\"24px\">\n",
              "    <g>\n",
              "        <path d=\"M19 3H5c-1.1 0-2 .9-2 2v14c0 1.1.9 2 2 2h14c1.1 0 2-.9 2-2V5c0-1.1-.9-2-2-2zM9 17H7v-7h2v7zm4 0h-2V7h2v10zm4 0h-2v-4h2v4z\"/>\n",
              "    </g>\n",
              "</svg>\n",
              "  </button>\n",
              "\n",
              "<style>\n",
              "  .colab-df-quickchart {\n",
              "      --bg-color: #E8F0FE;\n",
              "      --fill-color: #1967D2;\n",
              "      --hover-bg-color: #E2EBFA;\n",
              "      --hover-fill-color: #174EA6;\n",
              "      --disabled-fill-color: #AAA;\n",
              "      --disabled-bg-color: #DDD;\n",
              "  }\n",
              "\n",
              "  [theme=dark] .colab-df-quickchart {\n",
              "      --bg-color: #3B4455;\n",
              "      --fill-color: #D2E3FC;\n",
              "      --hover-bg-color: #434B5C;\n",
              "      --hover-fill-color: #FFFFFF;\n",
              "      --disabled-bg-color: #3B4455;\n",
              "      --disabled-fill-color: #666;\n",
              "  }\n",
              "\n",
              "  .colab-df-quickchart {\n",
              "    background-color: var(--bg-color);\n",
              "    border: none;\n",
              "    border-radius: 50%;\n",
              "    cursor: pointer;\n",
              "    display: none;\n",
              "    fill: var(--fill-color);\n",
              "    height: 32px;\n",
              "    padding: 0;\n",
              "    width: 32px;\n",
              "  }\n",
              "\n",
              "  .colab-df-quickchart:hover {\n",
              "    background-color: var(--hover-bg-color);\n",
              "    box-shadow: 0 1px 2px rgba(60, 64, 67, 0.3), 0 1px 3px 1px rgba(60, 64, 67, 0.15);\n",
              "    fill: var(--button-hover-fill-color);\n",
              "  }\n",
              "\n",
              "  .colab-df-quickchart-complete:disabled,\n",
              "  .colab-df-quickchart-complete:disabled:hover {\n",
              "    background-color: var(--disabled-bg-color);\n",
              "    fill: var(--disabled-fill-color);\n",
              "    box-shadow: none;\n",
              "  }\n",
              "\n",
              "  .colab-df-spinner {\n",
              "    border: 2px solid var(--fill-color);\n",
              "    border-color: transparent;\n",
              "    border-bottom-color: var(--fill-color);\n",
              "    animation:\n",
              "      spin 1s steps(1) infinite;\n",
              "  }\n",
              "\n",
              "  @keyframes spin {\n",
              "    0% {\n",
              "      border-color: transparent;\n",
              "      border-bottom-color: var(--fill-color);\n",
              "      border-left-color: var(--fill-color);\n",
              "    }\n",
              "    20% {\n",
              "      border-color: transparent;\n",
              "      border-left-color: var(--fill-color);\n",
              "      border-top-color: var(--fill-color);\n",
              "    }\n",
              "    30% {\n",
              "      border-color: transparent;\n",
              "      border-left-color: var(--fill-color);\n",
              "      border-top-color: var(--fill-color);\n",
              "      border-right-color: var(--fill-color);\n",
              "    }\n",
              "    40% {\n",
              "      border-color: transparent;\n",
              "      border-right-color: var(--fill-color);\n",
              "      border-top-color: var(--fill-color);\n",
              "    }\n",
              "    60% {\n",
              "      border-color: transparent;\n",
              "      border-right-color: var(--fill-color);\n",
              "    }\n",
              "    80% {\n",
              "      border-color: transparent;\n",
              "      border-right-color: var(--fill-color);\n",
              "      border-bottom-color: var(--fill-color);\n",
              "    }\n",
              "    90% {\n",
              "      border-color: transparent;\n",
              "      border-bottom-color: var(--fill-color);\n",
              "    }\n",
              "  }\n",
              "</style>\n",
              "\n",
              "  <script>\n",
              "    async function quickchart(key) {\n",
              "      const quickchartButtonEl =\n",
              "        document.querySelector('#' + key + ' button');\n",
              "      quickchartButtonEl.disabled = true;  // To prevent multiple clicks.\n",
              "      quickchartButtonEl.classList.add('colab-df-spinner');\n",
              "      try {\n",
              "        const charts = await google.colab.kernel.invokeFunction(\n",
              "            'suggestCharts', [key], {});\n",
              "      } catch (error) {\n",
              "        console.error('Error during call to suggestCharts:', error);\n",
              "      }\n",
              "      quickchartButtonEl.classList.remove('colab-df-spinner');\n",
              "      quickchartButtonEl.classList.add('colab-df-quickchart-complete');\n",
              "    }\n",
              "    (() => {\n",
              "      let quickchartButtonEl =\n",
              "        document.querySelector('#df-65f08833-a2dd-4280-a645-f51a4e62b69f button');\n",
              "      quickchartButtonEl.style.display =\n",
              "        google.colab.kernel.accessAllowed ? 'block' : 'none';\n",
              "    })();\n",
              "  </script>\n",
              "</div>\n",
              "    </div>\n",
              "  </div>\n"
            ]
          },
          "metadata": {},
          "execution_count": 5
        }
      ],
      "source": [
        "df.head(5)"
      ]
    },
    {
      "cell_type": "code",
      "execution_count": null,
      "metadata": {
        "id": "4ZdkAQ8vmE6-",
        "colab": {
          "base_uri": "https://localhost:8080/"
        },
        "outputId": "0fd19db4-a811-4c79-89cd-9da51b7a67b1"
      },
      "outputs": [
        {
          "output_type": "stream",
          "name": "stdout",
          "text": [
            "0    2330\n",
            "1    1747\n",
            "Name: classLabel, dtype: int64\n"
          ]
        }
      ],
      "source": [
        "# Count the frequency of each label\n",
        "label_counts = df['classLabel'].value_counts()\n",
        "# Print the frequency of labels\n",
        "print(label_counts)"
      ]
    },
    {
      "cell_type": "code",
      "execution_count": null,
      "metadata": {
        "colab": {
          "base_uri": "https://localhost:8080/"
        },
        "id": "2ZAVBsaxXNMB",
        "outputId": "cb2e64f3-fe22-4797-827a-2c92f7f70b3f"
      },
      "outputs": [
        {
          "output_type": "execute_result",
          "data": {
            "text/plain": [
              "(4077, 15)"
            ]
          },
          "metadata": {},
          "execution_count": 7
        }
      ],
      "source": [
        "df.shape"
      ]
    },
    {
      "cell_type": "code",
      "execution_count": null,
      "metadata": {
        "colab": {
          "base_uri": "https://localhost:8080/"
        },
        "id": "bHlR9RBKeC2g",
        "outputId": "d1c1d3fa-4dfb-4209-834c-3a88ca3f5e87"
      },
      "outputs": [
        {
          "output_type": "execute_result",
          "data": {
            "text/plain": [
              "(4077, 15)"
            ]
          },
          "metadata": {},
          "execution_count": 8
        }
      ],
      "source": [
        "df.shape"
      ]
    },
    {
      "cell_type": "code",
      "execution_count": null,
      "metadata": {
        "colab": {
          "base_uri": "https://localhost:8080/"
        },
        "id": "NaVk_pcqXeNY",
        "outputId": "137b53b7-067a-4dde-a1f5-a10e626521ca"
      },
      "outputs": [
        {
          "output_type": "stream",
          "name": "stdout",
          "text": [
            "Requirement already satisfied: deepchem in /usr/local/lib/python3.10/dist-packages (2.7.2.dev20231228190544)\n",
            "Requirement already satisfied: joblib in /usr/local/lib/python3.10/dist-packages (from deepchem) (1.3.2)\n",
            "Requirement already satisfied: numpy>=1.21 in /usr/local/lib/python3.10/dist-packages (from deepchem) (1.23.5)\n",
            "Requirement already satisfied: pandas in /usr/local/lib/python3.10/dist-packages (from deepchem) (1.5.3)\n",
            "Requirement already satisfied: scikit-learn in /usr/local/lib/python3.10/dist-packages (from deepchem) (1.2.2)\n",
            "Requirement already satisfied: sympy in /usr/local/lib/python3.10/dist-packages (from deepchem) (1.12)\n",
            "Requirement already satisfied: scipy>=1.10.1 in /usr/local/lib/python3.10/dist-packages (from deepchem) (1.11.4)\n",
            "Requirement already satisfied: rdkit in /usr/local/lib/python3.10/dist-packages (from deepchem) (2023.9.3)\n",
            "Requirement already satisfied: python-dateutil>=2.8.1 in /usr/local/lib/python3.10/dist-packages (from pandas->deepchem) (2.8.2)\n",
            "Requirement already satisfied: pytz>=2020.1 in /usr/local/lib/python3.10/dist-packages (from pandas->deepchem) (2023.3.post1)\n",
            "Requirement already satisfied: Pillow in /usr/local/lib/python3.10/dist-packages (from rdkit->deepchem) (9.4.0)\n",
            "Requirement already satisfied: threadpoolctl>=2.0.0 in /usr/local/lib/python3.10/dist-packages (from scikit-learn->deepchem) (3.2.0)\n",
            "Requirement already satisfied: mpmath>=0.19 in /usr/local/lib/python3.10/dist-packages (from sympy->deepchem) (1.3.0)\n",
            "Requirement already satisfied: six>=1.5 in /usr/local/lib/python3.10/dist-packages (from python-dateutil>=2.8.1->pandas->deepchem) (1.16.0)\n"
          ]
        }
      ],
      "source": [
        "!pip install --pre deepchem"
      ]
    },
    {
      "cell_type": "code",
      "execution_count": null,
      "metadata": {
        "colab": {
          "base_uri": "https://localhost:8080/"
        },
        "id": "70orG74QXrR3",
        "outputId": "98349f19-aa91-4f62-e373-ab71e152484d"
      },
      "outputs": [
        {
          "output_type": "stream",
          "name": "stdout",
          "text": [
            "Collecting torch-geometric\n",
            "  Downloading torch_geometric-2.4.0-py3-none-any.whl (1.0 MB)\n",
            "\u001b[2K     \u001b[90m━━━━━━━━━━━━━━━━━━━━━━━━━━━━━━━━━━━━━━━━\u001b[0m \u001b[32m1.0/1.0 MB\u001b[0m \u001b[31m6.2 MB/s\u001b[0m eta \u001b[36m0:00:00\u001b[0m\n",
            "\u001b[?25hRequirement already satisfied: tqdm in /usr/local/lib/python3.10/dist-packages (from torch-geometric) (4.66.1)\n",
            "Requirement already satisfied: numpy in /usr/local/lib/python3.10/dist-packages (from torch-geometric) (1.23.5)\n",
            "Requirement already satisfied: scipy in /usr/local/lib/python3.10/dist-packages (from torch-geometric) (1.11.4)\n",
            "Requirement already satisfied: jinja2 in /usr/local/lib/python3.10/dist-packages (from torch-geometric) (3.1.2)\n",
            "Requirement already satisfied: requests in /usr/local/lib/python3.10/dist-packages (from torch-geometric) (2.31.0)\n",
            "Requirement already satisfied: pyparsing in /usr/local/lib/python3.10/dist-packages (from torch-geometric) (3.1.1)\n",
            "Requirement already satisfied: scikit-learn in /usr/local/lib/python3.10/dist-packages (from torch-geometric) (1.2.2)\n",
            "Requirement already satisfied: psutil>=5.8.0 in /usr/local/lib/python3.10/dist-packages (from torch-geometric) (5.9.5)\n",
            "Requirement already satisfied: MarkupSafe>=2.0 in /usr/local/lib/python3.10/dist-packages (from jinja2->torch-geometric) (2.1.3)\n",
            "Requirement already satisfied: charset-normalizer<4,>=2 in /usr/local/lib/python3.10/dist-packages (from requests->torch-geometric) (3.3.2)\n",
            "Requirement already satisfied: idna<4,>=2.5 in /usr/local/lib/python3.10/dist-packages (from requests->torch-geometric) (3.6)\n",
            "Requirement already satisfied: urllib3<3,>=1.21.1 in /usr/local/lib/python3.10/dist-packages (from requests->torch-geometric) (2.0.7)\n",
            "Requirement already satisfied: certifi>=2017.4.17 in /usr/local/lib/python3.10/dist-packages (from requests->torch-geometric) (2023.11.17)\n",
            "Requirement already satisfied: joblib>=1.1.1 in /usr/local/lib/python3.10/dist-packages (from scikit-learn->torch-geometric) (1.3.2)\n",
            "Requirement already satisfied: threadpoolctl>=2.0.0 in /usr/local/lib/python3.10/dist-packages (from scikit-learn->torch-geometric) (3.2.0)\n",
            "Installing collected packages: torch-geometric\n",
            "Successfully installed torch-geometric-2.4.0\n"
          ]
        }
      ],
      "source": [
        "!pip install torch-geometric"
      ]
    },
    {
      "cell_type": "code",
      "source": [
        "!pip install dgl transformers"
      ],
      "metadata": {
        "colab": {
          "base_uri": "https://localhost:8080/"
        },
        "id": "nfngLFNRwAc4",
        "outputId": "b3c3904b-f9f9-477d-b61b-96bda4c3622d"
      },
      "execution_count": null,
      "outputs": [
        {
          "output_type": "stream",
          "name": "stdout",
          "text": [
            "Collecting dgl\n",
            "  Downloading dgl-1.1.3-cp310-cp310-manylinux1_x86_64.whl (6.5 MB)\n",
            "\u001b[2K     \u001b[90m━━━━━━━━━━━━━━━━━━━━━━━━━━━━━━━━━━━━━━━━\u001b[0m \u001b[32m6.5/6.5 MB\u001b[0m \u001b[31m38.2 MB/s\u001b[0m eta \u001b[36m0:00:00\u001b[0m\n",
            "\u001b[?25hRequirement already satisfied: transformers in /usr/local/lib/python3.10/dist-packages (4.35.2)\n",
            "Requirement already satisfied: numpy>=1.14.0 in /usr/local/lib/python3.10/dist-packages (from dgl) (1.23.5)\n",
            "Requirement already satisfied: scipy>=1.1.0 in /usr/local/lib/python3.10/dist-packages (from dgl) (1.11.4)\n",
            "Requirement already satisfied: networkx>=2.1 in /usr/local/lib/python3.10/dist-packages (from dgl) (3.2.1)\n",
            "Requirement already satisfied: requests>=2.19.0 in /usr/local/lib/python3.10/dist-packages (from dgl) (2.31.0)\n",
            "Requirement already satisfied: tqdm in /usr/local/lib/python3.10/dist-packages (from dgl) (4.66.1)\n",
            "Requirement already satisfied: psutil>=5.8.0 in /usr/local/lib/python3.10/dist-packages (from dgl) (5.9.5)\n",
            "Requirement already satisfied: filelock in /usr/local/lib/python3.10/dist-packages (from transformers) (3.13.1)\n",
            "Requirement already satisfied: huggingface-hub<1.0,>=0.16.4 in /usr/local/lib/python3.10/dist-packages (from transformers) (0.20.1)\n",
            "Requirement already satisfied: packaging>=20.0 in /usr/local/lib/python3.10/dist-packages (from transformers) (23.2)\n",
            "Requirement already satisfied: pyyaml>=5.1 in /usr/local/lib/python3.10/dist-packages (from transformers) (6.0.1)\n",
            "Requirement already satisfied: regex!=2019.12.17 in /usr/local/lib/python3.10/dist-packages (from transformers) (2023.6.3)\n",
            "Requirement already satisfied: tokenizers<0.19,>=0.14 in /usr/local/lib/python3.10/dist-packages (from transformers) (0.15.0)\n",
            "Requirement already satisfied: safetensors>=0.3.1 in /usr/local/lib/python3.10/dist-packages (from transformers) (0.4.1)\n",
            "Requirement already satisfied: fsspec>=2023.5.0 in /usr/local/lib/python3.10/dist-packages (from huggingface-hub<1.0,>=0.16.4->transformers) (2023.6.0)\n",
            "Requirement already satisfied: typing-extensions>=3.7.4.3 in /usr/local/lib/python3.10/dist-packages (from huggingface-hub<1.0,>=0.16.4->transformers) (4.5.0)\n",
            "Requirement already satisfied: charset-normalizer<4,>=2 in /usr/local/lib/python3.10/dist-packages (from requests>=2.19.0->dgl) (3.3.2)\n",
            "Requirement already satisfied: idna<4,>=2.5 in /usr/local/lib/python3.10/dist-packages (from requests>=2.19.0->dgl) (3.6)\n",
            "Requirement already satisfied: urllib3<3,>=1.21.1 in /usr/local/lib/python3.10/dist-packages (from requests>=2.19.0->dgl) (2.0.7)\n",
            "Requirement already satisfied: certifi>=2017.4.17 in /usr/local/lib/python3.10/dist-packages (from requests>=2.19.0->dgl) (2023.11.17)\n",
            "Installing collected packages: dgl\n",
            "Successfully installed dgl-1.1.3\n"
          ]
        }
      ]
    },
    {
      "cell_type": "code",
      "execution_count": null,
      "metadata": {
        "id": "00wP9fFdwydW",
        "colab": {
          "base_uri": "https://localhost:8080/"
        },
        "outputId": "dc0ddaef-c78c-4ea0-d863-bc05c08e5ee9"
      },
      "outputs": [
        {
          "output_type": "stream",
          "name": "stderr",
          "text": [
            "DGL backend not selected or invalid.  Assuming PyTorch for now.\n"
          ]
        },
        {
          "output_type": "stream",
          "name": "stdout",
          "text": [
            "Setting the default backend to \"pytorch\". You can change it in the ~/.dgl/config.json file or export the DGLBACKEND environment variable.  Valid options are: pytorch, mxnet, tensorflow (all lowercase)\n"
          ]
        }
      ],
      "source": [
        "import deepchem as dc\n",
        "from deepchem.models.torch_models import GATModel\n",
        "import matplotlib.pyplot as plt"
      ]
    },
    {
      "cell_type": "markdown",
      "source": [
        "##MolGraphConv Featurization"
      ],
      "metadata": {
        "id": "JRJ4T4y-U-PQ"
      }
    },
    {
      "cell_type": "code",
      "execution_count": null,
      "metadata": {
        "id": "axNIalf2Y55k"
      },
      "outputs": [],
      "source": [
        "import deepchem as dc\n",
        "import pandas as pd\n",
        "from rdkit import Chem\n",
        "from deepchem.feat import ConvMolFeaturizer\n",
        "\n",
        "featurizer = dc.feat.MolGraphConvFeaturizer(use_edges=True)\n",
        "\n",
        "# Featurize the SMILES column\n",
        "features = featurizer.featurize(df['cleanedMol'].tolist())\n",
        "\n",
        "# Extract the target values from the DataFrame\n",
        "targets = df['classLabel'].tolist()\n",
        "\n",
        "# Create a DeepChem dataset from the features and targets\n",
        "dataset = dc.data.NumpyDataset(features, targets)\n",
        "\n",
        "# Split the dataset into training, validation, and test sets\n",
        "splitter = dc.splits.RandomSplitter()\n",
        "import deepchem as dc\n",
        "splitter = dc.splits.RandomSplitter()\n",
        "train_frac = 0.7\n",
        "valid_frac = 0.15\n",
        "test_frac = 0.15\n",
        "\n",
        "# Use the splitter to split the dataset\n",
        "train_dataset, valid_dataset, test_dataset = splitter.train_valid_test_split(\n",
        "    dataset, frac_train=train_frac, frac_valid=valid_frac, frac_test=test_frac\n",
        ")\n"
      ]
    },
    {
      "cell_type": "code",
      "source": [
        "train_smiles = train_dataset.ids\n",
        "val_smiles = valid_dataset.ids"
      ],
      "metadata": {
        "id": "vGTLsOyUtxIq"
      },
      "execution_count": null,
      "outputs": []
    },
    {
      "cell_type": "code",
      "source": [
        "train_smiles"
      ],
      "metadata": {
        "colab": {
          "base_uri": "https://localhost:8080/"
        },
        "id": "LuRlzXnOSuNt",
        "outputId": "583b062b-26ba-4433-af83-73c001a16ec5"
      },
      "execution_count": null,
      "outputs": [
        {
          "output_type": "execute_result",
          "data": {
            "text/plain": [
              "array([261, 820, 2961, ..., 1543, 1191, 2337], dtype=object)"
            ]
          },
          "metadata": {},
          "execution_count": 15
        }
      ]
    },
    {
      "cell_type": "code",
      "source": [
        "!pip install dgllife"
      ],
      "metadata": {
        "colab": {
          "base_uri": "https://localhost:8080/"
        },
        "id": "v23m_NLlKgHh",
        "outputId": "100626d5-2253-49ed-8da5-d390d5e49294"
      },
      "execution_count": null,
      "outputs": [
        {
          "output_type": "stream",
          "name": "stdout",
          "text": [
            "Collecting dgllife\n",
            "  Downloading dgllife-0.3.2-py3-none-any.whl (226 kB)\n",
            "\u001b[?25l     \u001b[90m━━━━━━━━━━━━━━━━━━━━━━━━━━━━━━━━━━━━━━━━\u001b[0m \u001b[32m0.0/226.1 kB\u001b[0m \u001b[31m?\u001b[0m eta \u001b[36m-:--:--\u001b[0m\r\u001b[2K     \u001b[91m━━━━━━━━━━\u001b[0m\u001b[91m╸\u001b[0m\u001b[90m━━━━━━━━━━━━━━━━━━━━━━━━━━━━━\u001b[0m \u001b[32m61.4/226.1 kB\u001b[0m \u001b[31m1.8 MB/s\u001b[0m eta \u001b[36m0:00:01\u001b[0m\r\u001b[2K     \u001b[90m━━━━━━━━━━━━━━━━━━━━━━━━━━━━━━━━━━━━━━━━\u001b[0m \u001b[32m226.1/226.1 kB\u001b[0m \u001b[31m3.9 MB/s\u001b[0m eta \u001b[36m0:00:00\u001b[0m\n",
            "\u001b[?25hRequirement already satisfied: scikit-learn>=0.22.2 in /usr/local/lib/python3.10/dist-packages (from dgllife) (1.2.2)\n",
            "Requirement already satisfied: pandas in /usr/local/lib/python3.10/dist-packages (from dgllife) (1.5.3)\n",
            "Requirement already satisfied: requests>=2.22.0 in /usr/local/lib/python3.10/dist-packages (from dgllife) (2.31.0)\n",
            "Requirement already satisfied: tqdm in /usr/local/lib/python3.10/dist-packages (from dgllife) (4.66.1)\n",
            "Requirement already satisfied: numpy>=1.14.0 in /usr/local/lib/python3.10/dist-packages (from dgllife) (1.23.5)\n",
            "Requirement already satisfied: scipy>=1.1.0 in /usr/local/lib/python3.10/dist-packages (from dgllife) (1.11.4)\n",
            "Requirement already satisfied: networkx>=2.1 in /usr/local/lib/python3.10/dist-packages (from dgllife) (3.2.1)\n",
            "Requirement already satisfied: hyperopt in /usr/local/lib/python3.10/dist-packages (from dgllife) (0.2.7)\n",
            "Requirement already satisfied: joblib in /usr/local/lib/python3.10/dist-packages (from dgllife) (1.3.2)\n",
            "Requirement already satisfied: charset-normalizer<4,>=2 in /usr/local/lib/python3.10/dist-packages (from requests>=2.22.0->dgllife) (3.3.2)\n",
            "Requirement already satisfied: idna<4,>=2.5 in /usr/local/lib/python3.10/dist-packages (from requests>=2.22.0->dgllife) (3.6)\n",
            "Requirement already satisfied: urllib3<3,>=1.21.1 in /usr/local/lib/python3.10/dist-packages (from requests>=2.22.0->dgllife) (2.0.7)\n",
            "Requirement already satisfied: certifi>=2017.4.17 in /usr/local/lib/python3.10/dist-packages (from requests>=2.22.0->dgllife) (2023.11.17)\n",
            "Requirement already satisfied: threadpoolctl>=2.0.0 in /usr/local/lib/python3.10/dist-packages (from scikit-learn>=0.22.2->dgllife) (3.2.0)\n",
            "Requirement already satisfied: six in /usr/local/lib/python3.10/dist-packages (from hyperopt->dgllife) (1.16.0)\n",
            "Requirement already satisfied: future in /usr/local/lib/python3.10/dist-packages (from hyperopt->dgllife) (0.18.3)\n",
            "Requirement already satisfied: cloudpickle in /usr/local/lib/python3.10/dist-packages (from hyperopt->dgllife) (2.2.1)\n",
            "Requirement already satisfied: py4j in /usr/local/lib/python3.10/dist-packages (from hyperopt->dgllife) (0.10.9.7)\n",
            "Requirement already satisfied: python-dateutil>=2.8.1 in /usr/local/lib/python3.10/dist-packages (from pandas->dgllife) (2.8.2)\n",
            "Requirement already satisfied: pytz>=2020.1 in /usr/local/lib/python3.10/dist-packages (from pandas->dgllife) (2023.3.post1)\n",
            "Installing collected packages: dgllife\n",
            "Successfully installed dgllife-0.3.2\n"
          ]
        }
      ]
    },
    {
      "cell_type": "code",
      "source": [
        "!pip install dgl"
      ],
      "metadata": {
        "colab": {
          "base_uri": "https://localhost:8080/"
        },
        "id": "6XVhjKBALacI",
        "outputId": "6885998b-7c87-40f3-801f-963c3ecb5402"
      },
      "execution_count": null,
      "outputs": [
        {
          "output_type": "stream",
          "name": "stdout",
          "text": [
            "Requirement already satisfied: dgl in /usr/local/lib/python3.10/dist-packages (1.1.3)\n",
            "Requirement already satisfied: numpy>=1.14.0 in /usr/local/lib/python3.10/dist-packages (from dgl) (1.23.5)\n",
            "Requirement already satisfied: scipy>=1.1.0 in /usr/local/lib/python3.10/dist-packages (from dgl) (1.11.4)\n",
            "Requirement already satisfied: networkx>=2.1 in /usr/local/lib/python3.10/dist-packages (from dgl) (3.2.1)\n",
            "Requirement already satisfied: requests>=2.19.0 in /usr/local/lib/python3.10/dist-packages (from dgl) (2.31.0)\n",
            "Requirement already satisfied: tqdm in /usr/local/lib/python3.10/dist-packages (from dgl) (4.66.1)\n",
            "Requirement already satisfied: psutil>=5.8.0 in /usr/local/lib/python3.10/dist-packages (from dgl) (5.9.5)\n",
            "Requirement already satisfied: charset-normalizer<4,>=2 in /usr/local/lib/python3.10/dist-packages (from requests>=2.19.0->dgl) (3.3.2)\n",
            "Requirement already satisfied: idna<4,>=2.5 in /usr/local/lib/python3.10/dist-packages (from requests>=2.19.0->dgl) (3.6)\n",
            "Requirement already satisfied: urllib3<3,>=1.21.1 in /usr/local/lib/python3.10/dist-packages (from requests>=2.19.0->dgl) (2.0.7)\n",
            "Requirement already satisfied: certifi>=2017.4.17 in /usr/local/lib/python3.10/dist-packages (from requests>=2.19.0->dgl) (2023.11.17)\n"
          ]
        }
      ]
    },
    {
      "cell_type": "code",
      "source": [
        "import torch\n",
        "# Check if CUDA is available\n",
        "if torch.cuda.is_available():\n",
        "    # Print CUDA version\n",
        "    print(f\"CUDA Version: {torch.version.cuda}\")\n",
        "else:\n",
        "    print(\"CUDA is not available on this system.\")\n"
      ],
      "metadata": {
        "colab": {
          "base_uri": "https://localhost:8080/"
        },
        "id": "niPS9FKO4lsI",
        "outputId": "4ac16c61-ab5e-49bf-a8bc-ec2e789b5eae"
      },
      "execution_count": null,
      "outputs": [
        {
          "output_type": "stream",
          "name": "stdout",
          "text": [
            "CUDA is not available on this system.\n"
          ]
        }
      ]
    },
    {
      "cell_type": "code",
      "source": [
        "import sklearn\n",
        "print(sklearn.__version__)"
      ],
      "metadata": {
        "colab": {
          "base_uri": "https://localhost:8080/"
        },
        "id": "4ypr9-V5D2NE",
        "outputId": "56afbd1d-ab3b-4410-fddd-2f5ce5516b23"
      },
      "execution_count": null,
      "outputs": [
        {
          "output_type": "stream",
          "name": "stdout",
          "text": [
            "1.2.2\n"
          ]
        }
      ]
    },
    {
      "cell_type": "markdown",
      "source": [
        "## Message Passing Neural Network Modeling with hyperparameter optimization\n"
      ],
      "metadata": {
        "id": "OUfD5qTnBzsJ"
      }
    },
    {
      "cell_type": "code",
      "source": [
        "import deepchem as dc\n",
        "from deepchem.models.torch_models import MPNNModel\n",
        "# training model\n",
        "model = MPNNModel(mode='classification', n_tasks=1,\n",
        "                 batch_size=16, learning_rate=0.001)\n",
        "loss =  model.fit(train_dataset, nb_epoch=5)\n"
      ],
      "metadata": {
        "id": "OBf1Z05Ts2yd"
      },
      "execution_count": null,
      "outputs": []
    },
    {
      "cell_type": "code",
      "source": [
        "%%time\n",
        "from sklearn.model_selection import RandomizedSearchCV\n",
        "import deepchem as dc\n",
        "\n",
        "# Define a function to create and train the GATModel\n",
        "def create_and_train_gat_model(train_dataset, n_tasks, batch_size, learning_rate, nb_epoch):\n",
        "    model = GATModel(n_tasks=n_tasks, mode='classification', device='cpu', batch_size=batch_size,\n",
        "                     learning_rate=learning_rate)\n",
        "    model.fit(train_dataset, nb_epoch=nb_epoch)\n",
        "    return model\n",
        "\n",
        "# hyperparameter search space\n",
        "param_dist = {\n",
        "    'n_tasks': [1],\n",
        "    'batch_size': [8, 16, 32],\n",
        "    'learning_rate': [0.0001, 0.001, 0.01],\n",
        "    'nb_epoch': [5, 10, 20]\n",
        "}\n",
        "\n",
        "metric = dc.metrics.Metric(dc.metrics.roc_auc_score)\n",
        "\n",
        "# model_builder function\n",
        "def model_builder(**model_params):\n",
        "    n_tasks = model_params['n_tasks']\n",
        "    batch_size = model_params['batch_size']\n",
        "    learning_rate = model_params['learning_rate']\n",
        "    nb_epoch = model_params['nb_epoch']\n",
        "\n",
        "    return create_and_train_gat_model(train_dataset, n_tasks, batch_size, learning_rate, nb_epoch)\n",
        "\n",
        "# Create an optimizer and perform hyperparameter search\n",
        "optimizer = dc.hyper.GridHyperparamOpt(model_builder)\n",
        "best_model, best_hyperparams, all_results = optimizer.hyperparam_search(param_dist, train_dataset, test_dataset, metric)\n",
        "\n",
        "# Print the best hyperparameters\n",
        "print(\"Best Hyperparameters:\", best_hyperparams)\n"
      ],
      "metadata": {
        "colab": {
          "base_uri": "https://localhost:8080/"
        },
        "id": "4yEdQqXG4tl_",
        "outputId": "33088a49-f658-4ff3-b9a5-98482505f228"
      },
      "execution_count": null,
      "outputs": [
        {
          "output_type": "stream",
          "name": "stdout",
          "text": [
            "Best Hyperparameters: {'n_tasks': 1, 'batch_size': 8, 'learning_rate': 0.01, 'nb_epoch': 20}\n",
            "CPU times: user 34min 36s, sys: 9.82 s, total: 34min 46s\n",
            "Wall time: 35min 53s\n"
          ]
        }
      ]
    },
    {
      "cell_type": "markdown",
      "source": [
        "## Evaluation of best MPNN model"
      ],
      "metadata": {
        "id": "d2I_chv6CckW"
      }
    },
    {
      "cell_type": "code",
      "execution_count": null,
      "metadata": {
        "colab": {
          "base_uri": "https://localhost:8080/"
        },
        "id": "nVII4f2Mw7JB",
        "outputId": "65888d39-85f7-4c01-cb54-7ffbf7b3c436"
      },
      "outputs": [
        {
          "output_type": "stream",
          "name": "stdout",
          "text": [
            "Available keys in train_scores: dict_keys(['roc_auc_score'])\n",
            "Training set ROC AUC score: 0.9108372359322929\n",
            "Available keys in test_scores: dict_keys(['roc_auc_score'])\n",
            "Test set ROC AUC score: 0.891198917872696\n"
          ]
        }
      ],
      "source": [
        "import deepchem as dc\n",
        "\n",
        "# Define the roc_auc_score metric\n",
        "roc_auc_metric = dc.metrics.Metric(dc.metrics.roc_auc_score)\n",
        "\n",
        "# Evaluate the model on the training dataset\n",
        "train_scores = best_model.evaluate(train_dataset, [roc_auc_metric])\n",
        "\n",
        "# Print available keys in the train_scores dictionary\n",
        "print(\"Available keys in train_scores:\", train_scores.keys())\n",
        "\n",
        "# Access the ROC AUC score using the correct key\n",
        "roc_auc_train_score = train_scores[roc_auc_metric.name]\n",
        "\n",
        "print('Training set ROC AUC score:', roc_auc_train_score)\n",
        "\n",
        "# Evaluate the model on the test dataset\n",
        "test_scores = best_model.evaluate(test_dataset, [roc_auc_metric])\n",
        "\n",
        "# Print available keys in the test_scores dictionary\n",
        "print(\"Available keys in test_scores:\", test_scores.keys())\n",
        "\n",
        "# Access the ROC AUC score using the correct key\n",
        "roc_auc_test_score = test_scores[roc_auc_metric.name]\n",
        "\n",
        "print('Test set ROC AUC score:', roc_auc_test_score)\n"
      ]
    },
    {
      "cell_type": "code",
      "execution_count": null,
      "metadata": {
        "colab": {
          "base_uri": "https://localhost:8080/",
          "height": 686
        },
        "id": "sdNHkjsghKuL",
        "outputId": "61d5cc24-1c9f-4e04-964c-8e3c3fd53336"
      },
      "outputs": [
        {
          "output_type": "display_data",
          "data": {
            "text/plain": [
              "<Figure size 800x600 with 1 Axes>"
            ],
            "image/png": "[encoded data removed]"
          },
          "metadata": {}
        },
        {
          "output_type": "stream",
          "name": "stdout",
          "text": [
            "Confusion Matrix:\n",
            "[[329  29]\n",
            " [ 79 175]]\n",
            "Accuracy: 0.82\n",
            "Precision: 0.86\n",
            "Recall: 0.69\n",
            "F1 Score: 0.76\n"
          ]
        }
      ],
      "source": [
        "import deepchem as dc\n",
        "import tensorflow as tf\n",
        "import numpy as np\n",
        "import matplotlib.pyplot as plt\n",
        "from sklearn.metrics import roc_curve, auc, confusion_matrix, accuracy_score, precision_score, recall_score, f1_score\n",
        "\n",
        "# Make predictions on the test dataset\n",
        "y_true = test_dataset.y.ravel()  # Flatten y_true to a 1D array\n",
        "y_pred = best_model.predict(test_dataset).reshape(-1, 2)  # Reshape y_pred to (num_samples, num_classes)\n",
        "\n",
        "y_pred_positive = y_pred[:, 1]\n",
        "\n",
        "# Calculate the ROC curve\n",
        "fpr, tpr, _ = roc_curve(y_true, y_pred_positive)\n",
        "\n",
        "# Calculate the AUC (Area Under the Curve)\n",
        "roc_auc = auc(fpr, tpr)\n",
        "\n",
        "# Calculate the confusion matrix\n",
        "y_pred_binary = np.argmax(y_pred, axis=1)  # Convert probabilities to binary predictions\n",
        "conf_matrix = confusion_matrix(y_true, y_pred_binary)\n",
        "\n",
        "# Calculate other evaluation metrics\n",
        "accuracy = accuracy_score(y_true, y_pred_binary)\n",
        "precision = precision_score(y_true, y_pred_binary)\n",
        "recall = recall_score(y_true, y_pred_binary)\n",
        "f1 = f1_score(y_true, y_pred_binary)\n",
        "\n",
        "# Plot the ROC curve\n",
        "plt.figure(figsize=(8, 6))\n",
        "plt.plot(fpr, tpr, color='darkorange', lw=2, label=f'ROC curve (area = {roc_auc:.2f})')\n",
        "plt.plot([0, 1], [0, 1], color='navy', lw=2, linestyle='--')\n",
        "plt.xlim([0.0, 1.0])\n",
        "plt.ylim([0.0, 1.05])\n",
        "plt.xlabel('False Positive Rate')\n",
        "plt.ylabel('True Positive Rate')\n",
        "plt.title('Receiver Operating Characteristic (ROC) Curve')\n",
        "plt.legend(loc='lower right')\n",
        "plt.grid(True)\n",
        "plt.show()\n",
        "\n",
        "# Print the confusion matrix and other evaluation metrics\n",
        "print(\"Confusion Matrix:\")\n",
        "print(conf_matrix)\n",
        "print(f\"Accuracy: {accuracy:.2f}\")\n",
        "print(f\"Precision: {precision:.2f}\")\n",
        "print(f\"Recall: {recall:.2f}\")\n",
        "print(f\"F1 Score: {f1:.2f}\")\n"
      ]
    },
    {
      "cell_type": "code",
      "source": [
        "# Make predictions on the test dataset\n",
        "y_true_valid = valid_dataset.y.ravel()  # Flatten y_true to a 1D array\n",
        "y_pred_valid = best_model.predict(valid_dataset).reshape(-1, 2)  # Reshape y_pred to (num_samples, num_classes)\n",
        "y_pred_binary_valid = np.argmax(y_pred_valid, axis=1)  # Convert probabilities to binary predictions\n",
        "valid_accuracy = accuracy_score(y_true_valid, y_pred_binary_valid)\n",
        "valid_accuracy"
      ],
      "metadata": {
        "colab": {
          "base_uri": "https://localhost:8080/"
        },
        "id": "NeQhqCXPqxVU",
        "outputId": "d6ecbb2a-512c-4a23-871d-24462d1a1680"
      },
      "execution_count": null,
      "outputs": [
        {
          "output_type": "execute_result",
          "data": {
            "text/plain": [
              "0.7571115973741794"
            ]
          },
          "metadata": {},
          "execution_count": 50
        }
      ]
    },
    {
      "cell_type": "code",
      "source": [
        "import deepchem as dc\n",
        "\n",
        "# Define the roc_auc_score metric\n",
        "roc_auc_metric = dc.metrics.Metric(dc.metrics.roc_auc_score)\n",
        "\n",
        "matthew_coff= dc.metrics.Metric(dc.metrics.matthews_corrcoef)\n",
        "matthew_coff=best_model.evaluate(test_dataset, [matthew_coff])\n",
        "# Evaluate the model on the training dataset\n",
        "kappa_score= dc.metrics.Metric(dc.metrics.kappa_score)\n",
        "kappa_score=best_model.evaluate(test_dataset, [kappa_score])\n",
        "\n",
        "train_scores = best_model.evaluate(train_dataset, [roc_auc_metric])\n",
        "\n",
        "precision_score= dc.metrics.Metric(dc.metrics.precision_score)\n",
        "# Print available keys in the train_scores dictionary\n",
        "print(\"Available keys in train_scores:\", train_scores.keys())\n",
        "\n",
        "# Access the ROC AUC score using the correct key\n",
        "roc_auc_train_score = train_scores[roc_auc_metric.name]\n",
        "\n",
        "print('Training set ROC AUC score:', roc_auc_train_score)\n",
        "\n",
        "# Evaluate the model on the test dataset\n",
        "test_scores = best_model.evaluate(test_dataset, [roc_auc_metric])\n",
        "\n",
        "# Print available keys in the test_scores dictionary\n",
        "print(\"Available keys in test_scores:\", test_scores.keys())\n",
        "\n",
        "# Access the ROC AUC score using the correct key\n",
        "roc_auc_test_score = test_scores[roc_auc_metric.name]\n",
        "\n",
        "print('Test set ROC AUC score:', roc_auc_test_score)\n",
        "print ('The mathew coefficient is:',matthew_coff)\n",
        "print('The kappa score is:',kappa_score )\n",
        "print('Precision score is:',precision_score )\n"
      ],
      "metadata": {
        "colab": {
          "base_uri": "https://localhost:8080/"
        },
        "id": "LKCTmlb7q_j0",
        "outputId": "a32b1eab-1347-461d-d2e6-2822875f4d89"
      },
      "execution_count": null,
      "outputs": [
        {
          "output_type": "stream",
          "name": "stdout",
          "text": [
            "Available keys in train_scores: dict_keys(['roc_auc_score'])\n",
            "Training set ROC AUC score: 0.9108372359322929\n",
            "Available keys in test_scores: dict_keys(['roc_auc_score'])\n",
            "Test set ROC AUC score: 0.891198917872696\n",
            "The mathew coefficient is: {'matthews_corrcoef': 0.6354712711196491}\n",
            "The kappa score is: {'cohen_kappa_score': 0.625866050808314}\n",
            "Precision score is: <deepchem.metrics.metric.Metric object at 0x7d93ad6d3670>\n"
          ]
        }
      ]
    },
    {
      "cell_type": "markdown",
      "metadata": {
        "id": "t1HitJk24Yvt"
      },
      "source": [
        "## Cross species evaluation"
      ]
    },
    {
      "cell_type": "markdown",
      "metadata": {
        "id": "8eK0FybP72kB"
      },
      "source": [
        "### Upload and prep for species datasets\n",
        "Species datasets: eel (CHEMBL4078), cow (CHEMBL4768), mouse (CHEMBL3199), ray (CHEMBL4780), mosquito (CHEMBL2046266), mouse (CHEMBL3198), and independent  human dataset containing molecules not present on  ChEMBL22  were obtained from Vignaux et al(2023) for validation and specificity inferences."
      ]
    },
    {
      "cell_type": "code",
      "source": [
        "df_humanIndependent=pd.read_excel('/content/drive/MyDrive/Predictive Generative transfer learning/TransferAll/CleanedTestDatasetSmiles/df_humanIndependent.xlsx')\n",
        "df_eel=pd.read_excel('/content/drive/MyDrive/Predictive Generative transfer learning/TransferAll/CleanedTestDatasetSmiles/df_eel.xlsx')\n",
        "df_mouse=pd.read_excel('/content/drive/MyDrive/Predictive Generative transfer learning/TransferAll/CleanedTestDatasetSmiles/df_mouse.xlsx')\n",
        "df_cow=pd.read_excel('/content/drive/MyDrive/Predictive Generative transfer learning/TransferAll/CleanedTestDatasetSmiles/df_cow.xlsx')\n",
        "df_ray=pd.read_excel('/content/drive/MyDrive/Predictive Generative transfer learning/TransferAll/CleanedTestDatasetSmiles/df_ray.xlsx')\n",
        "df_mosquito=pd.read_excel('/content/drive/MyDrive/Predictive Generative transfer learning/TransferAll/CleanedTestDatasetSmiles/df_mouse.xlsx')"
      ],
      "metadata": {
        "id": "iVw6osf7FMk_"
      },
      "execution_count": null,
      "outputs": []
    },
    {
      "cell_type": "code",
      "source": [
        "df_humanIndependent.to_csv('inhibitor_HumanIndependent.csv', index=False)\n",
        "df_eel.to_csv('inhibitor_eel.csv', index=False)\n",
        "df_mouse.to_csv('inhibitor_mouse.csv', index=False)\n",
        "df_cow.to_csv('inhibitor_cow.csv', index=False)\n",
        "df_ray.to_csv('inhibitor_ray.csv', index=False)\n",
        "df_mosquito.to_csv('inhibitor_mosquito.csv', index=False)"
      ],
      "metadata": {
        "id": "rzMuGw8uGWGj"
      },
      "execution_count": null,
      "outputs": []
    },
    {
      "cell_type": "markdown",
      "source": [
        "### human"
      ],
      "metadata": {
        "id": "J51cqHOoC8Pv"
      }
    },
    {
      "cell_type": "code",
      "source": [
        "# Define the ConvMolFeaturizer\n",
        "featurizer = dc.feat.MolGraphConvFeaturizer()\n",
        "# Featurize the SMILES column\n",
        "features = featurizer.featurize(df_humanIndependent['cleanedMol'].tolist())\n",
        "\n",
        "# Extract the target values from the DataFrame\n",
        "targets = df_humanIndependent['binary_activities'].tolist()\n",
        "\n",
        "# Create a DeepChem dataset from the features and targets\n",
        "dataset_humanIndependent= dc.data.NumpyDataset(features, targets)"
      ],
      "metadata": {
        "id": "UxghAVgTGWGl"
      },
      "execution_count": null,
      "outputs": []
    },
    {
      "cell_type": "markdown",
      "source": [
        "### eel"
      ],
      "metadata": {
        "id": "Yt0Fjaa5Jiy_"
      }
    },
    {
      "cell_type": "code",
      "source": [
        "\n",
        "# Define the ConvMolFeaturizer\n",
        "featurizer = dc.feat.MolGraphConvFeaturizer()\n",
        "\n",
        "# Featurize the SMILES column\n",
        "features = featurizer.featurize(df_eel['cleanedMol'].tolist())\n",
        "\n",
        "# Extract the target values from the DataFrame\n",
        "targets = df_eel['single-class-label'].tolist()\n",
        "\n",
        "# Create a DeepChem dataset from the features and targets\n",
        "dataset_eel= dc.data.NumpyDataset(features, targets)"
      ],
      "metadata": {
        "id": "FpxXsBEMHNVo"
      },
      "execution_count": null,
      "outputs": []
    },
    {
      "cell_type": "markdown",
      "source": [
        "### cow"
      ],
      "metadata": {
        "id": "mPaqMGiBDCIp"
      }
    },
    {
      "cell_type": "code",
      "source": [
        "\n",
        "# Define the ConvMolFeaturizer\n",
        "featurizer = dc.feat.MolGraphConvFeaturizer()\n",
        "\n",
        "# Featurize the SMILES column\n",
        "features = featurizer.featurize(df_cow['cleanedMol'].tolist())\n",
        "\n",
        "# Extract the target values from the DataFrame\n",
        "targets = df_cow['single-class-label'].tolist()\n",
        "\n",
        "# Create a DeepChem dataset from the features and targets\n",
        "dataset_cow= dc.data.NumpyDataset(features, targets)\n"
      ],
      "metadata": {
        "id": "F8ZjO5vmHOCv"
      },
      "execution_count": null,
      "outputs": []
    },
    {
      "cell_type": "markdown",
      "source": [
        "### mosquito"
      ],
      "metadata": {
        "id": "0ueMNCcGDEZo"
      }
    },
    {
      "cell_type": "code",
      "source": [
        "# Define the ConvMolFeaturizer\n",
        "featurizer = dc.feat.MolGraphConvFeaturizer()\n",
        "\n",
        "# Featurize the SMILES column\n",
        "features = featurizer.featurize(df_mosquito['cleanedMol'].tolist())\n",
        "\n",
        "# Extract the target values from the DataFrame\n",
        "targets = df_mosquito['single-class-label'].tolist()\n",
        "\n",
        "# Create a DeepChem dataset from the features and targets\n",
        "dataset_mosquito= dc.data.NumpyDataset(features, targets)"
      ],
      "metadata": {
        "id": "0vhx8rYZHOf_"
      },
      "execution_count": null,
      "outputs": []
    },
    {
      "cell_type": "markdown",
      "source": [
        "### ray"
      ],
      "metadata": {
        "id": "iZGvnKEdDG25"
      }
    },
    {
      "cell_type": "code",
      "source": [
        "# Define the ConvMolFeaturizer\n",
        "featurizer = dc.feat.MolGraphConvFeaturizer()\n",
        "\n",
        "# Featurize the SMILES column\n",
        "features = featurizer.featurize(df_ray['cleanedMol'].tolist())\n",
        "\n",
        "# Extract the target values from the DataFrame\n",
        "targets = df_ray['single-class-label'].tolist()\n",
        "\n",
        "# Create a DeepChem dataset from the features and targets\n",
        "dataset_ray= dc.data.NumpyDataset(features, targets)"
      ],
      "metadata": {
        "id": "WBmb9CfOHPKo"
      },
      "execution_count": null,
      "outputs": []
    },
    {
      "cell_type": "markdown",
      "source": [
        "### mouse"
      ],
      "metadata": {
        "id": "I8YuRdGFDIzl"
      }
    },
    {
      "cell_type": "code",
      "source": [
        "# Define the ConvMolFeaturizer\n",
        "featurizer = dc.feat.MolGraphConvFeaturizer()\n",
        "# Featurize the SMILES column\n",
        "features = featurizer.featurize(df_mouse['cleanedMol'].tolist())\n",
        "# Extract the target values from the DataFrame\n",
        "targets = df_mouse['single-class-label'].tolist()\n",
        "# Create a DeepChem dataset from the features and targets\n",
        "dataset_mouse= dc.data.NumpyDataset(features, targets)"
      ],
      "metadata": {
        "id": "XBMCKBQNHtzg"
      },
      "execution_count": null,
      "outputs": []
    },
    {
      "cell_type": "markdown",
      "source": [
        "### Cross species evaluation"
      ],
      "metadata": {
        "id": "ejeNLUQyDRc6"
      }
    },
    {
      "cell_type": "code",
      "source": [
        "import deepchem as dc\n",
        "import tensorflow as tf\n",
        "import numpy as np\n",
        "import pandas as pd\n",
        "import matplotlib.pyplot as plt\n",
        "from sklearn.metrics import roc_curve, auc, confusion_matrix, accuracy_score, precision_score, recall_score, f1_score, matthews_corrcoef, cohen_kappa_score\n",
        "\n",
        "datasets = {\n",
        "    'Human Test': test_dataset,\n",
        "    'Human Independent': dataset_humanIndependent,\n",
        "    'Eel': dataset_eel,\n",
        "    'Mouse': dataset_mouse,\n",
        "    'Cow': dataset_cow,\n",
        "    'Ray': dataset_ray,\n",
        "    'Mosquito': dataset_mosquito\n",
        "}\n",
        "\n",
        "# Set up the plot\n",
        "plt.figure(figsize=(10, 6))\n",
        "\n",
        "# Initialize a dictionary to store evaluation metrics for each dataset\n",
        "evaluation_metrics = {}\n",
        "\n",
        "# Evaluate and plot ROC curve for each dataset\n",
        "for species, data in datasets.items():\n",
        "    X = data.X\n",
        "    y_true = data.y.ravel()\n",
        "\n",
        "    # Make predictions on the test dataset\n",
        "    y_pred = best_model.predict(data).reshape(-1, 2)\n",
        "\n",
        "    y_pred_positive = y_pred[:, 1]\n",
        "\n",
        "    # Calculate the ROC curve\n",
        "    fpr, tpr, _ = roc_curve(y_true, y_pred_positive)\n",
        "\n",
        "    # Calculate the AUC (Area Under the Curve)\n",
        "    roc_auc = auc(fpr, tpr)\n",
        "\n",
        "    # Calculate the confusion matrix\n",
        "    y_pred_binary = np.argmax(y_pred, axis=1)  # Convert probabilities to binary predictions\n",
        "    conf_matrix = confusion_matrix(y_true, y_pred_binary)\n",
        "\n",
        "    # Calculate other evaluation metrics\n",
        "    accuracy = accuracy_score(y_true, y_pred_binary)\n",
        "    precision = precision_score(y_true, y_pred_binary)\n",
        "    recall = recall_score(y_true, y_pred_binary)\n",
        "    f1 = f1_score(y_true, y_pred_binary)\n",
        "    mcc = matthews_corrcoef(y_true, y_pred_binary)\n",
        "    cohen_kappa = cohen_kappa_score(y_true, y_pred_binary)\n",
        "\n",
        "    # Store the evaluation metrics in the dictionary\n",
        "    evaluation_metrics[species] = {\n",
        "        'Accuracy': accuracy,\n",
        "        'Precision': precision,\n",
        "        'Recall': recall,\n",
        "        'F1 Score': f1,\n",
        "        'MCC': mcc,\n",
        "        \"Cohen's Kappa\": cohen_kappa\n",
        "    }\n",
        "\n",
        "    # Plot the ROC curve for each species\n",
        "    plt.plot(fpr, tpr, label=f'{species} (AUC = {roc_auc:.2f})')\n",
        "\n",
        "    # Display Confusion Matrix\n",
        "    print(f\"Confusion Matrix for {species} dataset:\")\n",
        "    print(conf_matrix)\n",
        "\n",
        "# Plot settings\n",
        "plt.plot([0, 1], [0, 1], linestyle='--', color='gray', label='Random')\n",
        "plt.title('ROC Curve for Different Species')\n",
        "plt.xlabel('False Positive Rate')\n",
        "plt.ylabel('True Positive Rate')\n",
        "plt.legend(loc='lower right')\n",
        "plt.show()\n",
        "\n",
        "# Display or analyze the stored evaluation metrics\n",
        "for species, metrics in evaluation_metrics.items():\n",
        "    print(f\"Evaluation for {species} dataset:\")\n",
        "    for metric_name, value in metrics.items():\n",
        "        print(f\"{metric_name}: {value:.4f}\")\n",
        "    print(\"\\n\")\n",
        "\n",
        "# Create a DataFrame from the evaluation_metrics dictionary\n",
        "df_metrics = pd.DataFrame(evaluation_metrics).transpose()\n",
        "\n",
        "# Save the DataFrames to Excel files\n",
        "df_metrics.to_excel('evaluation_metrics_GAT.xlsx', index_label='Species')\n"
      ],
      "metadata": {
        "colab": {
          "base_uri": "https://localhost:8080/",
          "height": 1000
        },
        "id": "CzxvWsmmq1gs",
        "outputId": "a653faa2-9ad6-4120-b874-f164793364cb"
      },
      "execution_count": null,
      "outputs": [
        {
          "output_type": "stream",
          "name": "stdout",
          "text": [
            "Confusion Matrix for Human Test dataset:\n",
            "[[329  29]\n",
            " [ 79 175]]\n",
            "Confusion Matrix for Human Independent dataset:\n",
            "[[116  22]\n",
            " [ 22  48]]\n",
            "Confusion Matrix for Eel dataset:\n",
            "[[2872  503]\n",
            " [1318  766]]\n",
            "Confusion Matrix for Mouse dataset:\n",
            "[[167  56]\n",
            " [ 43 102]]\n",
            "Confusion Matrix for Cow dataset:\n",
            "[[174  44]\n",
            " [ 91 148]]\n",
            "Confusion Matrix for Ray dataset:\n",
            "[[515 204]\n",
            " [302 385]]\n",
            "Confusion Matrix for Mosquito dataset:\n",
            "[[167  56]\n",
            " [ 43 102]]\n"
          ]
        },
        {
          "output_type": "display_data",
          "data": {
            "text/plain": [
              "<Figure size 1000x600 with 1 Axes>"
            ],
            "image/png": "[encoded data removed]"
          },
          "metadata": {}
        },
        {
          "output_type": "stream",
          "name": "stdout",
          "text": [
            "Evaluation for Human Test dataset:\n",
            "Accuracy: 0.8235\n",
            "Precision: 0.8578\n",
            "Recall: 0.6890\n",
            "F1 Score: 0.7642\n",
            "MCC: 0.6355\n",
            "Cohen's Kappa: 0.6259\n",
            "\n",
            "\n",
            "Evaluation for Human Independent dataset:\n",
            "Accuracy: 0.7885\n",
            "Precision: 0.6857\n",
            "Recall: 0.6857\n",
            "F1 Score: 0.6857\n",
            "MCC: 0.5263\n",
            "Cohen's Kappa: 0.5263\n",
            "\n",
            "\n",
            "Evaluation for Eel dataset:\n",
            "Accuracy: 0.6664\n",
            "Precision: 0.6036\n",
            "Recall: 0.3676\n",
            "F1 Score: 0.4569\n",
            "MCC: 0.2513\n",
            "Cohen's Kappa: 0.2362\n",
            "\n",
            "\n",
            "Evaluation for Mouse dataset:\n",
            "Accuracy: 0.7310\n",
            "Precision: 0.6456\n",
            "Recall: 0.7034\n",
            "F1 Score: 0.6733\n",
            "MCC: 0.4465\n",
            "Cohen's Kappa: 0.4453\n",
            "\n",
            "\n",
            "Evaluation for Cow dataset:\n",
            "Accuracy: 0.7046\n",
            "Precision: 0.7708\n",
            "Recall: 0.6192\n",
            "F1 Score: 0.6868\n",
            "MCC: 0.4224\n",
            "Cohen's Kappa: 0.4135\n",
            "\n",
            "\n",
            "Evaluation for Ray dataset:\n",
            "Accuracy: 0.6401\n",
            "Precision: 0.6537\n",
            "Recall: 0.5604\n",
            "F1 Score: 0.6034\n",
            "MCC: 0.2803\n",
            "Cohen's Kappa: 0.2776\n",
            "\n",
            "\n",
            "Evaluation for Mosquito dataset:\n",
            "Accuracy: 0.7310\n",
            "Precision: 0.6456\n",
            "Recall: 0.7034\n",
            "F1 Score: 0.6733\n",
            "MCC: 0.4465\n",
            "Cohen's Kappa: 0.4453\n",
            "\n",
            "\n"
          ]
        }
      ]
    },
    {
      "cell_type": "markdown",
      "source": [
        "\n",
        "##References\n",
        "* Ramsundar, B., Eastman, P., Walters, P., Pande, V., Leswing, K., & Wu, Z. (2019). Deep Learning for the Life Sciences. O’Reilly Media. https://www.amazon.com/Deep-Learning-Life-Sciences-Microscopy/dp/1492039837\n",
        "* Vignaux, P. A., Lane, T. R., Urbina, F., Gerlach, J., Puhl, A. C., Snyder, S. H., & Ekins, S. (2023). Validation of Acetylcholinesterase Inhibition Machine Learning Models for Multiple Species. Chemical Research in Toxicology, 36(2), 188–201. https://doi.org/10.1021/acs.chemrestox.2c00283\n",
        "* Duvenaud, D., Maclaurin, D., Aguilera-Iparraguirre, J., Gómez-Bombarelli, R., Hirzel, T., Aspuru-Guzik, A., & Adams, R. P. (2015). Convolutional Networks on Graphs for Learning Molecular Fingerprints (arXiv:1509.09292). arXiv. http://arxiv.org/abs/1509.09292\n",
        "* Gilmer, J., Schoenholz, S. S., Riley, P. F., Vinyals, O., & Dahl, G. E. (2017, July). Neural message passing for quantum chemistry. In International conference on machine learning (pp. 1263-1272). PMLR.\n"
      ],
      "metadata": {
        "id": "JPmsmAN-Dhhm"
      }
    }
  ],
  "metadata": {
    "accelerator": "GPU",
    "colab": {
      "provenance": [],
      "gpuType": "T4",
      "toc_visible": true,
      "include_colab_link": true
    },
    "kernelspec": {
      "display_name": "Python 3",
      "name": "python3"
    },
    "language_info": {
      "name": "python"
    }
  },
  "nbformat": 4,
  "nbformat_minor": 0
}