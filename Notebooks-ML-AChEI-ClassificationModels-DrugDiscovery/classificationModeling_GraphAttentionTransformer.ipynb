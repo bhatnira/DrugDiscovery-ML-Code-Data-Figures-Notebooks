{
  "cells": [
    {
      "cell_type": "markdown",
      "metadata": {
        "id": "view-in-github",
        "colab_type": "text"
      },
      "source": [
        "<a href=\"https://colab.research.google.com/github/bhatnira/Acetylcholinesterase-Inhibitor-Discovery/blob/main/classificationModeling_GraphAttentionTransformer.ipynb\" target=\"_parent\"><img src=\"https://colab.research.google.com/assets/colab-badge.svg\" alt=\"Open In Colab\"/></a>"
      ]
    },
    {
      "cell_type": "markdown",
      "metadata": {
        "id": "TyDNINjoV746"
      },
      "source": [
        "\n",
        "# Graph Attention Transformer Classification Modeling\n"
      ]
    },
    {
      "cell_type": "markdown",
      "metadata": {
        "id": "jiX8pkSE88cj"
      },
      "source": [
        "## Introduction\n",
        "Graph Attention Network incorporates masked self-attentional layers within its structure, adeptly managing graph-structured inputs and surmounting the constraints identified in earlier models (Veličković et al., 2018)\n"
      ]
    },
    {
      "cell_type": "markdown",
      "metadata": {
        "id": "LbEFlfpg-pYQ"
      },
      "source": [
        "## Data loading and Preprocessing\n",
        "\n"
      ]
    },
    {
      "cell_type": "code",
      "execution_count": null,
      "metadata": {
        "id": "u1zCyNG21ikK",
        "colab": {
          "base_uri": "https://localhost:8080/",
          "height": 591
        },
        "outputId": "032c5b24-40cd-48a7-9f46-8f6ef269ad1f"
      },
      "outputs": [
        {
          "output_type": "stream",
          "name": "stdout",
          "text": [
            "Collecting deepchem\n",
            "  Downloading deepchem-2.7.2.dev20231228190544-py3-none-any.whl (954 kB)\n",
            "\u001b[2K     \u001b[90m━━━━━━━━━━━━━━━━━━━━━━━━━━━━━━━━━━━━━━━━\u001b[0m \u001b[32m954.0/954.0 kB\u001b[0m \u001b[31m5.3 MB/s\u001b[0m eta \u001b[36m0:00:00\u001b[0m\n",
            "\u001b[?25hRequirement already satisfied: joblib in /usr/local/lib/python3.10/dist-packages (from deepchem) (1.3.2)\n",
            "Requirement already satisfied: numpy>=1.21 in /usr/local/lib/python3.10/dist-packages (from deepchem) (1.23.5)\n",
            "Requirement already satisfied: pandas in /usr/local/lib/python3.10/dist-packages (from deepchem) (1.5.3)\n",
            "Requirement already satisfied: scikit-learn in /usr/local/lib/python3.10/dist-packages (from deepchem) (1.2.2)\n",
            "Requirement already satisfied: sympy in /usr/local/lib/python3.10/dist-packages (from deepchem) (1.12)\n",
            "Requirement already satisfied: scipy>=1.10.1 in /usr/local/lib/python3.10/dist-packages (from deepchem) (1.11.4)\n",
            "Collecting rdkit (from deepchem)\n",
            "  Downloading rdkit-2023.9.3-cp310-cp310-manylinux_2_17_x86_64.manylinux2014_x86_64.whl (34.3 MB)\n",
            "\u001b[2K     \u001b[90m━━━━━━━━━━━━━━━━━━━━━━━━━━━━━━━━━━━━━━━━\u001b[0m \u001b[32m34.3/34.3 MB\u001b[0m \u001b[31m21.2 MB/s\u001b[0m eta \u001b[36m0:00:00\u001b[0m\n",
            "\u001b[?25hRequirement already satisfied: python-dateutil>=2.8.1 in /usr/local/lib/python3.10/dist-packages (from pandas->deepchem) (2.8.2)\n",
            "Requirement already satisfied: pytz>=2020.1 in /usr/local/lib/python3.10/dist-packages (from pandas->deepchem) (2023.3.post1)\n",
            "Requirement already satisfied: Pillow in /usr/local/lib/python3.10/dist-packages (from rdkit->deepchem) (9.4.0)\n",
            "Requirement already satisfied: threadpoolctl>=2.0.0 in /usr/local/lib/python3.10/dist-packages (from scikit-learn->deepchem) (3.2.0)\n",
            "Requirement already satisfied: mpmath>=0.19 in /usr/local/lib/python3.10/dist-packages (from sympy->deepchem) (1.3.0)\n",
            "Requirement already satisfied: six>=1.5 in /usr/local/lib/python3.10/dist-packages (from python-dateutil>=2.8.1->pandas->deepchem) (1.16.0)\n",
            "Installing collected packages: rdkit, deepchem\n",
            "Successfully installed deepchem-2.7.2.dev20231228190544 rdkit-2023.9.3\n"
          ]
        },
        {
          "output_type": "stream",
          "name": "stderr",
          "text": [
            "WARNING:deepchem.feat.molecule_featurizers.rdkit_descriptors:No normalization for SPS. Feature removed!\n",
            "WARNING:deepchem.feat.molecule_featurizers.rdkit_descriptors:No normalization for AvgIpc. Feature removed!\n",
            "WARNING:tensorflow:From /usr/local/lib/python3.10/dist-packages/tensorflow/python/util/deprecation.py:588: calling function (from tensorflow.python.eager.polymorphic_function.polymorphic_function) with experimental_relax_shapes is deprecated and will be removed in a future version.\n",
            "Instructions for updating:\n",
            "experimental_relax_shapes is deprecated, use reduce_retracing instead\n",
            "WARNING:deepchem.models:Skipped loading some PyTorch models, missing a dependency. No module named 'torch_geometric'\n",
            "WARNING:deepchem.models:No module named 'torch_geometric'\n",
            "WARNING:deepchem.models:Skipped loading modules with pytorch-geometric dependency, missing a dependency. No module named 'torch_geometric'\n",
            "WARNING:deepchem.models:Skipped loading modules with pytorch-lightning dependency, missing a dependency. No module named 'pytorch_lightning'\n",
            "WARNING:deepchem.models:Skipped loading some Jax models, missing a dependency. No module named 'haiku'\n"
          ]
        },
        {
          "output_type": "execute_result",
          "data": {
            "text/plain": [
              "'2.7.2.dev'"
            ],
            "application/vnd.google.colaboratory.intrinsic+json": {
              "type": "string"
            }
          },
          "metadata": {},
          "execution_count": 1
        }
      ],
      "source": [
        "!pip install --pre deepchem\n",
        "import deepchem\n",
        "deepchem.__version__"
      ]
    },
    {
      "cell_type": "code",
      "execution_count": null,
      "metadata": {
        "id": "4E31J5i_COdl"
      },
      "outputs": [],
      "source": [
        "import deepchem as dc\n",
        "import numpy as np"
      ]
    },
    {
      "cell_type": "code",
      "execution_count": null,
      "metadata": {
        "id": "T2qvkDDsCW4q",
        "colab": {
          "base_uri": "https://localhost:8080/"
        },
        "outputId": "40c2fc4f-4653-4aec-e51c-99f73ec9de6d"
      },
      "outputs": [
        {
          "output_type": "stream",
          "name": "stdout",
          "text": [
            "Mounted at /content/drive\n"
          ]
        }
      ],
      "source": [
        "from google.colab import drive\n",
        "drive.mount('/content/drive')"
      ]
    },
    {
      "cell_type": "markdown",
      "source": [
        "##Primary Dataset"
      ],
      "metadata": {
        "id": "5aIzeTrNUf9K"
      }
    },
    {
      "cell_type": "code",
      "execution_count": null,
      "metadata": {
        "id": "CwMI_hbVQFad"
      },
      "outputs": [],
      "source": [
        "import pandas as pd\n",
        "df=pd.read_excel(\"/content/drive/MyDrive/Predictive Generative transfer learning/Part_2_standarizationOfMolecule/StandarizedSmiles_cutOFF800daltonMolecularweight.xlsx\")"
      ]
    },
    {
      "cell_type": "code",
      "execution_count": null,
      "metadata": {
        "id": "-yrYMt2vRNLI",
        "colab": {
          "base_uri": "https://localhost:8080/",
          "height": 417
        },
        "outputId": "147125e8-dffc-4631-9af9-54565b992e50"
      },
      "outputs": [
        {
          "output_type": "execute_result",
          "data": {
            "text/plain": [
              "  Molecule ChEMBL ID                                             Smiles  \\\n",
              "0           CHEMBL94        CNC(=O)Oc1ccc2c(c1)[C@]1(C)CCN(C)[C@@H]1N2C   \n",
              "1       CHEMBL207777  Cc1ccccc1NC(=O)Oc1ccc2c(c1)[C@]1(C)CO[C@@H](C1)O2   \n",
              "2       CHEMBL205967         CCNC(=O)Oc1ccc2c(c1)[C@]1(C)CO[C@@H](C1)O2   \n",
              "3        CHEMBL60119                         Cc1ccc2c(N)c3c(nc2c1)CCCC3   \n",
              "4       CHEMBL294525       CCCCCCCNc1c2c(nc3cc([N+](=O)[O-])ccc13)CCCC2   \n",
              "\n",
              "     IC50  classLabel  IsValidSMILES  \\\n",
              "0    28.0           1           True   \n",
              "1    97.0           1           True   \n",
              "2  2420.0           0           True   \n",
              "3   100.0           1           True   \n",
              "4   290.0           1           True   \n",
              "\n",
              "                                           Morgan_FP  \\\n",
              "0  <rdkit.DataStructs.cDataStructs.ExplicitBitVec...   \n",
              "1  <rdkit.DataStructs.cDataStructs.ExplicitBitVec...   \n",
              "2  <rdkit.DataStructs.cDataStructs.ExplicitBitVec...   \n",
              "3  <rdkit.DataStructs.cDataStructs.ExplicitBitVec...   \n",
              "4  <rdkit.DataStructs.cDataStructs.ExplicitBitVec...   \n",
              "\n",
              "                                           Molecule  \\\n",
              "0  <rdkit.Chem.rdchem.Mol object at 0x7bcfd8e880b0>   \n",
              "1  <rdkit.Chem.rdchem.Mol object at 0x7bcfd8e88190>   \n",
              "2  <rdkit.Chem.rdchem.Mol object at 0x7bcfd8e88270>   \n",
              "3  <rdkit.Chem.rdchem.Mol object at 0x7bcfd8e88430>   \n",
              "4  <rdkit.Chem.rdchem.Mol object at 0x7bcfd8e884a0>   \n",
              "\n",
              "                                         Fingerprint      PCA1      PCA2  \\\n",
              "0  <rdkit.DataStructs.cDataStructs.ExplicitBitVec... -1.738898 -1.494784   \n",
              "1  <rdkit.DataStructs.cDataStructs.ExplicitBitVec... -1.014164 -1.325272   \n",
              "2  <rdkit.DataStructs.cDataStructs.ExplicitBitVec... -1.235565 -1.559108   \n",
              "3  <rdkit.DataStructs.cDataStructs.ExplicitBitVec...  2.705664  0.148113   \n",
              "4  <rdkit.DataStructs.cDataStructs.ExplicitBitVec...  3.600017 -0.978574   \n",
              "\n",
              "       tSNE1      tSNE2  MolecularWeight  Frequency  \\\n",
              "0 -52.761700 -42.736099          275.352         27   \n",
              "1 -63.027809 -53.765778          325.364          1   \n",
              "2 -61.968063 -54.078575          263.293          1   \n",
              "3  57.758297  -8.911607          212.296          4   \n",
              "4  61.242554   5.783804          341.455          3   \n",
              "\n",
              "                                          cleanedMol  \n",
              "0        CNC(=O)Oc1ccc2c(c1)[C@]1(C)CCN(C)[C@@H]1N2C  \n",
              "1  Cc1ccccc1NC(=O)Oc1ccc2c(c1)[C@]1(C)CO[C@@H](C1)O2  \n",
              "2         CCNC(=O)Oc1ccc2c(c1)[C@]1(C)CO[C@@H](C1)O2  \n",
              "3                         Cc1ccc2c(N)c3c(nc2c1)CCCC3  \n",
              "4       CCCCCCCNc1c2c(nc3cc([N+](=O)[O-])ccc13)CCCC2  "
            ],
            "text/html": [
              "\n",
              "  <div id=\"df-f51c4d9f-595f-4a5d-bcf9-e528156cbd53\" class=\"colab-df-container\">\n",
              "    <div>\n",
              "<style scoped>\n",
              "    .dataframe tbody tr th:only-of-type {\n",
              "        vertical-align: middle;\n",
              "    }\n",
              "\n",
              "    .dataframe tbody tr th {\n",
              "        vertical-align: top;\n",
              "    }\n",
              "\n",
              "    .dataframe thead th {\n",
              "        text-align: right;\n",
              "    }\n",
              "</style>\n",
              "<table border=\"1\" class=\"dataframe\">\n",
              "  <thead>\n",
              "    <tr style=\"text-align: right;\">\n",
              "      <th></th>\n",
              "      <th>Molecule ChEMBL ID</th>\n",
              "      <th>Smiles</th>\n",
              "      <th>IC50</th>\n",
              "      <th>classLabel</th>\n",
              "      <th>IsValidSMILES</th>\n",
              "      <th>Morgan_FP</th>\n",
              "      <th>Molecule</th>\n",
              "      <th>Fingerprint</th>\n",
              "      <th>PCA1</th>\n",
              "      <th>PCA2</th>\n",
              "      <th>tSNE1</th>\n",
              "      <th>tSNE2</th>\n",
              "      <th>MolecularWeight</th>\n",
              "      <th>Frequency</th>\n",
              "      <th>cleanedMol</th>\n",
              "    </tr>\n",
              "  </thead>\n",
              "  <tbody>\n",
              "    <tr>\n",
              "      <th>0</th>\n",
              "      <td>CHEMBL94</td>\n",
              "      <td>CNC(=O)Oc1ccc2c(c1)[C@]1(C)CCN(C)[C@@H]1N2C</td>\n",
              "      <td>28.0</td>\n",
              "      <td>1</td>\n",
              "      <td>True</td>\n",
              "      <td>&lt;rdkit.DataStructs.cDataStructs.ExplicitBitVec...</td>\n",
              "      <td>&lt;rdkit.Chem.rdchem.Mol object at 0x7bcfd8e880b0&gt;</td>\n",
              "      <td>&lt;rdkit.DataStructs.cDataStructs.ExplicitBitVec...</td>\n",
              "      <td>-1.738898</td>\n",
              "      <td>-1.494784</td>\n",
              "      <td>-52.761700</td>\n",
              "      <td>-42.736099</td>\n",
              "      <td>275.352</td>\n",
              "      <td>27</td>\n",
              "      <td>CNC(=O)Oc1ccc2c(c1)[C@]1(C)CCN(C)[C@@H]1N2C</td>\n",
              "    </tr>\n",
              "    <tr>\n",
              "      <th>1</th>\n",
              "      <td>CHEMBL207777</td>\n",
              "      <td>Cc1ccccc1NC(=O)Oc1ccc2c(c1)[C@]1(C)CO[C@@H](C1)O2</td>\n",
              "      <td>97.0</td>\n",
              "      <td>1</td>\n",
              "      <td>True</td>\n",
              "      <td>&lt;rdkit.DataStructs.cDataStructs.ExplicitBitVec...</td>\n",
              "      <td>&lt;rdkit.Chem.rdchem.Mol object at 0x7bcfd8e88190&gt;</td>\n",
              "      <td>&lt;rdkit.DataStructs.cDataStructs.ExplicitBitVec...</td>\n",
              "      <td>-1.014164</td>\n",
              "      <td>-1.325272</td>\n",
              "      <td>-63.027809</td>\n",
              "      <td>-53.765778</td>\n",
              "      <td>325.364</td>\n",
              "      <td>1</td>\n",
              "      <td>Cc1ccccc1NC(=O)Oc1ccc2c(c1)[C@]1(C)CO[C@@H](C1)O2</td>\n",
              "    </tr>\n",
              "    <tr>\n",
              "      <th>2</th>\n",
              "      <td>CHEMBL205967</td>\n",
              "      <td>CCNC(=O)Oc1ccc2c(c1)[C@]1(C)CO[C@@H](C1)O2</td>\n",
              "      <td>2420.0</td>\n",
              "      <td>0</td>\n",
              "      <td>True</td>\n",
              "      <td>&lt;rdkit.DataStructs.cDataStructs.ExplicitBitVec...</td>\n",
              "      <td>&lt;rdkit.Chem.rdchem.Mol object at 0x7bcfd8e88270&gt;</td>\n",
              "      <td>&lt;rdkit.DataStructs.cDataStructs.ExplicitBitVec...</td>\n",
              "      <td>-1.235565</td>\n",
              "      <td>-1.559108</td>\n",
              "      <td>-61.968063</td>\n",
              "      <td>-54.078575</td>\n",
              "      <td>263.293</td>\n",
              "      <td>1</td>\n",
              "      <td>CCNC(=O)Oc1ccc2c(c1)[C@]1(C)CO[C@@H](C1)O2</td>\n",
              "    </tr>\n",
              "    <tr>\n",
              "      <th>3</th>\n",
              "      <td>CHEMBL60119</td>\n",
              "      <td>Cc1ccc2c(N)c3c(nc2c1)CCCC3</td>\n",
              "      <td>100.0</td>\n",
              "      <td>1</td>\n",
              "      <td>True</td>\n",
              "      <td>&lt;rdkit.DataStructs.cDataStructs.ExplicitBitVec...</td>\n",
              "      <td>&lt;rdkit.Chem.rdchem.Mol object at 0x7bcfd8e88430&gt;</td>\n",
              "      <td>&lt;rdkit.DataStructs.cDataStructs.ExplicitBitVec...</td>\n",
              "      <td>2.705664</td>\n",
              "      <td>0.148113</td>\n",
              "      <td>57.758297</td>\n",
              "      <td>-8.911607</td>\n",
              "      <td>212.296</td>\n",
              "      <td>4</td>\n",
              "      <td>Cc1ccc2c(N)c3c(nc2c1)CCCC3</td>\n",
              "    </tr>\n",
              "    <tr>\n",
              "      <th>4</th>\n",
              "      <td>CHEMBL294525</td>\n",
              "      <td>CCCCCCCNc1c2c(nc3cc([N+](=O)[O-])ccc13)CCCC2</td>\n",
              "      <td>290.0</td>\n",
              "      <td>1</td>\n",
              "      <td>True</td>\n",
              "      <td>&lt;rdkit.DataStructs.cDataStructs.ExplicitBitVec...</td>\n",
              "      <td>&lt;rdkit.Chem.rdchem.Mol object at 0x7bcfd8e884a0&gt;</td>\n",
              "      <td>&lt;rdkit.DataStructs.cDataStructs.ExplicitBitVec...</td>\n",
              "      <td>3.600017</td>\n",
              "      <td>-0.978574</td>\n",
              "      <td>61.242554</td>\n",
              "      <td>5.783804</td>\n",
              "      <td>341.455</td>\n",
              "      <td>3</td>\n",
              "      <td>CCCCCCCNc1c2c(nc3cc([N+](=O)[O-])ccc13)CCCC2</td>\n",
              "    </tr>\n",
              "  </tbody>\n",
              "</table>\n",
              "</div>\n",
              "    <div class=\"colab-df-buttons\">\n",
              "\n",
              "  <div class=\"colab-df-container\">\n",
              "    <button class=\"colab-df-convert\" onclick=\"convertToInteractive('df-f51c4d9f-595f-4a5d-bcf9-e528156cbd53')\"\n",
              "            title=\"Convert this dataframe to an interactive table.\"\n",
              "            style=\"display:none;\">\n",
              "\n",
              "  <svg xmlns=\"http://www.w3.org/2000/svg\" height=\"24px\" viewBox=\"0 -960 960 960\">\n",
              "    <path d=\"M120-120v-720h720v720H120Zm60-500h600v-160H180v160Zm220 220h160v-160H400v160Zm0 220h160v-160H400v160ZM180-400h160v-160H180v160Zm440 0h160v-160H620v160ZM180-180h160v-160H180v160Zm440 0h160v-160H620v160Z\"/>\n",
              "  </svg>\n",
              "    </button>\n",
              "\n",
              "  <style>\n",
              "    .colab-df-container {\n",
              "      display:flex;\n",
              "      gap: 12px;\n",
              "    }\n",
              "\n",
              "    .colab-df-convert {\n",
              "      background-color: #E8F0FE;\n",
              "      border: none;\n",
              "      border-radius: 50%;\n",
              "      cursor: pointer;\n",
              "      display: none;\n",
              "      fill: #1967D2;\n",
              "      height: 32px;\n",
              "      padding: 0 0 0 0;\n",
              "      width: 32px;\n",
              "    }\n",
              "\n",
              "    .colab-df-convert:hover {\n",
              "      background-color: #E2EBFA;\n",
              "      box-shadow: 0px 1px 2px rgba(60, 64, 67, 0.3), 0px 1px 3px 1px rgba(60, 64, 67, 0.15);\n",
              "      fill: #174EA6;\n",
              "    }\n",
              "\n",
              "    .colab-df-buttons div {\n",
              "      margin-bottom: 4px;\n",
              "    }\n",
              "\n",
              "    [theme=dark] .colab-df-convert {\n",
              "      background-color: #3B4455;\n",
              "      fill: #D2E3FC;\n",
              "    }\n",
              "\n",
              "    [theme=dark] .colab-df-convert:hover {\n",
              "      background-color: #434B5C;\n",
              "      box-shadow: 0px 1px 3px 1px rgba(0, 0, 0, 0.15);\n",
              "      filter: drop-shadow(0px 1px 2px rgba(0, 0, 0, 0.3));\n",
              "      fill: #FFFFFF;\n",
              "    }\n",
              "  </style>\n",
              "\n",
              "    <script>\n",
              "      const buttonEl =\n",
              "        document.querySelector('#df-f51c4d9f-595f-4a5d-bcf9-e528156cbd53 button.colab-df-convert');\n",
              "      buttonEl.style.display =\n",
              "        google.colab.kernel.accessAllowed ? 'block' : 'none';\n",
              "\n",
              "      async function convertToInteractive(key) {\n",
              "        const element = document.querySelector('#df-f51c4d9f-595f-4a5d-bcf9-e528156cbd53');\n",
              "        const dataTable =\n",
              "          await google.colab.kernel.invokeFunction('convertToInteractive',\n",
              "                                                    [key], {});\n",
              "        if (!dataTable) return;\n",
              "\n",
              "        const docLinkHtml = 'Like what you see? Visit the ' +\n",
              "          '<a target=\"_blank\" href=https://colab.research.google.com/notebooks/data_table.ipynb>data table notebook</a>'\n",
              "          + ' to learn more about interactive tables.';\n",
              "        element.innerHTML = '';\n",
              "        dataTable['output_type'] = 'display_data';\n",
              "        await google.colab.output.renderOutput(dataTable, element);\n",
              "        const docLink = document.createElement('div');\n",
              "        docLink.innerHTML = docLinkHtml;\n",
              "        element.appendChild(docLink);\n",
              "      }\n",
              "    </script>\n",
              "  </div>\n",
              "\n",
              "\n",
              "<div id=\"df-35757312-8d34-4b92-99e7-4f250f977633\">\n",
              "  <button class=\"colab-df-quickchart\" onclick=\"quickchart('df-35757312-8d34-4b92-99e7-4f250f977633')\"\n",
              "            title=\"Suggest charts\"\n",
              "            style=\"display:none;\">\n",
              "\n",
              "<svg xmlns=\"http://www.w3.org/2000/svg\" height=\"24px\"viewBox=\"0 0 24 24\"\n",
              "     width=\"24px\">\n",
              "    <g>\n",
              "        <path d=\"M19 3H5c-1.1 0-2 .9-2 2v14c0 1.1.9 2 2 2h14c1.1 0 2-.9 2-2V5c0-1.1-.9-2-2-2zM9 17H7v-7h2v7zm4 0h-2V7h2v10zm4 0h-2v-4h2v4z\"/>\n",
              "    </g>\n",
              "</svg>\n",
              "  </button>\n",
              "\n",
              "<style>\n",
              "  .colab-df-quickchart {\n",
              "      --bg-color: #E8F0FE;\n",
              "      --fill-color: #1967D2;\n",
              "      --hover-bg-color: #E2EBFA;\n",
              "      --hover-fill-color: #174EA6;\n",
              "      --disabled-fill-color: #AAA;\n",
              "      --disabled-bg-color: #DDD;\n",
              "  }\n",
              "\n",
              "  [theme=dark] .colab-df-quickchart {\n",
              "      --bg-color: #3B4455;\n",
              "      --fill-color: #D2E3FC;\n",
              "      --hover-bg-color: #434B5C;\n",
              "      --hover-fill-color: #FFFFFF;\n",
              "      --disabled-bg-color: #3B4455;\n",
              "      --disabled-fill-color: #666;\n",
              "  }\n",
              "\n",
              "  .colab-df-quickchart {\n",
              "    background-color: var(--bg-color);\n",
              "    border: none;\n",
              "    border-radius: 50%;\n",
              "    cursor: pointer;\n",
              "    display: none;\n",
              "    fill: var(--fill-color);\n",
              "    height: 32px;\n",
              "    padding: 0;\n",
              "    width: 32px;\n",
              "  }\n",
              "\n",
              "  .colab-df-quickchart:hover {\n",
              "    background-color: var(--hover-bg-color);\n",
              "    box-shadow: 0 1px 2px rgba(60, 64, 67, 0.3), 0 1px 3px 1px rgba(60, 64, 67, 0.15);\n",
              "    fill: var(--button-hover-fill-color);\n",
              "  }\n",
              "\n",
              "  .colab-df-quickchart-complete:disabled,\n",
              "  .colab-df-quickchart-complete:disabled:hover {\n",
              "    background-color: var(--disabled-bg-color);\n",
              "    fill: var(--disabled-fill-color);\n",
              "    box-shadow: none;\n",
              "  }\n",
              "\n",
              "  .colab-df-spinner {\n",
              "    border: 2px solid var(--fill-color);\n",
              "    border-color: transparent;\n",
              "    border-bottom-color: var(--fill-color);\n",
              "    animation:\n",
              "      spin 1s steps(1) infinite;\n",
              "  }\n",
              "\n",
              "  @keyframes spin {\n",
              "    0% {\n",
              "      border-color: transparent;\n",
              "      border-bottom-color: var(--fill-color);\n",
              "      border-left-color: var(--fill-color);\n",
              "    }\n",
              "    20% {\n",
              "      border-color: transparent;\n",
              "      border-left-color: var(--fill-color);\n",
              "      border-top-color: var(--fill-color);\n",
              "    }\n",
              "    30% {\n",
              "      border-color: transparent;\n",
              "      border-left-color: var(--fill-color);\n",
              "      border-top-color: var(--fill-color);\n",
              "      border-right-color: var(--fill-color);\n",
              "    }\n",
              "    40% {\n",
              "      border-color: transparent;\n",
              "      border-right-color: var(--fill-color);\n",
              "      border-top-color: var(--fill-color);\n",
              "    }\n",
              "    60% {\n",
              "      border-color: transparent;\n",
              "      border-right-color: var(--fill-color);\n",
              "    }\n",
              "    80% {\n",
              "      border-color: transparent;\n",
              "      border-right-color: var(--fill-color);\n",
              "      border-bottom-color: var(--fill-color);\n",
              "    }\n",
              "    90% {\n",
              "      border-color: transparent;\n",
              "      border-bottom-color: var(--fill-color);\n",
              "    }\n",
              "  }\n",
              "</style>\n",
              "\n",
              "  <script>\n",
              "    async function quickchart(key) {\n",
              "      const quickchartButtonEl =\n",
              "        document.querySelector('#' + key + ' button');\n",
              "      quickchartButtonEl.disabled = true;  // To prevent multiple clicks.\n",
              "      quickchartButtonEl.classList.add('colab-df-spinner');\n",
              "      try {\n",
              "        const charts = await google.colab.kernel.invokeFunction(\n",
              "            'suggestCharts', [key], {});\n",
              "      } catch (error) {\n",
              "        console.error('Error during call to suggestCharts:', error);\n",
              "      }\n",
              "      quickchartButtonEl.classList.remove('colab-df-spinner');\n",
              "      quickchartButtonEl.classList.add('colab-df-quickchart-complete');\n",
              "    }\n",
              "    (() => {\n",
              "      let quickchartButtonEl =\n",
              "        document.querySelector('#df-35757312-8d34-4b92-99e7-4f250f977633 button');\n",
              "      quickchartButtonEl.style.display =\n",
              "        google.colab.kernel.accessAllowed ? 'block' : 'none';\n",
              "    })();\n",
              "  </script>\n",
              "</div>\n",
              "    </div>\n",
              "  </div>\n"
            ]
          },
          "metadata": {},
          "execution_count": 5
        }
      ],
      "source": [
        "df.head(5)"
      ]
    },
    {
      "cell_type": "code",
      "execution_count": null,
      "metadata": {
        "id": "4ZdkAQ8vmE6-",
        "colab": {
          "base_uri": "https://localhost:8080/"
        },
        "outputId": "ce62ba91-ecb7-4113-fcc5-c51ab73c4592"
      },
      "outputs": [
        {
          "output_type": "stream",
          "name": "stdout",
          "text": [
            "0    2330\n",
            "1    1747\n",
            "Name: classLabel, dtype: int64\n"
          ]
        }
      ],
      "source": [
        "# Count the frequency of each label\n",
        "label_counts = df['classLabel'].value_counts()\n",
        "# Print the frequency of labels\n",
        "print(label_counts)"
      ]
    },
    {
      "cell_type": "code",
      "execution_count": null,
      "metadata": {
        "colab": {
          "base_uri": "https://localhost:8080/"
        },
        "id": "2ZAVBsaxXNMB",
        "outputId": "b7e43727-38a0-4d38-bd81-987a652edcf2"
      },
      "outputs": [
        {
          "output_type": "execute_result",
          "data": {
            "text/plain": [
              "(4077, 15)"
            ]
          },
          "metadata": {},
          "execution_count": 7
        }
      ],
      "source": [
        "df.shape"
      ]
    },
    {
      "cell_type": "code",
      "execution_count": null,
      "metadata": {
        "colab": {
          "base_uri": "https://localhost:8080/"
        },
        "id": "bHlR9RBKeC2g",
        "outputId": "f61116bd-34ab-4f87-e05e-19fc29a7acfe"
      },
      "outputs": [
        {
          "output_type": "execute_result",
          "data": {
            "text/plain": [
              "(4077, 15)"
            ]
          },
          "metadata": {},
          "execution_count": 8
        }
      ],
      "source": [
        "df.shape"
      ]
    },
    {
      "cell_type": "code",
      "execution_count": null,
      "metadata": {
        "colab": {
          "base_uri": "https://localhost:8080/"
        },
        "id": "NaVk_pcqXeNY",
        "outputId": "5d9a37e2-04a2-47b4-96a9-51f2401d3270"
      },
      "outputs": [
        {
          "output_type": "stream",
          "name": "stdout",
          "text": [
            "Requirement already satisfied: deepchem in /usr/local/lib/python3.10/dist-packages (2.7.2.dev20231228190544)\n",
            "Requirement already satisfied: joblib in /usr/local/lib/python3.10/dist-packages (from deepchem) (1.3.2)\n",
            "Requirement already satisfied: numpy>=1.21 in /usr/local/lib/python3.10/dist-packages (from deepchem) (1.23.5)\n",
            "Requirement already satisfied: pandas in /usr/local/lib/python3.10/dist-packages (from deepchem) (1.5.3)\n",
            "Requirement already satisfied: scikit-learn in /usr/local/lib/python3.10/dist-packages (from deepchem) (1.2.2)\n",
            "Requirement already satisfied: sympy in /usr/local/lib/python3.10/dist-packages (from deepchem) (1.12)\n",
            "Requirement already satisfied: scipy>=1.10.1 in /usr/local/lib/python3.10/dist-packages (from deepchem) (1.11.4)\n",
            "Requirement already satisfied: rdkit in /usr/local/lib/python3.10/dist-packages (from deepchem) (2023.9.3)\n",
            "Requirement already satisfied: python-dateutil>=2.8.1 in /usr/local/lib/python3.10/dist-packages (from pandas->deepchem) (2.8.2)\n",
            "Requirement already satisfied: pytz>=2020.1 in /usr/local/lib/python3.10/dist-packages (from pandas->deepchem) (2023.3.post1)\n",
            "Requirement already satisfied: Pillow in /usr/local/lib/python3.10/dist-packages (from rdkit->deepchem) (9.4.0)\n",
            "Requirement already satisfied: threadpoolctl>=2.0.0 in /usr/local/lib/python3.10/dist-packages (from scikit-learn->deepchem) (3.2.0)\n",
            "Requirement already satisfied: mpmath>=0.19 in /usr/local/lib/python3.10/dist-packages (from sympy->deepchem) (1.3.0)\n",
            "Requirement already satisfied: six>=1.5 in /usr/local/lib/python3.10/dist-packages (from python-dateutil>=2.8.1->pandas->deepchem) (1.16.0)\n"
          ]
        }
      ],
      "source": [
        "!pip install --pre deepchem"
      ]
    },
    {
      "cell_type": "code",
      "execution_count": null,
      "metadata": {
        "colab": {
          "base_uri": "https://localhost:8080/"
        },
        "id": "70orG74QXrR3",
        "outputId": "3390a2ee-dade-46b5-e7f1-3d789f5656cc"
      },
      "outputs": [
        {
          "output_type": "stream",
          "name": "stdout",
          "text": [
            "Collecting torch-geometric\n",
            "  Downloading torch_geometric-2.4.0-py3-none-any.whl (1.0 MB)\n",
            "\u001b[2K     \u001b[90m━━━━━━━━━━━━━━━━━━━━━━━━━━━━━━━━━━━━━━━━\u001b[0m \u001b[32m1.0/1.0 MB\u001b[0m \u001b[31m5.5 MB/s\u001b[0m eta \u001b[36m0:00:00\u001b[0m\n",
            "\u001b[?25hRequirement already satisfied: tqdm in /usr/local/lib/python3.10/dist-packages (from torch-geometric) (4.66.1)\n",
            "Requirement already satisfied: numpy in /usr/local/lib/python3.10/dist-packages (from torch-geometric) (1.23.5)\n",
            "Requirement already satisfied: scipy in /usr/local/lib/python3.10/dist-packages (from torch-geometric) (1.11.4)\n",
            "Requirement already satisfied: jinja2 in /usr/local/lib/python3.10/dist-packages (from torch-geometric) (3.1.2)\n",
            "Requirement already satisfied: requests in /usr/local/lib/python3.10/dist-packages (from torch-geometric) (2.31.0)\n",
            "Requirement already satisfied: pyparsing in /usr/local/lib/python3.10/dist-packages (from torch-geometric) (3.1.1)\n",
            "Requirement already satisfied: scikit-learn in /usr/local/lib/python3.10/dist-packages (from torch-geometric) (1.2.2)\n",
            "Requirement already satisfied: psutil>=5.8.0 in /usr/local/lib/python3.10/dist-packages (from torch-geometric) (5.9.5)\n",
            "Requirement already satisfied: MarkupSafe>=2.0 in /usr/local/lib/python3.10/dist-packages (from jinja2->torch-geometric) (2.1.3)\n",
            "Requirement already satisfied: charset-normalizer<4,>=2 in /usr/local/lib/python3.10/dist-packages (from requests->torch-geometric) (3.3.2)\n",
            "Requirement already satisfied: idna<4,>=2.5 in /usr/local/lib/python3.10/dist-packages (from requests->torch-geometric) (3.6)\n",
            "Requirement already satisfied: urllib3<3,>=1.21.1 in /usr/local/lib/python3.10/dist-packages (from requests->torch-geometric) (2.0.7)\n",
            "Requirement already satisfied: certifi>=2017.4.17 in /usr/local/lib/python3.10/dist-packages (from requests->torch-geometric) (2023.11.17)\n",
            "Requirement already satisfied: joblib>=1.1.1 in /usr/local/lib/python3.10/dist-packages (from scikit-learn->torch-geometric) (1.3.2)\n",
            "Requirement already satisfied: threadpoolctl>=2.0.0 in /usr/local/lib/python3.10/dist-packages (from scikit-learn->torch-geometric) (3.2.0)\n",
            "Installing collected packages: torch-geometric\n",
            "Successfully installed torch-geometric-2.4.0\n"
          ]
        }
      ],
      "source": [
        "!pip install torch-geometric"
      ]
    },
    {
      "cell_type": "code",
      "source": [
        "!pip install dgl transformers"
      ],
      "metadata": {
        "colab": {
          "base_uri": "https://localhost:8080/"
        },
        "id": "nfngLFNRwAc4",
        "outputId": "089e1f97-37ec-41e5-a666-3f3142c1fe51"
      },
      "execution_count": null,
      "outputs": [
        {
          "output_type": "stream",
          "name": "stdout",
          "text": [
            "Collecting dgl\n",
            "  Downloading dgl-1.1.3-cp310-cp310-manylinux1_x86_64.whl (6.5 MB)\n",
            "\u001b[2K     \u001b[90m━━━━━━━━━━━━━━━━━━━━━━━━━━━━━━━━━━━━━━━━\u001b[0m \u001b[32m6.5/6.5 MB\u001b[0m \u001b[31m19.5 MB/s\u001b[0m eta \u001b[36m0:00:00\u001b[0m\n",
            "\u001b[?25hRequirement already satisfied: transformers in /usr/local/lib/python3.10/dist-packages (4.35.2)\n",
            "Requirement already satisfied: numpy>=1.14.0 in /usr/local/lib/python3.10/dist-packages (from dgl) (1.23.5)\n",
            "Requirement already satisfied: scipy>=1.1.0 in /usr/local/lib/python3.10/dist-packages (from dgl) (1.11.4)\n",
            "Requirement already satisfied: networkx>=2.1 in /usr/local/lib/python3.10/dist-packages (from dgl) (3.2.1)\n",
            "Requirement already satisfied: requests>=2.19.0 in /usr/local/lib/python3.10/dist-packages (from dgl) (2.31.0)\n",
            "Requirement already satisfied: tqdm in /usr/local/lib/python3.10/dist-packages (from dgl) (4.66.1)\n",
            "Requirement already satisfied: psutil>=5.8.0 in /usr/local/lib/python3.10/dist-packages (from dgl) (5.9.5)\n",
            "Requirement already satisfied: filelock in /usr/local/lib/python3.10/dist-packages (from transformers) (3.13.1)\n",
            "Requirement already satisfied: huggingface-hub<1.0,>=0.16.4 in /usr/local/lib/python3.10/dist-packages (from transformers) (0.20.1)\n",
            "Requirement already satisfied: packaging>=20.0 in /usr/local/lib/python3.10/dist-packages (from transformers) (23.2)\n",
            "Requirement already satisfied: pyyaml>=5.1 in /usr/local/lib/python3.10/dist-packages (from transformers) (6.0.1)\n",
            "Requirement already satisfied: regex!=2019.12.17 in /usr/local/lib/python3.10/dist-packages (from transformers) (2023.6.3)\n",
            "Requirement already satisfied: tokenizers<0.19,>=0.14 in /usr/local/lib/python3.10/dist-packages (from transformers) (0.15.0)\n",
            "Requirement already satisfied: safetensors>=0.3.1 in /usr/local/lib/python3.10/dist-packages (from transformers) (0.4.1)\n",
            "Requirement already satisfied: fsspec>=2023.5.0 in /usr/local/lib/python3.10/dist-packages (from huggingface-hub<1.0,>=0.16.4->transformers) (2023.6.0)\n",
            "Requirement already satisfied: typing-extensions>=3.7.4.3 in /usr/local/lib/python3.10/dist-packages (from huggingface-hub<1.0,>=0.16.4->transformers) (4.5.0)\n",
            "Requirement already satisfied: charset-normalizer<4,>=2 in /usr/local/lib/python3.10/dist-packages (from requests>=2.19.0->dgl) (3.3.2)\n",
            "Requirement already satisfied: idna<4,>=2.5 in /usr/local/lib/python3.10/dist-packages (from requests>=2.19.0->dgl) (3.6)\n",
            "Requirement already satisfied: urllib3<3,>=1.21.1 in /usr/local/lib/python3.10/dist-packages (from requests>=2.19.0->dgl) (2.0.7)\n",
            "Requirement already satisfied: certifi>=2017.4.17 in /usr/local/lib/python3.10/dist-packages (from requests>=2.19.0->dgl) (2023.11.17)\n",
            "Installing collected packages: dgl\n",
            "Successfully installed dgl-1.1.3\n"
          ]
        }
      ]
    },
    {
      "cell_type": "code",
      "execution_count": null,
      "metadata": {
        "id": "00wP9fFdwydW",
        "colab": {
          "base_uri": "https://localhost:8080/"
        },
        "outputId": "b56ffb0e-d162-4b2a-86ec-5cf43310c4ca"
      },
      "outputs": [
        {
          "output_type": "stream",
          "name": "stderr",
          "text": [
            "DGL backend not selected or invalid.  Assuming PyTorch for now.\n"
          ]
        },
        {
          "output_type": "stream",
          "name": "stdout",
          "text": [
            "Setting the default backend to \"pytorch\". You can change it in the ~/.dgl/config.json file or export the DGLBACKEND environment variable.  Valid options are: pytorch, mxnet, tensorflow (all lowercase)\n"
          ]
        }
      ],
      "source": [
        "import deepchem as dc\n",
        "from deepchem.models.torch_models import GATModel\n",
        "import matplotlib.pyplot as plt"
      ]
    },
    {
      "cell_type": "markdown",
      "source": [
        "## Conv Mol Featurization"
      ],
      "metadata": {
        "id": "JRJ4T4y-U-PQ"
      }
    },
    {
      "cell_type": "code",
      "execution_count": null,
      "metadata": {
        "id": "axNIalf2Y55k"
      },
      "outputs": [],
      "source": [
        "import deepchem as dc\n",
        "import pandas as pd\n",
        "from rdkit import Chem\n",
        "from deepchem.feat import ConvMolFeaturizer\n",
        "\n",
        "# Define the ConvMolFeaturizer\n",
        "featurizer = dc.feat.MolGraphConvFeaturizer()\n",
        "\n",
        "# Featurize the SMILES column\n",
        "features = featurizer.featurize(df['cleanedMol'].tolist())\n",
        "\n",
        "# Extract the target values from the DataFrame\n",
        "targets = df['classLabel'].tolist()\n",
        "\n",
        "# Create a DeepChem dataset from the features and targets\n",
        "dataset = dc.data.NumpyDataset(features, targets)\n",
        "\n",
        "# Split the dataset into training, validation, and test sets\n",
        "splitter = dc.splits.RandomSplitter()\n",
        "import deepchem as dc\n",
        "splitter = dc.splits.RandomSplitter()\n",
        "train_frac = 0.7  # 80% of the data for training\n",
        "valid_frac = 0.15  # 10% of the data for validation\n",
        "test_frac = 0.15   # 10% of the data for testing\n",
        "\n",
        "# Use the splitter to split the dataset\n",
        "train_dataset, valid_dataset, test_dataset = splitter.train_valid_test_split(\n",
        "    dataset, frac_train=train_frac, frac_valid=valid_frac, frac_test=test_frac\n",
        ")\n"
      ]
    },
    {
      "cell_type": "code",
      "source": [
        "train_smiles = train_dataset.ids\n",
        "val_smiles = valid_dataset.ids"
      ],
      "metadata": {
        "id": "vGTLsOyUtxIq"
      },
      "execution_count": null,
      "outputs": []
    },
    {
      "cell_type": "code",
      "source": [
        "train_smiles"
      ],
      "metadata": {
        "colab": {
          "base_uri": "https://localhost:8080/"
        },
        "id": "LuRlzXnOSuNt",
        "outputId": "20accd22-e5e4-44ed-8c30-0a2a5cd8e4db"
      },
      "execution_count": null,
      "outputs": [
        {
          "output_type": "execute_result",
          "data": {
            "text/plain": [
              "array([3680, 2149, 369, ..., 3964, 2094, 1292], dtype=object)"
            ]
          },
          "metadata": {},
          "execution_count": 15
        }
      ]
    },
    {
      "cell_type": "code",
      "source": [
        "!pip install dgllife"
      ],
      "metadata": {
        "colab": {
          "base_uri": "https://localhost:8080/"
        },
        "id": "v23m_NLlKgHh",
        "outputId": "e83ffa77-33e9-4833-adf8-cb0ce3406408"
      },
      "execution_count": null,
      "outputs": [
        {
          "output_type": "stream",
          "name": "stdout",
          "text": [
            "Collecting dgllife\n",
            "  Downloading dgllife-0.3.2-py3-none-any.whl (226 kB)\n",
            "\u001b[?25l     \u001b[90m━━━━━━━━━━━━━━━━━━━━━━━━━━━━━━━━━━━━━━━━\u001b[0m \u001b[32m0.0/226.1 kB\u001b[0m \u001b[31m?\u001b[0m eta \u001b[36m-:--:--\u001b[0m\r\u001b[2K     \u001b[91m━━━━━━━\u001b[0m\u001b[90m╺\u001b[0m\u001b[90m━━━━━━━━━━━━━━━━━━━━━━━━━━━━━━━━\u001b[0m \u001b[32m41.0/226.1 kB\u001b[0m \u001b[31m941.6 kB/s\u001b[0m eta \u001b[36m0:00:01\u001b[0m\r\u001b[2K     \u001b[91m━━━━━━━━━━━━━━━━━━━━━\u001b[0m\u001b[91m╸\u001b[0m\u001b[90m━━━━━━━━━━━━━━━━━━\u001b[0m \u001b[32m122.9/226.1 kB\u001b[0m \u001b[31m1.7 MB/s\u001b[0m eta \u001b[36m0:00:01\u001b[0m\r\u001b[2K     \u001b[90m━━━━━━━━━━━━━━━━━━━━━━━━━━━━━━━━━━━━━━━━\u001b[0m \u001b[32m226.1/226.1 kB\u001b[0m \u001b[31m2.4 MB/s\u001b[0m eta \u001b[36m0:00:00\u001b[0m\n",
            "\u001b[?25hRequirement already satisfied: scikit-learn>=0.22.2 in /usr/local/lib/python3.10/dist-packages (from dgllife) (1.2.2)\n",
            "Requirement already satisfied: pandas in /usr/local/lib/python3.10/dist-packages (from dgllife) (1.5.3)\n",
            "Requirement already satisfied: requests>=2.22.0 in /usr/local/lib/python3.10/dist-packages (from dgllife) (2.31.0)\n",
            "Requirement already satisfied: tqdm in /usr/local/lib/python3.10/dist-packages (from dgllife) (4.66.1)\n",
            "Requirement already satisfied: numpy>=1.14.0 in /usr/local/lib/python3.10/dist-packages (from dgllife) (1.23.5)\n",
            "Requirement already satisfied: scipy>=1.1.0 in /usr/local/lib/python3.10/dist-packages (from dgllife) (1.11.4)\n",
            "Requirement already satisfied: networkx>=2.1 in /usr/local/lib/python3.10/dist-packages (from dgllife) (3.2.1)\n",
            "Requirement already satisfied: hyperopt in /usr/local/lib/python3.10/dist-packages (from dgllife) (0.2.7)\n",
            "Requirement already satisfied: joblib in /usr/local/lib/python3.10/dist-packages (from dgllife) (1.3.2)\n",
            "Requirement already satisfied: charset-normalizer<4,>=2 in /usr/local/lib/python3.10/dist-packages (from requests>=2.22.0->dgllife) (3.3.2)\n",
            "Requirement already satisfied: idna<4,>=2.5 in /usr/local/lib/python3.10/dist-packages (from requests>=2.22.0->dgllife) (3.6)\n",
            "Requirement already satisfied: urllib3<3,>=1.21.1 in /usr/local/lib/python3.10/dist-packages (from requests>=2.22.0->dgllife) (2.0.7)\n",
            "Requirement already satisfied: certifi>=2017.4.17 in /usr/local/lib/python3.10/dist-packages (from requests>=2.22.0->dgllife) (2023.11.17)\n",
            "Requirement already satisfied: threadpoolctl>=2.0.0 in /usr/local/lib/python3.10/dist-packages (from scikit-learn>=0.22.2->dgllife) (3.2.0)\n",
            "Requirement already satisfied: six in /usr/local/lib/python3.10/dist-packages (from hyperopt->dgllife) (1.16.0)\n",
            "Requirement already satisfied: future in /usr/local/lib/python3.10/dist-packages (from hyperopt->dgllife) (0.18.3)\n",
            "Requirement already satisfied: cloudpickle in /usr/local/lib/python3.10/dist-packages (from hyperopt->dgllife) (2.2.1)\n",
            "Requirement already satisfied: py4j in /usr/local/lib/python3.10/dist-packages (from hyperopt->dgllife) (0.10.9.7)\n",
            "Requirement already satisfied: python-dateutil>=2.8.1 in /usr/local/lib/python3.10/dist-packages (from pandas->dgllife) (2.8.2)\n",
            "Requirement already satisfied: pytz>=2020.1 in /usr/local/lib/python3.10/dist-packages (from pandas->dgllife) (2023.3.post1)\n",
            "Installing collected packages: dgllife\n",
            "Successfully installed dgllife-0.3.2\n"
          ]
        }
      ]
    },
    {
      "cell_type": "code",
      "source": [
        "!pip install dgl"
      ],
      "metadata": {
        "colab": {
          "base_uri": "https://localhost:8080/"
        },
        "id": "6XVhjKBALacI",
        "outputId": "308818dc-b818-4344-d466-2f26d2cd9137"
      },
      "execution_count": null,
      "outputs": [
        {
          "output_type": "stream",
          "name": "stdout",
          "text": [
            "Requirement already satisfied: dgl in /usr/local/lib/python3.10/dist-packages (1.1.3)\n",
            "Requirement already satisfied: numpy>=1.14.0 in /usr/local/lib/python3.10/dist-packages (from dgl) (1.23.5)\n",
            "Requirement already satisfied: scipy>=1.1.0 in /usr/local/lib/python3.10/dist-packages (from dgl) (1.11.4)\n",
            "Requirement already satisfied: networkx>=2.1 in /usr/local/lib/python3.10/dist-packages (from dgl) (3.2.1)\n",
            "Requirement already satisfied: requests>=2.19.0 in /usr/local/lib/python3.10/dist-packages (from dgl) (2.31.0)\n",
            "Requirement already satisfied: tqdm in /usr/local/lib/python3.10/dist-packages (from dgl) (4.66.1)\n",
            "Requirement already satisfied: psutil>=5.8.0 in /usr/local/lib/python3.10/dist-packages (from dgl) (5.9.5)\n",
            "Requirement already satisfied: charset-normalizer<4,>=2 in /usr/local/lib/python3.10/dist-packages (from requests>=2.19.0->dgl) (3.3.2)\n",
            "Requirement already satisfied: idna<4,>=2.5 in /usr/local/lib/python3.10/dist-packages (from requests>=2.19.0->dgl) (3.6)\n",
            "Requirement already satisfied: urllib3<3,>=1.21.1 in /usr/local/lib/python3.10/dist-packages (from requests>=2.19.0->dgl) (2.0.7)\n",
            "Requirement already satisfied: certifi>=2017.4.17 in /usr/local/lib/python3.10/dist-packages (from requests>=2.19.0->dgl) (2023.11.17)\n"
          ]
        }
      ]
    },
    {
      "cell_type": "code",
      "source": [
        "import torch\n",
        "# Check if CUDA is available\n",
        "if torch.cuda.is_available():\n",
        "    # Print CUDA version\n",
        "    print(f\"CUDA Version: {torch.version.cuda}\")\n",
        "else:\n",
        "    print(\"CUDA is not available on this system.\")\n"
      ],
      "metadata": {
        "colab": {
          "base_uri": "https://localhost:8080/"
        },
        "id": "niPS9FKO4lsI",
        "outputId": "25a4cf33-e960-4750-ebee-ed00a19bb2be"
      },
      "execution_count": null,
      "outputs": [
        {
          "output_type": "stream",
          "name": "stdout",
          "text": [
            "CUDA Version: 12.1\n"
          ]
        }
      ]
    },
    {
      "cell_type": "code",
      "source": [
        "import sklearn\n",
        "print(sklearn.__version__)"
      ],
      "metadata": {
        "colab": {
          "base_uri": "https://localhost:8080/"
        },
        "id": "4ypr9-V5D2NE",
        "outputId": "05062f8e-b478-417d-ea23-c611dd52949f"
      },
      "execution_count": null,
      "outputs": [
        {
          "output_type": "stream",
          "name": "stdout",
          "text": [
            "1.2.2\n"
          ]
        }
      ]
    },
    {
      "cell_type": "markdown",
      "source": [
        "## Graph Attention Transformer Modeling with hyperparameter optimization"
      ],
      "metadata": {
        "id": "8lMJgKid76xu"
      }
    },
    {
      "cell_type": "code",
      "source": [
        "%%time\n",
        "from sklearn.model_selection import RandomizedSearchCV\n",
        "import deepchem as dc\n",
        "\n",
        "# Define a function to create and train the GATModel\n",
        "def create_and_train_gat_model(train_dataset, n_heads, hidden_feats, dropout, learning_rate, nb_epoch):\n",
        "    model = GATModel(n_tasks=1, mode='classification', device='cpu', n_heads=n_heads,\n",
        "                     hidden_feats=hidden_feats, dropout=dropout, learning_rate=learning_rate)\n",
        "    model.fit(train_dataset, nb_epoch=nb_epoch)\n",
        "    return model\n",
        "\n",
        "# Define your hyperparameter search space\n",
        "param_dist = {\n",
        "    'n_heads': [4, 8],\n",
        "    'hidden_feats': [64, 128],\n",
        "    'dropout': [0.3, 0.5],\n",
        "    'learning_rate': [0.001, 0.01],\n",
        "    'nb_epoch': [10, 30, 60]\n",
        "}\n",
        "\n",
        "# Define the evaluation metric you want to use (e.g., ROC-AUC, accuracy, etc.)\n",
        "metric = dc.metrics.Metric(dc.metrics.roc_auc_score)\n",
        "\n",
        "# Define your model_builder function\n",
        "def model_builder(**model_params):\n",
        "    n_heads = model_params['n_heads']\n",
        "    hidden_feats = model_params['hidden_feats']\n",
        "    dropout = model_params['dropout']\n",
        "    learning_rate = model_params['learning_rate']\n",
        "    nb_epoch = model_params['nb_epoch']\n",
        "\n",
        "    return create_and_train_gat_model(train_dataset, n_heads, hidden_feats, dropout, learning_rate, nb_epoch)\n",
        "\n",
        "# Create an optimizer and perform hyperparameter search\n",
        "optimizer = dc.hyper.GridHyperparamOpt(model_builder)\n",
        "best_model, best_hyperparams, all_results = optimizer.hyperparam_search(param_dist, train_dataset, test_dataset, metric)\n",
        "\n",
        "# Print the best hyperparameters\n",
        "print(\"Best Hyperparameters:\", best_hyperparams)\n"
      ],
      "metadata": {
        "id": "IgyZ3C5l3WyE",
        "colab": {
          "base_uri": "https://localhost:8080/"
        },
        "outputId": "ccc01ee4-a069-49b7-a1c0-e0b1c4bcccfe"
      },
      "execution_count": null,
      "outputs": [
        {
          "output_type": "stream",
          "name": "stdout",
          "text": [
            "Best Hyperparameters: {'n_heads': 8, 'hidden_feats': 128, 'dropout': 0.3, 'learning_rate': 0.01, 'nb_epoch': 60}\n",
            "CPU times: user 1h 31min 39s, sys: 17.7 s, total: 1h 31min 57s\n",
            "Wall time: 1h 32min 42s\n"
          ]
        }
      ]
    },
    {
      "cell_type": "markdown",
      "source": [
        "## Evaluaton of best model"
      ],
      "metadata": {
        "id": "Vb7J5UJN8Ie3"
      }
    },
    {
      "cell_type": "code",
      "execution_count": null,
      "metadata": {
        "colab": {
          "base_uri": "https://localhost:8080/"
        },
        "id": "nVII4f2Mw7JB",
        "outputId": "2c70f4d2-a0ed-4c2a-b426-2a122508b249"
      },
      "outputs": [
        {
          "output_type": "stream",
          "name": "stdout",
          "text": [
            "Available keys in train_scores: dict_keys(['roc_auc_score'])\n",
            "Training set ROC AUC score: 0.8517752931688282\n",
            "Available keys in test_scores: dict_keys(['roc_auc_score'])\n",
            "Test set ROC AUC score: 0.82469073687204\n"
          ]
        }
      ],
      "source": [
        "import deepchem as dc\n",
        "\n",
        "# Define the roc_auc_score metric\n",
        "roc_auc_metric = dc.metrics.Metric(dc.metrics.roc_auc_score)\n",
        "\n",
        "# Evaluate the model on the training dataset\n",
        "train_scores = best_model.evaluate(train_dataset, [roc_auc_metric])\n",
        "\n",
        "# Print available keys in the train_scores dictionary\n",
        "print(\"Available keys in train_scores:\", train_scores.keys())\n",
        "\n",
        "# Access the ROC AUC score using the correct key\n",
        "roc_auc_train_score = train_scores[roc_auc_metric.name]\n",
        "\n",
        "print('Training set ROC AUC score:', roc_auc_train_score)\n",
        "\n",
        "# Evaluate the model on the test dataset\n",
        "test_scores = best_model.evaluate(test_dataset, [roc_auc_metric])\n",
        "\n",
        "# Print available keys in the test_scores dictionary\n",
        "print(\"Available keys in test_scores:\", test_scores.keys())\n",
        "\n",
        "# Access the ROC AUC score using the correct key\n",
        "roc_auc_test_score = test_scores[roc_auc_metric.name]\n",
        "print('Test set ROC AUC score:', roc_auc_test_score)"
      ]
    },
    {
      "cell_type": "code",
      "execution_count": null,
      "metadata": {
        "id": "XH-No-ZbqCVW",
        "colab": {
          "base_uri": "https://localhost:8080/",
          "height": 1000
        },
        "outputId": "d060c0b3-8486-4b83-83fe-131eeb550d2b"
      },
      "outputs": [
        {
          "output_type": "stream",
          "name": "stdout",
          "text": [
            "Epoch 1/50, Train Accuracy: 0.6593, Valid Accuracy: 0.6536, Test Accuracy: 0.6552\n",
            "Epoch 2/50, Train Accuracy: 0.6225, Valid Accuracy: 0.6373, Test Accuracy: 0.6127\n",
            "Epoch 3/50, Train Accuracy: 0.5990, Valid Accuracy: 0.5866, Test Accuracy: 0.5980\n",
            "Epoch 4/50, Train Accuracy: 0.6923, Valid Accuracy: 0.6716, Test Accuracy: 0.6944\n",
            "Epoch 5/50, Train Accuracy: 0.6446, Valid Accuracy: 0.6487, Test Accuracy: 0.6422\n",
            "Epoch 6/50, Train Accuracy: 0.7024, Valid Accuracy: 0.6797, Test Accuracy: 0.7157\n",
            "Epoch 7/50, Train Accuracy: 0.7035, Valid Accuracy: 0.7092, Test Accuracy: 0.7271\n",
            "Epoch 8/50, Train Accuracy: 0.6789, Valid Accuracy: 0.6748, Test Accuracy: 0.6585\n",
            "Epoch 9/50, Train Accuracy: 0.7389, Valid Accuracy: 0.7288, Test Accuracy: 0.7320\n",
            "Epoch 10/50, Train Accuracy: 0.7252, Valid Accuracy: 0.7386, Test Accuracy: 0.7320\n",
            "Epoch 11/50, Train Accuracy: 0.7143, Valid Accuracy: 0.6928, Test Accuracy: 0.7141\n",
            "Epoch 12/50, Train Accuracy: 0.7466, Valid Accuracy: 0.7598, Test Accuracy: 0.7516\n",
            "Epoch 13/50, Train Accuracy: 0.7487, Valid Accuracy: 0.7484, Test Accuracy: 0.7631\n",
            "Epoch 14/50, Train Accuracy: 0.7532, Valid Accuracy: 0.7467, Test Accuracy: 0.7516\n",
            "Epoch 15/50, Train Accuracy: 0.7508, Valid Accuracy: 0.7729, Test Accuracy: 0.7614\n",
            "Epoch 16/50, Train Accuracy: 0.7715, Valid Accuracy: 0.7680, Test Accuracy: 0.7663\n",
            "Epoch 17/50, Train Accuracy: 0.7329, Valid Accuracy: 0.7255, Test Accuracy: 0.7369\n",
            "Epoch 18/50, Train Accuracy: 0.7676, Valid Accuracy: 0.7598, Test Accuracy: 0.7680\n",
            "Epoch 19/50, Train Accuracy: 0.7627, Valid Accuracy: 0.7549, Test Accuracy: 0.7729\n",
            "Epoch 20/50, Train Accuracy: 0.7830, Valid Accuracy: 0.7614, Test Accuracy: 0.7696\n",
            "Epoch 21/50, Train Accuracy: 0.7841, Valid Accuracy: 0.7876, Test Accuracy: 0.7712\n",
            "Epoch 22/50, Train Accuracy: 0.7652, Valid Accuracy: 0.7500, Test Accuracy: 0.7271\n",
            "Epoch 23/50, Train Accuracy: 0.7364, Valid Accuracy: 0.7141, Test Accuracy: 0.7369\n",
            "Epoch 24/50, Train Accuracy: 0.7992, Valid Accuracy: 0.7827, Test Accuracy: 0.7941\n",
            "Epoch 25/50, Train Accuracy: 0.7858, Valid Accuracy: 0.7827, Test Accuracy: 0.7941\n",
            "Epoch 26/50, Train Accuracy: 0.7284, Valid Accuracy: 0.7173, Test Accuracy: 0.6912\n",
            "Epoch 27/50, Train Accuracy: 0.7946, Valid Accuracy: 0.7745, Test Accuracy: 0.7990\n",
            "Epoch 28/50, Train Accuracy: 0.7711, Valid Accuracy: 0.7337, Test Accuracy: 0.7778\n",
            "Epoch 29/50, Train Accuracy: 0.7981, Valid Accuracy: 0.7827, Test Accuracy: 0.7827\n",
            "Epoch 30/50, Train Accuracy: 0.7886, Valid Accuracy: 0.7712, Test Accuracy: 0.7680\n",
            "Epoch 31/50, Train Accuracy: 0.7242, Valid Accuracy: 0.6993, Test Accuracy: 0.7288\n",
            "Epoch 32/50, Train Accuracy: 0.7872, Valid Accuracy: 0.7435, Test Accuracy: 0.7696\n",
            "Epoch 33/50, Train Accuracy: 0.7753, Valid Accuracy: 0.7190, Test Accuracy: 0.7516\n",
            "Epoch 34/50, Train Accuracy: 0.7809, Valid Accuracy: 0.7549, Test Accuracy: 0.7582\n",
            "Epoch 35/50, Train Accuracy: 0.8268, Valid Accuracy: 0.8039, Test Accuracy: 0.8137\n",
            "Epoch 36/50, Train Accuracy: 0.7841, Valid Accuracy: 0.7549, Test Accuracy: 0.7729\n",
            "Epoch 37/50, Train Accuracy: 0.8342, Valid Accuracy: 0.7941, Test Accuracy: 0.7925\n",
            "Epoch 38/50, Train Accuracy: 0.8041, Valid Accuracy: 0.7712, Test Accuracy: 0.7958\n",
            "Epoch 39/50, Train Accuracy: 0.8381, Valid Accuracy: 0.7990, Test Accuracy: 0.7974\n",
            "Epoch 40/50, Train Accuracy: 0.8268, Valid Accuracy: 0.7958, Test Accuracy: 0.8121\n",
            "Epoch 41/50, Train Accuracy: 0.8237, Valid Accuracy: 0.7827, Test Accuracy: 0.8007\n",
            "Epoch 42/50, Train Accuracy: 0.8517, Valid Accuracy: 0.8105, Test Accuracy: 0.8105\n",
            "Epoch 43/50, Train Accuracy: 0.8325, Valid Accuracy: 0.8023, Test Accuracy: 0.8088\n",
            "Epoch 44/50, Train Accuracy: 0.7820, Valid Accuracy: 0.7516, Test Accuracy: 0.7859\n",
            "Epoch 45/50, Train Accuracy: 0.7823, Valid Accuracy: 0.7467, Test Accuracy: 0.7729\n",
            "Epoch 46/50, Train Accuracy: 0.8293, Valid Accuracy: 0.8023, Test Accuracy: 0.7941\n",
            "Epoch 47/50, Train Accuracy: 0.8209, Valid Accuracy: 0.7794, Test Accuracy: 0.8105\n",
            "Epoch 48/50, Train Accuracy: 0.7981, Valid Accuracy: 0.7500, Test Accuracy: 0.7925\n",
            "Epoch 49/50, Train Accuracy: 0.8507, Valid Accuracy: 0.8154, Test Accuracy: 0.8072\n",
            "Epoch 50/50, Train Accuracy: 0.8451, Valid Accuracy: 0.8121, Test Accuracy: 0.8219\n"
          ]
        },
        {
          "output_type": "display_data",
          "data": {
            "text/plain": [
              "<Figure size 800x600 with 1 Axes>"
            ],
            "image/png": "[encoded data removed]"
          },
          "metadata": {}
        }
      ],
      "source": [
        "import deepchem as dc\n",
        "import numpy as np\n",
        "import matplotlib.pyplot as plt\n",
        "from sklearn.metrics import roc_curve, auc, confusion_matrix, accuracy_score, precision_score, recall_score, f1_score\n",
        "\n",
        "train_accuracies = []\n",
        "valid_accuracies = []\n",
        "test_accuracies = []\n",
        "num_epochs = 50\n",
        "\n",
        "for epoch in range(num_epochs):\n",
        "    # Fit the model for one epoch\n",
        "    model.fit(train_dataset, nb_epoch=1)\n",
        "\n",
        "    # Calculate training accuracy\n",
        "    train_scores = best_model.evaluate(train_dataset, [dc.metrics.Metric(dc.metrics.accuracy_score)])\n",
        "    train_accuracy = train_scores[\"accuracy_score\"]\n",
        "\n",
        "    # Calculate validation accuracy\n",
        "    valid_scores = best_model.evaluate(valid_dataset, [dc.metrics.Metric(dc.metrics.accuracy_score)])\n",
        "    valid_accuracy = valid_scores[\"accuracy_score\"]\n",
        "\n",
        "    # Calculate test accuracy\n",
        "    test_scores = best_model.evaluate(test_dataset, [dc.metrics.Metric(dc.metrics.accuracy_score)])\n",
        "    test_accuracy = test_scores[\"accuracy_score\"]\n",
        "\n",
        "    # Append the accuracy values to the lists\n",
        "    train_accuracies.append(train_accuracy)\n",
        "    valid_accuracies.append(valid_accuracy)\n",
        "    test_accuracies.append(test_accuracy)\n",
        "\n",
        "    # Print the accuracies for the current epoch\n",
        "    print(f\"Epoch {epoch + 1}/{num_epochs}, Train Accuracy: {train_accuracy:.4f}, Valid Accuracy: {valid_accuracy:.4f}, Test Accuracy: {test_accuracy:.4f}\")\n",
        "\n",
        "# Plot training, validation, and test accuracy curves\n",
        "plt.figure(figsize=(8, 6))\n",
        "plt.plot(range(1, num_epochs + 1), train_accuracies, label=\"Training Accuracy\")\n",
        "plt.plot(range(1, num_epochs + 1), valid_accuracies, label=\"Validation Accuracy\")\n",
        "plt.plot(range(1, num_epochs + 1), test_accuracies, label=\"Test Accuracy\")\n",
        "plt.xlabel(\"Epoch\")\n",
        "plt.ylabel(\"Accuracy\")\n",
        "plt.title(\"Training, Validation, and Test Accuracy\")\n",
        "plt.legend()\n",
        "plt.grid(True)\n",
        "plt.show()\n"
      ]
    },
    {
      "cell_type": "code",
      "source": [
        "# Make predictions on the test dataset\n",
        "y_true_valid = valid_dataset.y.ravel()  # Flatten y_true to a 1D array\n",
        "y_pred_valid = best_model.predict(valid_dataset).reshape(-1, 2)  # Reshape y_pred to (num_samples, num_classes)\n",
        "y_pred_binary_valid = np.argmax(y_pred_valid, axis=1)  # Convert probabilities to binary predictions\n",
        "\n",
        "\n",
        "valid_accuracy = accuracy_score(y_true_valid, y_pred_binary_valid)\n",
        "valid_accuracy"
      ],
      "metadata": {
        "colab": {
          "base_uri": "https://localhost:8080/"
        },
        "id": "NeQhqCXPqxVU",
        "outputId": "46574934-04b7-48e7-e358-e889494c2401"
      },
      "execution_count": null,
      "outputs": [
        {
          "output_type": "execute_result",
          "data": {
            "text/plain": [
              "0.7140522875816994"
            ]
          },
          "metadata": {},
          "execution_count": 25
        }
      ]
    },
    {
      "cell_type": "code",
      "source": [
        "import deepchem as dc\n",
        "\n",
        "# Define the roc_auc_score metric\n",
        "roc_auc_metric = dc.metrics.Metric(dc.metrics.roc_auc_score)\n",
        "\n",
        "matthew_coff= dc.metrics.Metric(dc.metrics.matthews_corrcoef)\n",
        "matthew_coff=best_model.evaluate(test_dataset, [matthew_coff])\n",
        "# Evaluate the model on the training dataset\n",
        "kappa_score= dc.metrics.Metric(dc.metrics.kappa_score)\n",
        "kappa_score=best_model.evaluate(test_dataset, [kappa_score])\n",
        "train_scores = best_model.evaluate(train_dataset, [roc_auc_metric])\n",
        "precision_score= dc.metrics.Metric(dc.metrics.precision_score)\n",
        "# Print available keys in the train_scores dictionary\n",
        "print(\"Available keys in train_scores:\", train_scores.keys())\n",
        "\n",
        "# Access the ROC AUC score using the correct key\n",
        "roc_auc_train_score = train_scores[roc_auc_metric.name]\n",
        "\n",
        "print('Training set ROC AUC score:', roc_auc_train_score)\n",
        "\n",
        "# Evaluate the model on the test dataset\n",
        "test_scores = best_model.evaluate(test_dataset, [roc_auc_metric])\n",
        "\n",
        "# Print available keys in the test_scores dictionary\n",
        "print(\"Available keys in test_scores:\", test_scores.keys())\n",
        "\n",
        "# Access the ROC AUC score using the correct key\n",
        "roc_auc_test_score = test_scores[roc_auc_metric.name]\n",
        "\n",
        "print('Test set ROC AUC score:', roc_auc_test_score)\n",
        "\n",
        "print ('The mathew coefficient is:',matthew_coff)\n",
        "\n",
        "print('The kappa score is:',kappa_score )\n",
        "print('Precision score is:',precision_score )\n"
      ],
      "metadata": {
        "colab": {
          "base_uri": "https://localhost:8080/"
        },
        "id": "LKCTmlb7q_j0",
        "outputId": "0610b713-30bb-481f-e2ad-da6cafeb92a6"
      },
      "execution_count": null,
      "outputs": [
        {
          "output_type": "stream",
          "name": "stdout",
          "text": [
            "Available keys in train_scores: dict_keys(['roc_auc_score'])\n",
            "Training set ROC AUC score: 0.8517752931688282\n",
            "Available keys in test_scores: dict_keys(['roc_auc_score'])\n",
            "Test set ROC AUC score: 0.82469073687204\n",
            "The mathew coefficient is: {'matthews_corrcoef': 0.0}\n",
            "The kappa score is: {'cohen_kappa_score': 0.0}\n",
            "Precision score is: <deepchem.metrics.metric.Metric object at 0x7db8be71db10>\n"
          ]
        }
      ]
    },
    {
      "cell_type": "markdown",
      "metadata": {
        "id": "t1HitJk24Yvt"
      },
      "source": [
        "## Cross species evaluation"
      ]
    },
    {
      "cell_type": "markdown",
      "metadata": {
        "id": "8eK0FybP72kB"
      },
      "source": [
        "### Upload and prep for species datasets\n",
        "Species datasets: eel (CHEMBL4078), cow (CHEMBL4768), mouse (CHEMBL3199), ray (CHEMBL4780), mosquito (CHEMBL2046266), mouse (CHEMBL3198), and independent  human dataset containing molecules not present on  ChEMBL22  were obtained from Vignaux et al(2023) for validation and specificity inferences."
      ]
    },
    {
      "cell_type": "code",
      "source": [
        "df_humanIndependent=pd.read_excel('/content/drive/MyDrive/Predictive Generative transfer learning/TransferAll/CleanedTestDatasetSmiles/df_humanIndependent.xlsx')\n",
        "df_eel=pd.read_excel('/content/drive/MyDrive/Predictive Generative transfer learning/TransferAll/CleanedTestDatasetSmiles/df_eel.xlsx')\n",
        "df_mouse=pd.read_excel('/content/drive/MyDrive/Predictive Generative transfer learning/TransferAll/CleanedTestDatasetSmiles/df_mouse.xlsx')\n",
        "df_cow=pd.read_excel('/content/drive/MyDrive/Predictive Generative transfer learning/TransferAll/CleanedTestDatasetSmiles/df_cow.xlsx')\n",
        "df_ray=pd.read_excel('/content/drive/MyDrive/Predictive Generative transfer learning/TransferAll/CleanedTestDatasetSmiles/df_ray.xlsx')\n",
        "df_mosquito=pd.read_excel('/content/drive/MyDrive/Predictive Generative transfer learning/TransferAll/CleanedTestDatasetSmiles/df_mouse.xlsx')"
      ],
      "metadata": {
        "id": "iVw6osf7FMk_"
      },
      "execution_count": null,
      "outputs": []
    },
    {
      "cell_type": "code",
      "source": [
        "df_humanIndependent"
      ],
      "metadata": {
        "id": "JfG4X8eFLMfZ",
        "colab": {
          "base_uri": "https://localhost:8080/",
          "height": 669
        },
        "outputId": "ec3b92fd-18df-4172-cfd7-031dc20b91af"
      },
      "execution_count": null,
      "outputs": [
        {
          "output_type": "execute_result",
          "data": {
            "text/plain": [
              "     CdId  Structure  Mol Weight       Formula  index          PMID  \\\n",
              "0       1        NaN     400.950  C23H29ClN2O2      0  PMID31316368   \n",
              "1       2        NaN     582.793    C35H46N6O2      1  PMID32932702   \n",
              "2       3        NaN     610.847    C37H50N6O2      2  PMID32932702   \n",
              "3       4        NaN     618.826    C38H46N6O2      3  PMID32932702   \n",
              "4       5        NaN     213.303      C14H17N2      4  PMID29534488   \n",
              "..    ...        ...         ...           ...    ...           ...   \n",
              "203   204        NaN     427.504    C26H25N3O3    211  PMID31852270   \n",
              "204   205        NaN     457.530    C27H27N3O4    212  PMID31852270   \n",
              "205   206        NaN     554.739    C33H42N6O2    213  PMID32932702   \n",
              "206   207        NaN     526.685    C31H38N6O2    214  PMID32932702   \n",
              "207   208        NaN     590.772    C36H42N6O2    215  PMID32932702   \n",
              "\n",
              "                                         Chemical Name  \\\n",
              "0    1-(4-Amino-5-chloro-2-methoxyphenyl)-3-(1-(3-m...   \n",
              "1    13-bis[5-(o-cyanobenzylethylamino)pentyl]-6-me...   \n",
              "2    13-bis[6-(o-cyanobenzylethylamino)hexyl]-6-met...   \n",
              "3    13-bis[5-(o-cyanobenzylethylamino)pentyl]-quin...   \n",
              "4    9-Amino-1234-tetrahydro-10-methylacridin-10-iu...   \n",
              "..                                                 ...   \n",
              "203  N-(4-((Benzyl(methyl)amino)methyl)phenyl)-7-me...   \n",
              "204  N-(4-((benzyl(methyl)amino)methyl)phenyl)-67-d...   \n",
              "205  13-bis[4-(o-cyanobenzylethylamino)butyl]-6-met...   \n",
              "206  13-bis[5-(o-cyanobenzylamino)pentyl]-6-methylu...   \n",
              "207  13-bis[4-(o-cyanobenzylethylamino)butyl]-quina...   \n",
              "\n",
              "                                                Smiles Standard Value  \\\n",
              "0       COc1cc(N)c(Cl)cc1C(=O)CCC1CCN(Cc2cccc(C)c2)CC1            161   \n",
              "1    CCN(CCCCCn1c(C)cc(=O)n(CCCCCN(CC)Cc2ccccc2C#N)...            7.3   \n",
              "2    CCN(CCCCCCn1c(C)cc(=O)n(CCCCCCN(CC)Cc2ccccc2C#...             29   \n",
              "3    CCN(CCCCCn1c(=O)c2ccccc2n(CCCCCN(CC)Cc2ccccc2C...             38   \n",
              "4                        C[n+]1c2c(c(N)c3ccccc31)CCCC2             12   \n",
              "..                                                 ...            ...   \n",
              "203  COc1ccc2c(=O)cc(C(=O)Nc3ccc(CN(C)Cc4ccccc4)cc3...           2.3    \n",
              "204  COc1cc2[nH]c(C(=O)Nc3ccc(CN(C)Cc4ccccc4)cc3)cc...           4.5    \n",
              "205  CCN(CCCCn1c(C)cc(=O)n(CCCCN(CC)Cc2ccccc2C#N)c1...              7   \n",
              "206  Cc1cc(=O)n(CCCCCNCc2ccccc2C#N)c(=O)n1CCCCCNCc1...            480   \n",
              "207  CCN(CCCCn1c(=O)c2ccccc2n(CCCCN(CC)Cc2ccccc2C#N...           5520   \n",
              "\n",
              "    Standard Units Standard Relation Unnamed: 6 Unnamed: 7  \\\n",
              "0               nM               '='        NaN        NaN   \n",
              "1               nM               '='        NaN        NaN   \n",
              "2               nM               '='        NaN        NaN   \n",
              "3               nM               '='        NaN        NaN   \n",
              "4               µM               '='        NaN        NaN   \n",
              "..             ...               ...        ...        ...   \n",
              "203             µM               '='        NaN        NaN   \n",
              "204             µM               '='        NaN        NaN   \n",
              "205             nM               '='      fixed        NaN   \n",
              "206             nM               '='        NaN        NaN   \n",
              "207             nM               '='        NaN        NaN   \n",
              "\n",
              "                           InChi          MW standardized_Standard Units  \\\n",
              "0    MLGZODWUOIZOPO-UHFFFAOYSA-N  400.191756                          nm   \n",
              "1    HSTIQTQFKBPUBM-UHFFFAOYSA-N  582.368225                          nm   \n",
              "2    VZLMPEWEWNBPNU-UHFFFAOYSA-N  610.399525                          nm   \n",
              "3    MUHGJDAKOZGKRH-UHFFFAOYSA-N  618.368225                          nm   \n",
              "4    XZCXCNCLCXZILU-UHFFFAOYSA-O  213.138625                          um   \n",
              "..                           ...         ...                         ...   \n",
              "203  RISZPUMPOOHFSR-UHFFFAOYSA-N  427.189592                          um   \n",
              "204  PHAZELHZUUHUTB-UHFFFAOYSA-N  457.200156                          um   \n",
              "205  HWHRMPMHFDVNAP-UHFFFAOYSA-N  554.336925                          nm   \n",
              "206  LCCSXIJDKYAOER-UHFFFAOYSA-N  526.305624                          nm   \n",
              "207  WDHXSUQILHXCGF-UHFFFAOYSA-N  590.336925                          nm   \n",
              "\n",
              "     neg_log_M_Standard Valuemean  binary_activities  \\\n",
              "0                        7.132772                  1   \n",
              "1                        8.453114                  1   \n",
              "2                        7.578695                  1   \n",
              "3                        7.378729                  1   \n",
              "4                        4.920819                  0   \n",
              "..                            ...                ...   \n",
              "203                      5.638272                  0   \n",
              "204                      5.346787                  0   \n",
              "205                      8.154902                  1   \n",
              "206                      6.318759                  1   \n",
              "207                      5.258061                  0   \n",
              "\n",
              "                                            cleanedMol  \n",
              "0       COc1cc(N)c(Cl)cc1C(=O)CCC1CCN(Cc2cccc(C)c2)CC1  \n",
              "1    CCN(CCCCCn1c(C)cc(=O)n(CCCCCN(CC)Cc2ccccc2C#N)...  \n",
              "2    CCN(CCCCCCn1c(C)cc(=O)n(CCCCCCN(CC)Cc2ccccc2C#...  \n",
              "3    CCN(CCCCCn1c(=O)c2ccccc2n(CCCCCN(CC)Cc2ccccc2C...  \n",
              "4                        C[n+]1c2c(c(N)c3ccccc31)CCCC2  \n",
              "..                                                 ...  \n",
              "203  COc1ccc2c(=O)cc(C(=O)Nc3ccc(CN(C)Cc4ccccc4)cc3...  \n",
              "204  COc1cc2[nH]c(C(=O)Nc3ccc(CN(C)Cc4ccccc4)cc3)cc...  \n",
              "205  CCN(CCCCn1c(C)cc(=O)n(CCCCN(CC)Cc2ccccc2C#N)c1...  \n",
              "206  Cc1cc(=O)n(CCCCCNCc2ccccc2C#N)c(=O)n1CCCCCNCc1...  \n",
              "207  CCN(CCCCn1c(=O)c2ccccc2n(CCCCN(CC)Cc2ccccc2C#N...  \n",
              "\n",
              "[208 rows x 19 columns]"
            ],
            "text/html": [
              "\n",
              "  <div id=\"df-4ef752fa-e178-4077-a7df-cac8d0d5e9f3\" class=\"colab-df-container\">\n",
              "    <div>\n",
              "<style scoped>\n",
              "    .dataframe tbody tr th:only-of-type {\n",
              "        vertical-align: middle;\n",
              "    }\n",
              "\n",
              "    .dataframe tbody tr th {\n",
              "        vertical-align: top;\n",
              "    }\n",
              "\n",
              "    .dataframe thead th {\n",
              "        text-align: right;\n",
              "    }\n",
              "</style>\n",
              "<table border=\"1\" class=\"dataframe\">\n",
              "  <thead>\n",
              "    <tr style=\"text-align: right;\">\n",
              "      <th></th>\n",
              "      <th>CdId</th>\n",
              "      <th>Structure</th>\n",
              "      <th>Mol Weight</th>\n",
              "      <th>Formula</th>\n",
              "      <th>index</th>\n",
              "      <th>PMID</th>\n",
              "      <th>Chemical Name</th>\n",
              "      <th>Smiles</th>\n",
              "      <th>Standard Value</th>\n",
              "      <th>Standard Units</th>\n",
              "      <th>Standard Relation</th>\n",
              "      <th>Unnamed: 6</th>\n",
              "      <th>Unnamed: 7</th>\n",
              "      <th>InChi</th>\n",
              "      <th>MW</th>\n",
              "      <th>standardized_Standard Units</th>\n",
              "      <th>neg_log_M_Standard Valuemean</th>\n",
              "      <th>binary_activities</th>\n",
              "      <th>cleanedMol</th>\n",
              "    </tr>\n",
              "  </thead>\n",
              "  <tbody>\n",
              "    <tr>\n",
              "      <th>0</th>\n",
              "      <td>1</td>\n",
              "      <td>NaN</td>\n",
              "      <td>400.950</td>\n",
              "      <td>C23H29ClN2O2</td>\n",
              "      <td>0</td>\n",
              "      <td>PMID31316368</td>\n",
              "      <td>1-(4-Amino-5-chloro-2-methoxyphenyl)-3-(1-(3-m...</td>\n",
              "      <td>COc1cc(N)c(Cl)cc1C(=O)CCC1CCN(Cc2cccc(C)c2)CC1</td>\n",
              "      <td>161</td>\n",
              "      <td>nM</td>\n",
              "      <td>'='</td>\n",
              "      <td>NaN</td>\n",
              "      <td>NaN</td>\n",
              "      <td>MLGZODWUOIZOPO-UHFFFAOYSA-N</td>\n",
              "      <td>400.191756</td>\n",
              "      <td>nm</td>\n",
              "      <td>7.132772</td>\n",
              "      <td>1</td>\n",
              "      <td>COc1cc(N)c(Cl)cc1C(=O)CCC1CCN(Cc2cccc(C)c2)CC1</td>\n",
              "    </tr>\n",
              "    <tr>\n",
              "      <th>1</th>\n",
              "      <td>2</td>\n",
              "      <td>NaN</td>\n",
              "      <td>582.793</td>\n",
              "      <td>C35H46N6O2</td>\n",
              "      <td>1</td>\n",
              "      <td>PMID32932702</td>\n",
              "      <td>13-bis[5-(o-cyanobenzylethylamino)pentyl]-6-me...</td>\n",
              "      <td>CCN(CCCCCn1c(C)cc(=O)n(CCCCCN(CC)Cc2ccccc2C#N)...</td>\n",
              "      <td>7.3</td>\n",
              "      <td>nM</td>\n",
              "      <td>'='</td>\n",
              "      <td>NaN</td>\n",
              "      <td>NaN</td>\n",
              "      <td>HSTIQTQFKBPUBM-UHFFFAOYSA-N</td>\n",
              "      <td>582.368225</td>\n",
              "      <td>nm</td>\n",
              "      <td>8.453114</td>\n",
              "      <td>1</td>\n",
              "      <td>CCN(CCCCCn1c(C)cc(=O)n(CCCCCN(CC)Cc2ccccc2C#N)...</td>\n",
              "    </tr>\n",
              "    <tr>\n",
              "      <th>2</th>\n",
              "      <td>3</td>\n",
              "      <td>NaN</td>\n",
              "      <td>610.847</td>\n",
              "      <td>C37H50N6O2</td>\n",
              "      <td>2</td>\n",
              "      <td>PMID32932702</td>\n",
              "      <td>13-bis[6-(o-cyanobenzylethylamino)hexyl]-6-met...</td>\n",
              "      <td>CCN(CCCCCCn1c(C)cc(=O)n(CCCCCCN(CC)Cc2ccccc2C#...</td>\n",
              "      <td>29</td>\n",
              "      <td>nM</td>\n",
              "      <td>'='</td>\n",
              "      <td>NaN</td>\n",
              "      <td>NaN</td>\n",
              "      <td>VZLMPEWEWNBPNU-UHFFFAOYSA-N</td>\n",
              "      <td>610.399525</td>\n",
              "      <td>nm</td>\n",
              "      <td>7.578695</td>\n",
              "      <td>1</td>\n",
              "      <td>CCN(CCCCCCn1c(C)cc(=O)n(CCCCCCN(CC)Cc2ccccc2C#...</td>\n",
              "    </tr>\n",
              "    <tr>\n",
              "      <th>3</th>\n",
              "      <td>4</td>\n",
              "      <td>NaN</td>\n",
              "      <td>618.826</td>\n",
              "      <td>C38H46N6O2</td>\n",
              "      <td>3</td>\n",
              "      <td>PMID32932702</td>\n",
              "      <td>13-bis[5-(o-cyanobenzylethylamino)pentyl]-quin...</td>\n",
              "      <td>CCN(CCCCCn1c(=O)c2ccccc2n(CCCCCN(CC)Cc2ccccc2C...</td>\n",
              "      <td>38</td>\n",
              "      <td>nM</td>\n",
              "      <td>'='</td>\n",
              "      <td>NaN</td>\n",
              "      <td>NaN</td>\n",
              "      <td>MUHGJDAKOZGKRH-UHFFFAOYSA-N</td>\n",
              "      <td>618.368225</td>\n",
              "      <td>nm</td>\n",
              "      <td>7.378729</td>\n",
              "      <td>1</td>\n",
              "      <td>CCN(CCCCCn1c(=O)c2ccccc2n(CCCCCN(CC)Cc2ccccc2C...</td>\n",
              "    </tr>\n",
              "    <tr>\n",
              "      <th>4</th>\n",
              "      <td>5</td>\n",
              "      <td>NaN</td>\n",
              "      <td>213.303</td>\n",
              "      <td>C14H17N2</td>\n",
              "      <td>4</td>\n",
              "      <td>PMID29534488</td>\n",
              "      <td>9-Amino-1234-tetrahydro-10-methylacridin-10-iu...</td>\n",
              "      <td>C[n+]1c2c(c(N)c3ccccc31)CCCC2</td>\n",
              "      <td>12</td>\n",
              "      <td>µM</td>\n",
              "      <td>'='</td>\n",
              "      <td>NaN</td>\n",
              "      <td>NaN</td>\n",
              "      <td>XZCXCNCLCXZILU-UHFFFAOYSA-O</td>\n",
              "      <td>213.138625</td>\n",
              "      <td>um</td>\n",
              "      <td>4.920819</td>\n",
              "      <td>0</td>\n",
              "      <td>C[n+]1c2c(c(N)c3ccccc31)CCCC2</td>\n",
              "    </tr>\n",
              "    <tr>\n",
              "      <th>...</th>\n",
              "      <td>...</td>\n",
              "      <td>...</td>\n",
              "      <td>...</td>\n",
              "      <td>...</td>\n",
              "      <td>...</td>\n",
              "      <td>...</td>\n",
              "      <td>...</td>\n",
              "      <td>...</td>\n",
              "      <td>...</td>\n",
              "      <td>...</td>\n",
              "      <td>...</td>\n",
              "      <td>...</td>\n",
              "      <td>...</td>\n",
              "      <td>...</td>\n",
              "      <td>...</td>\n",
              "      <td>...</td>\n",
              "      <td>...</td>\n",
              "      <td>...</td>\n",
              "      <td>...</td>\n",
              "    </tr>\n",
              "    <tr>\n",
              "      <th>203</th>\n",
              "      <td>204</td>\n",
              "      <td>NaN</td>\n",
              "      <td>427.504</td>\n",
              "      <td>C26H25N3O3</td>\n",
              "      <td>211</td>\n",
              "      <td>PMID31852270</td>\n",
              "      <td>N-(4-((Benzyl(methyl)amino)methyl)phenyl)-7-me...</td>\n",
              "      <td>COc1ccc2c(=O)cc(C(=O)Nc3ccc(CN(C)Cc4ccccc4)cc3...</td>\n",
              "      <td>2.3</td>\n",
              "      <td>µM</td>\n",
              "      <td>'='</td>\n",
              "      <td>NaN</td>\n",
              "      <td>NaN</td>\n",
              "      <td>RISZPUMPOOHFSR-UHFFFAOYSA-N</td>\n",
              "      <td>427.189592</td>\n",
              "      <td>um</td>\n",
              "      <td>5.638272</td>\n",
              "      <td>0</td>\n",
              "      <td>COc1ccc2c(=O)cc(C(=O)Nc3ccc(CN(C)Cc4ccccc4)cc3...</td>\n",
              "    </tr>\n",
              "    <tr>\n",
              "      <th>204</th>\n",
              "      <td>205</td>\n",
              "      <td>NaN</td>\n",
              "      <td>457.530</td>\n",
              "      <td>C27H27N3O4</td>\n",
              "      <td>212</td>\n",
              "      <td>PMID31852270</td>\n",
              "      <td>N-(4-((benzyl(methyl)amino)methyl)phenyl)-67-d...</td>\n",
              "      <td>COc1cc2[nH]c(C(=O)Nc3ccc(CN(C)Cc4ccccc4)cc3)cc...</td>\n",
              "      <td>4.5</td>\n",
              "      <td>µM</td>\n",
              "      <td>'='</td>\n",
              "      <td>NaN</td>\n",
              "      <td>NaN</td>\n",
              "      <td>PHAZELHZUUHUTB-UHFFFAOYSA-N</td>\n",
              "      <td>457.200156</td>\n",
              "      <td>um</td>\n",
              "      <td>5.346787</td>\n",
              "      <td>0</td>\n",
              "      <td>COc1cc2[nH]c(C(=O)Nc3ccc(CN(C)Cc4ccccc4)cc3)cc...</td>\n",
              "    </tr>\n",
              "    <tr>\n",
              "      <th>205</th>\n",
              "      <td>206</td>\n",
              "      <td>NaN</td>\n",
              "      <td>554.739</td>\n",
              "      <td>C33H42N6O2</td>\n",
              "      <td>213</td>\n",
              "      <td>PMID32932702</td>\n",
              "      <td>13-bis[4-(o-cyanobenzylethylamino)butyl]-6-met...</td>\n",
              "      <td>CCN(CCCCn1c(C)cc(=O)n(CCCCN(CC)Cc2ccccc2C#N)c1...</td>\n",
              "      <td>7</td>\n",
              "      <td>nM</td>\n",
              "      <td>'='</td>\n",
              "      <td>fixed</td>\n",
              "      <td>NaN</td>\n",
              "      <td>HWHRMPMHFDVNAP-UHFFFAOYSA-N</td>\n",
              "      <td>554.336925</td>\n",
              "      <td>nm</td>\n",
              "      <td>8.154902</td>\n",
              "      <td>1</td>\n",
              "      <td>CCN(CCCCn1c(C)cc(=O)n(CCCCN(CC)Cc2ccccc2C#N)c1...</td>\n",
              "    </tr>\n",
              "    <tr>\n",
              "      <th>206</th>\n",
              "      <td>207</td>\n",
              "      <td>NaN</td>\n",
              "      <td>526.685</td>\n",
              "      <td>C31H38N6O2</td>\n",
              "      <td>214</td>\n",
              "      <td>PMID32932702</td>\n",
              "      <td>13-bis[5-(o-cyanobenzylamino)pentyl]-6-methylu...</td>\n",
              "      <td>Cc1cc(=O)n(CCCCCNCc2ccccc2C#N)c(=O)n1CCCCCNCc1...</td>\n",
              "      <td>480</td>\n",
              "      <td>nM</td>\n",
              "      <td>'='</td>\n",
              "      <td>NaN</td>\n",
              "      <td>NaN</td>\n",
              "      <td>LCCSXIJDKYAOER-UHFFFAOYSA-N</td>\n",
              "      <td>526.305624</td>\n",
              "      <td>nm</td>\n",
              "      <td>6.318759</td>\n",
              "      <td>1</td>\n",
              "      <td>Cc1cc(=O)n(CCCCCNCc2ccccc2C#N)c(=O)n1CCCCCNCc1...</td>\n",
              "    </tr>\n",
              "    <tr>\n",
              "      <th>207</th>\n",
              "      <td>208</td>\n",
              "      <td>NaN</td>\n",
              "      <td>590.772</td>\n",
              "      <td>C36H42N6O2</td>\n",
              "      <td>215</td>\n",
              "      <td>PMID32932702</td>\n",
              "      <td>13-bis[4-(o-cyanobenzylethylamino)butyl]-quina...</td>\n",
              "      <td>CCN(CCCCn1c(=O)c2ccccc2n(CCCCN(CC)Cc2ccccc2C#N...</td>\n",
              "      <td>5520</td>\n",
              "      <td>nM</td>\n",
              "      <td>'='</td>\n",
              "      <td>NaN</td>\n",
              "      <td>NaN</td>\n",
              "      <td>WDHXSUQILHXCGF-UHFFFAOYSA-N</td>\n",
              "      <td>590.336925</td>\n",
              "      <td>nm</td>\n",
              "      <td>5.258061</td>\n",
              "      <td>0</td>\n",
              "      <td>CCN(CCCCn1c(=O)c2ccccc2n(CCCCN(CC)Cc2ccccc2C#N...</td>\n",
              "    </tr>\n",
              "  </tbody>\n",
              "</table>\n",
              "<p>208 rows × 19 columns</p>\n",
              "</div>\n",
              "    <div class=\"colab-df-buttons\">\n",
              "\n",
              "  <div class=\"colab-df-container\">\n",
              "    <button class=\"colab-df-convert\" onclick=\"convertToInteractive('df-4ef752fa-e178-4077-a7df-cac8d0d5e9f3')\"\n",
              "            title=\"Convert this dataframe to an interactive table.\"\n",
              "            style=\"display:none;\">\n",
              "\n",
              "  <svg xmlns=\"http://www.w3.org/2000/svg\" height=\"24px\" viewBox=\"0 -960 960 960\">\n",
              "    <path d=\"M120-120v-720h720v720H120Zm60-500h600v-160H180v160Zm220 220h160v-160H400v160Zm0 220h160v-160H400v160ZM180-400h160v-160H180v160Zm440 0h160v-160H620v160ZM180-180h160v-160H180v160Zm440 0h160v-160H620v160Z\"/>\n",
              "  </svg>\n",
              "    </button>\n",
              "\n",
              "  <style>\n",
              "    .colab-df-container {\n",
              "      display:flex;\n",
              "      gap: 12px;\n",
              "    }\n",
              "\n",
              "    .colab-df-convert {\n",
              "      background-color: #E8F0FE;\n",
              "      border: none;\n",
              "      border-radius: 50%;\n",
              "      cursor: pointer;\n",
              "      display: none;\n",
              "      fill: #1967D2;\n",
              "      height: 32px;\n",
              "      padding: 0 0 0 0;\n",
              "      width: 32px;\n",
              "    }\n",
              "\n",
              "    .colab-df-convert:hover {\n",
              "      background-color: #E2EBFA;\n",
              "      box-shadow: 0px 1px 2px rgba(60, 64, 67, 0.3), 0px 1px 3px 1px rgba(60, 64, 67, 0.15);\n",
              "      fill: #174EA6;\n",
              "    }\n",
              "\n",
              "    .colab-df-buttons div {\n",
              "      margin-bottom: 4px;\n",
              "    }\n",
              "\n",
              "    [theme=dark] .colab-df-convert {\n",
              "      background-color: #3B4455;\n",
              "      fill: #D2E3FC;\n",
              "    }\n",
              "\n",
              "    [theme=dark] .colab-df-convert:hover {\n",
              "      background-color: #434B5C;\n",
              "      box-shadow: 0px 1px 3px 1px rgba(0, 0, 0, 0.15);\n",
              "      filter: drop-shadow(0px 1px 2px rgba(0, 0, 0, 0.3));\n",
              "      fill: #FFFFFF;\n",
              "    }\n",
              "  </style>\n",
              "\n",
              "    <script>\n",
              "      const buttonEl =\n",
              "        document.querySelector('#df-4ef752fa-e178-4077-a7df-cac8d0d5e9f3 button.colab-df-convert');\n",
              "      buttonEl.style.display =\n",
              "        google.colab.kernel.accessAllowed ? 'block' : 'none';\n",
              "\n",
              "      async function convertToInteractive(key) {\n",
              "        const element = document.querySelector('#df-4ef752fa-e178-4077-a7df-cac8d0d5e9f3');\n",
              "        const dataTable =\n",
              "          await google.colab.kernel.invokeFunction('convertToInteractive',\n",
              "                                                    [key], {});\n",
              "        if (!dataTable) return;\n",
              "\n",
              "        const docLinkHtml = 'Like what you see? Visit the ' +\n",
              "          '<a target=\"_blank\" href=https://colab.research.google.com/notebooks/data_table.ipynb>data table notebook</a>'\n",
              "          + ' to learn more about interactive tables.';\n",
              "        element.innerHTML = '';\n",
              "        dataTable['output_type'] = 'display_data';\n",
              "        await google.colab.output.renderOutput(dataTable, element);\n",
              "        const docLink = document.createElement('div');\n",
              "        docLink.innerHTML = docLinkHtml;\n",
              "        element.appendChild(docLink);\n",
              "      }\n",
              "    </script>\n",
              "  </div>\n",
              "\n",
              "\n",
              "<div id=\"df-e62f3822-f398-4a0a-91cd-f7d470cbbaa7\">\n",
              "  <button class=\"colab-df-quickchart\" onclick=\"quickchart('df-e62f3822-f398-4a0a-91cd-f7d470cbbaa7')\"\n",
              "            title=\"Suggest charts\"\n",
              "            style=\"display:none;\">\n",
              "\n",
              "<svg xmlns=\"http://www.w3.org/2000/svg\" height=\"24px\"viewBox=\"0 0 24 24\"\n",
              "     width=\"24px\">\n",
              "    <g>\n",
              "        <path d=\"M19 3H5c-1.1 0-2 .9-2 2v14c0 1.1.9 2 2 2h14c1.1 0 2-.9 2-2V5c0-1.1-.9-2-2-2zM9 17H7v-7h2v7zm4 0h-2V7h2v10zm4 0h-2v-4h2v4z\"/>\n",
              "    </g>\n",
              "</svg>\n",
              "  </button>\n",
              "\n",
              "<style>\n",
              "  .colab-df-quickchart {\n",
              "      --bg-color: #E8F0FE;\n",
              "      --fill-color: #1967D2;\n",
              "      --hover-bg-color: #E2EBFA;\n",
              "      --hover-fill-color: #174EA6;\n",
              "      --disabled-fill-color: #AAA;\n",
              "      --disabled-bg-color: #DDD;\n",
              "  }\n",
              "\n",
              "  [theme=dark] .colab-df-quickchart {\n",
              "      --bg-color: #3B4455;\n",
              "      --fill-color: #D2E3FC;\n",
              "      --hover-bg-color: #434B5C;\n",
              "      --hover-fill-color: #FFFFFF;\n",
              "      --disabled-bg-color: #3B4455;\n",
              "      --disabled-fill-color: #666;\n",
              "  }\n",
              "\n",
              "  .colab-df-quickchart {\n",
              "    background-color: var(--bg-color);\n",
              "    border: none;\n",
              "    border-radius: 50%;\n",
              "    cursor: pointer;\n",
              "    display: none;\n",
              "    fill: var(--fill-color);\n",
              "    height: 32px;\n",
              "    padding: 0;\n",
              "    width: 32px;\n",
              "  }\n",
              "\n",
              "  .colab-df-quickchart:hover {\n",
              "    background-color: var(--hover-bg-color);\n",
              "    box-shadow: 0 1px 2px rgba(60, 64, 67, 0.3), 0 1px 3px 1px rgba(60, 64, 67, 0.15);\n",
              "    fill: var(--button-hover-fill-color);\n",
              "  }\n",
              "\n",
              "  .colab-df-quickchart-complete:disabled,\n",
              "  .colab-df-quickchart-complete:disabled:hover {\n",
              "    background-color: var(--disabled-bg-color);\n",
              "    fill: var(--disabled-fill-color);\n",
              "    box-shadow: none;\n",
              "  }\n",
              "\n",
              "  .colab-df-spinner {\n",
              "    border: 2px solid var(--fill-color);\n",
              "    border-color: transparent;\n",
              "    border-bottom-color: var(--fill-color);\n",
              "    animation:\n",
              "      spin 1s steps(1) infinite;\n",
              "  }\n",
              "\n",
              "  @keyframes spin {\n",
              "    0% {\n",
              "      border-color: transparent;\n",
              "      border-bottom-color: var(--fill-color);\n",
              "      border-left-color: var(--fill-color);\n",
              "    }\n",
              "    20% {\n",
              "      border-color: transparent;\n",
              "      border-left-color: var(--fill-color);\n",
              "      border-top-color: var(--fill-color);\n",
              "    }\n",
              "    30% {\n",
              "      border-color: transparent;\n",
              "      border-left-color: var(--fill-color);\n",
              "      border-top-color: var(--fill-color);\n",
              "      border-right-color: var(--fill-color);\n",
              "    }\n",
              "    40% {\n",
              "      border-color: transparent;\n",
              "      border-right-color: var(--fill-color);\n",
              "      border-top-color: var(--fill-color);\n",
              "    }\n",
              "    60% {\n",
              "      border-color: transparent;\n",
              "      border-right-color: var(--fill-color);\n",
              "    }\n",
              "    80% {\n",
              "      border-color: transparent;\n",
              "      border-right-color: var(--fill-color);\n",
              "      border-bottom-color: var(--fill-color);\n",
              "    }\n",
              "    90% {\n",
              "      border-color: transparent;\n",
              "      border-bottom-color: var(--fill-color);\n",
              "    }\n",
              "  }\n",
              "</style>\n",
              "\n",
              "  <script>\n",
              "    async function quickchart(key) {\n",
              "      const quickchartButtonEl =\n",
              "        document.querySelector('#' + key + ' button');\n",
              "      quickchartButtonEl.disabled = true;  // To prevent multiple clicks.\n",
              "      quickchartButtonEl.classList.add('colab-df-spinner');\n",
              "      try {\n",
              "        const charts = await google.colab.kernel.invokeFunction(\n",
              "            'suggestCharts', [key], {});\n",
              "      } catch (error) {\n",
              "        console.error('Error during call to suggestCharts:', error);\n",
              "      }\n",
              "      quickchartButtonEl.classList.remove('colab-df-spinner');\n",
              "      quickchartButtonEl.classList.add('colab-df-quickchart-complete');\n",
              "    }\n",
              "    (() => {\n",
              "      let quickchartButtonEl =\n",
              "        document.querySelector('#df-e62f3822-f398-4a0a-91cd-f7d470cbbaa7 button');\n",
              "      quickchartButtonEl.style.display =\n",
              "        google.colab.kernel.accessAllowed ? 'block' : 'none';\n",
              "    })();\n",
              "  </script>\n",
              "</div>\n",
              "    </div>\n",
              "  </div>\n"
            ]
          },
          "metadata": {},
          "execution_count": 28
        }
      ]
    },
    {
      "cell_type": "code",
      "source": [
        "df_eel"
      ],
      "metadata": {
        "id": "7ZPtbKqjLloz",
        "colab": {
          "base_uri": "https://localhost:8080/",
          "height": 496
        },
        "outputId": "6308395f-6067-454b-e438-07daa2e6ce67"
      },
      "execution_count": null,
      "outputs": [
        {
          "output_type": "execute_result",
          "data": {
            "text/plain": [
              "                                                 SMILES  single-class-label  \\\n",
              "0     c1ccc2c(NCCCCCCCNc3c4c(nc5ccccc35)CCCC4)c3c(nc...                   1   \n",
              "1           CNC(=O)Oc1ccc2c(c1)[C@]1(C)CCN(C)[C@@H]1N2C                   1   \n",
              "2     Cc1cccc(Nc2ccccc2C(=O)NCCCCCC(=O)NCCCCNc2c3c(n...                   1   \n",
              "3           O=C1Nc2ccccc2/C1=C\\c1cc[n+](Cc2ccccc2Cl)cc1                   1   \n",
              "4       COc1ccc2c3c1O[C@H]1C[C@@H](O)C=C[C@@]31CCN(C)C2                   0   \n",
              "...                                                 ...                 ...   \n",
              "5454   O=[N+]([O-])c1ccc2nc(-c3ccccc3)cc(-c3ccccc3)c2c1                   0   \n",
              "5455     Clc1ccc2nc(-c3c[nH]c4ccccc34)cc(-c3ccccc3)c2c1                   0   \n",
              "5456  COc1ccc(-c2cc(-c3ccccc3)c3cc([N+](=O)[O-])ccc3...                   0   \n",
              "5457                         C#CCN(C)[C@@H](C)Cc1ccccc1                   0   \n",
              "5458                         C#CCN(C)CCCOc1ccc(Cl)cc1Cl                   0   \n",
              "\n",
              "                                             cleanedMol  \n",
              "0     c1ccc2c(NCCCCCCCNc3c4c(nc5ccccc35)CCCC4)c3c(nc...  \n",
              "1           CNC(=O)Oc1ccc2c(c1)[C@]1(C)CCN(C)[C@@H]1N2C  \n",
              "2     Cc1cccc(Nc2ccccc2C(=O)NCCCCCC(=O)NCCCCNc2c3c(n...  \n",
              "3           O=C1Nc2ccccc2/C1=C\\c1cc[n+](Cc2ccccc2Cl)cc1  \n",
              "4       COc1ccc2c3c1O[C@H]1C[C@@H](O)C=C[C@@]31CCN(C)C2  \n",
              "...                                                 ...  \n",
              "5454   O=[N+]([O-])c1ccc2nc(-c3ccccc3)cc(-c3ccccc3)c2c1  \n",
              "5455     Clc1ccc2nc(-c3c[nH]c4ccccc34)cc(-c3ccccc3)c2c1  \n",
              "5456  COc1ccc(-c2cc(-c3ccccc3)c3cc([N+](=O)[O-])ccc3...  \n",
              "5457                         C#CCN(C)[C@@H](C)Cc1ccccc1  \n",
              "5458                         C#CCN(C)CCCOc1ccc(Cl)cc1Cl  \n",
              "\n",
              "[5459 rows x 3 columns]"
            ],
            "text/html": [
              "\n",
              "  <div id=\"df-6d4b3726-b93b-47ff-a01a-67b8575c42bc\" class=\"colab-df-container\">\n",
              "    <div>\n",
              "<style scoped>\n",
              "    .dataframe tbody tr th:only-of-type {\n",
              "        vertical-align: middle;\n",
              "    }\n",
              "\n",
              "    .dataframe tbody tr th {\n",
              "        vertical-align: top;\n",
              "    }\n",
              "\n",
              "    .dataframe thead th {\n",
              "        text-align: right;\n",
              "    }\n",
              "</style>\n",
              "<table border=\"1\" class=\"dataframe\">\n",
              "  <thead>\n",
              "    <tr style=\"text-align: right;\">\n",
              "      <th></th>\n",
              "      <th>SMILES</th>\n",
              "      <th>single-class-label</th>\n",
              "      <th>cleanedMol</th>\n",
              "    </tr>\n",
              "  </thead>\n",
              "  <tbody>\n",
              "    <tr>\n",
              "      <th>0</th>\n",
              "      <td>c1ccc2c(NCCCCCCCNc3c4c(nc5ccccc35)CCCC4)c3c(nc...</td>\n",
              "      <td>1</td>\n",
              "      <td>c1ccc2c(NCCCCCCCNc3c4c(nc5ccccc35)CCCC4)c3c(nc...</td>\n",
              "    </tr>\n",
              "    <tr>\n",
              "      <th>1</th>\n",
              "      <td>CNC(=O)Oc1ccc2c(c1)[C@]1(C)CCN(C)[C@@H]1N2C</td>\n",
              "      <td>1</td>\n",
              "      <td>CNC(=O)Oc1ccc2c(c1)[C@]1(C)CCN(C)[C@@H]1N2C</td>\n",
              "    </tr>\n",
              "    <tr>\n",
              "      <th>2</th>\n",
              "      <td>Cc1cccc(Nc2ccccc2C(=O)NCCCCCC(=O)NCCCCNc2c3c(n...</td>\n",
              "      <td>1</td>\n",
              "      <td>Cc1cccc(Nc2ccccc2C(=O)NCCCCCC(=O)NCCCCNc2c3c(n...</td>\n",
              "    </tr>\n",
              "    <tr>\n",
              "      <th>3</th>\n",
              "      <td>O=C1Nc2ccccc2/C1=C\\c1cc[n+](Cc2ccccc2Cl)cc1</td>\n",
              "      <td>1</td>\n",
              "      <td>O=C1Nc2ccccc2/C1=C\\c1cc[n+](Cc2ccccc2Cl)cc1</td>\n",
              "    </tr>\n",
              "    <tr>\n",
              "      <th>4</th>\n",
              "      <td>COc1ccc2c3c1O[C@H]1C[C@@H](O)C=C[C@@]31CCN(C)C2</td>\n",
              "      <td>0</td>\n",
              "      <td>COc1ccc2c3c1O[C@H]1C[C@@H](O)C=C[C@@]31CCN(C)C2</td>\n",
              "    </tr>\n",
              "    <tr>\n",
              "      <th>...</th>\n",
              "      <td>...</td>\n",
              "      <td>...</td>\n",
              "      <td>...</td>\n",
              "    </tr>\n",
              "    <tr>\n",
              "      <th>5454</th>\n",
              "      <td>O=[N+]([O-])c1ccc2nc(-c3ccccc3)cc(-c3ccccc3)c2c1</td>\n",
              "      <td>0</td>\n",
              "      <td>O=[N+]([O-])c1ccc2nc(-c3ccccc3)cc(-c3ccccc3)c2c1</td>\n",
              "    </tr>\n",
              "    <tr>\n",
              "      <th>5455</th>\n",
              "      <td>Clc1ccc2nc(-c3c[nH]c4ccccc34)cc(-c3ccccc3)c2c1</td>\n",
              "      <td>0</td>\n",
              "      <td>Clc1ccc2nc(-c3c[nH]c4ccccc34)cc(-c3ccccc3)c2c1</td>\n",
              "    </tr>\n",
              "    <tr>\n",
              "      <th>5456</th>\n",
              "      <td>COc1ccc(-c2cc(-c3ccccc3)c3cc([N+](=O)[O-])ccc3...</td>\n",
              "      <td>0</td>\n",
              "      <td>COc1ccc(-c2cc(-c3ccccc3)c3cc([N+](=O)[O-])ccc3...</td>\n",
              "    </tr>\n",
              "    <tr>\n",
              "      <th>5457</th>\n",
              "      <td>C#CCN(C)[C@@H](C)Cc1ccccc1</td>\n",
              "      <td>0</td>\n",
              "      <td>C#CCN(C)[C@@H](C)Cc1ccccc1</td>\n",
              "    </tr>\n",
              "    <tr>\n",
              "      <th>5458</th>\n",
              "      <td>C#CCN(C)CCCOc1ccc(Cl)cc1Cl</td>\n",
              "      <td>0</td>\n",
              "      <td>C#CCN(C)CCCOc1ccc(Cl)cc1Cl</td>\n",
              "    </tr>\n",
              "  </tbody>\n",
              "</table>\n",
              "<p>5459 rows × 3 columns</p>\n",
              "</div>\n",
              "    <div class=\"colab-df-buttons\">\n",
              "\n",
              "  <div class=\"colab-df-container\">\n",
              "    <button class=\"colab-df-convert\" onclick=\"convertToInteractive('df-6d4b3726-b93b-47ff-a01a-67b8575c42bc')\"\n",
              "            title=\"Convert this dataframe to an interactive table.\"\n",
              "            style=\"display:none;\">\n",
              "\n",
              "  <svg xmlns=\"http://www.w3.org/2000/svg\" height=\"24px\" viewBox=\"0 -960 960 960\">\n",
              "    <path d=\"M120-120v-720h720v720H120Zm60-500h600v-160H180v160Zm220 220h160v-160H400v160Zm0 220h160v-160H400v160ZM180-400h160v-160H180v160Zm440 0h160v-160H620v160ZM180-180h160v-160H180v160Zm440 0h160v-160H620v160Z\"/>\n",
              "  </svg>\n",
              "    </button>\n",
              "\n",
              "  <style>\n",
              "    .colab-df-container {\n",
              "      display:flex;\n",
              "      gap: 12px;\n",
              "    }\n",
              "\n",
              "    .colab-df-convert {\n",
              "      background-color: #E8F0FE;\n",
              "      border: none;\n",
              "      border-radius: 50%;\n",
              "      cursor: pointer;\n",
              "      display: none;\n",
              "      fill: #1967D2;\n",
              "      height: 32px;\n",
              "      padding: 0 0 0 0;\n",
              "      width: 32px;\n",
              "    }\n",
              "\n",
              "    .colab-df-convert:hover {\n",
              "      background-color: #E2EBFA;\n",
              "      box-shadow: 0px 1px 2px rgba(60, 64, 67, 0.3), 0px 1px 3px 1px rgba(60, 64, 67, 0.15);\n",
              "      fill: #174EA6;\n",
              "    }\n",
              "\n",
              "    .colab-df-buttons div {\n",
              "      margin-bottom: 4px;\n",
              "    }\n",
              "\n",
              "    [theme=dark] .colab-df-convert {\n",
              "      background-color: #3B4455;\n",
              "      fill: #D2E3FC;\n",
              "    }\n",
              "\n",
              "    [theme=dark] .colab-df-convert:hover {\n",
              "      background-color: #434B5C;\n",
              "      box-shadow: 0px 1px 3px 1px rgba(0, 0, 0, 0.15);\n",
              "      filter: drop-shadow(0px 1px 2px rgba(0, 0, 0, 0.3));\n",
              "      fill: #FFFFFF;\n",
              "    }\n",
              "  </style>\n",
              "\n",
              "    <script>\n",
              "      const buttonEl =\n",
              "        document.querySelector('#df-6d4b3726-b93b-47ff-a01a-67b8575c42bc button.colab-df-convert');\n",
              "      buttonEl.style.display =\n",
              "        google.colab.kernel.accessAllowed ? 'block' : 'none';\n",
              "\n",
              "      async function convertToInteractive(key) {\n",
              "        const element = document.querySelector('#df-6d4b3726-b93b-47ff-a01a-67b8575c42bc');\n",
              "        const dataTable =\n",
              "          await google.colab.kernel.invokeFunction('convertToInteractive',\n",
              "                                                    [key], {});\n",
              "        if (!dataTable) return;\n",
              "\n",
              "        const docLinkHtml = 'Like what you see? Visit the ' +\n",
              "          '<a target=\"_blank\" href=https://colab.research.google.com/notebooks/data_table.ipynb>data table notebook</a>'\n",
              "          + ' to learn more about interactive tables.';\n",
              "        element.innerHTML = '';\n",
              "        dataTable['output_type'] = 'display_data';\n",
              "        await google.colab.output.renderOutput(dataTable, element);\n",
              "        const docLink = document.createElement('div');\n",
              "        docLink.innerHTML = docLinkHtml;\n",
              "        element.appendChild(docLink);\n",
              "      }\n",
              "    </script>\n",
              "  </div>\n",
              "\n",
              "\n",
              "<div id=\"df-988af4c3-cd6f-4ddb-b770-c0ec049cc879\">\n",
              "  <button class=\"colab-df-quickchart\" onclick=\"quickchart('df-988af4c3-cd6f-4ddb-b770-c0ec049cc879')\"\n",
              "            title=\"Suggest charts\"\n",
              "            style=\"display:none;\">\n",
              "\n",
              "<svg xmlns=\"http://www.w3.org/2000/svg\" height=\"24px\"viewBox=\"0 0 24 24\"\n",
              "     width=\"24px\">\n",
              "    <g>\n",
              "        <path d=\"M19 3H5c-1.1 0-2 .9-2 2v14c0 1.1.9 2 2 2h14c1.1 0 2-.9 2-2V5c0-1.1-.9-2-2-2zM9 17H7v-7h2v7zm4 0h-2V7h2v10zm4 0h-2v-4h2v4z\"/>\n",
              "    </g>\n",
              "</svg>\n",
              "  </button>\n",
              "\n",
              "<style>\n",
              "  .colab-df-quickchart {\n",
              "      --bg-color: #E8F0FE;\n",
              "      --fill-color: #1967D2;\n",
              "      --hover-bg-color: #E2EBFA;\n",
              "      --hover-fill-color: #174EA6;\n",
              "      --disabled-fill-color: #AAA;\n",
              "      --disabled-bg-color: #DDD;\n",
              "  }\n",
              "\n",
              "  [theme=dark] .colab-df-quickchart {\n",
              "      --bg-color: #3B4455;\n",
              "      --fill-color: #D2E3FC;\n",
              "      --hover-bg-color: #434B5C;\n",
              "      --hover-fill-color: #FFFFFF;\n",
              "      --disabled-bg-color: #3B4455;\n",
              "      --disabled-fill-color: #666;\n",
              "  }\n",
              "\n",
              "  .colab-df-quickchart {\n",
              "    background-color: var(--bg-color);\n",
              "    border: none;\n",
              "    border-radius: 50%;\n",
              "    cursor: pointer;\n",
              "    display: none;\n",
              "    fill: var(--fill-color);\n",
              "    height: 32px;\n",
              "    padding: 0;\n",
              "    width: 32px;\n",
              "  }\n",
              "\n",
              "  .colab-df-quickchart:hover {\n",
              "    background-color: var(--hover-bg-color);\n",
              "    box-shadow: 0 1px 2px rgba(60, 64, 67, 0.3), 0 1px 3px 1px rgba(60, 64, 67, 0.15);\n",
              "    fill: var(--button-hover-fill-color);\n",
              "  }\n",
              "\n",
              "  .colab-df-quickchart-complete:disabled,\n",
              "  .colab-df-quickchart-complete:disabled:hover {\n",
              "    background-color: var(--disabled-bg-color);\n",
              "    fill: var(--disabled-fill-color);\n",
              "    box-shadow: none;\n",
              "  }\n",
              "\n",
              "  .colab-df-spinner {\n",
              "    border: 2px solid var(--fill-color);\n",
              "    border-color: transparent;\n",
              "    border-bottom-color: var(--fill-color);\n",
              "    animation:\n",
              "      spin 1s steps(1) infinite;\n",
              "  }\n",
              "\n",
              "  @keyframes spin {\n",
              "    0% {\n",
              "      border-color: transparent;\n",
              "      border-bottom-color: var(--fill-color);\n",
              "      border-left-color: var(--fill-color);\n",
              "    }\n",
              "    20% {\n",
              "      border-color: transparent;\n",
              "      border-left-color: var(--fill-color);\n",
              "      border-top-color: var(--fill-color);\n",
              "    }\n",
              "    30% {\n",
              "      border-color: transparent;\n",
              "      border-left-color: var(--fill-color);\n",
              "      border-top-color: var(--fill-color);\n",
              "      border-right-color: var(--fill-color);\n",
              "    }\n",
              "    40% {\n",
              "      border-color: transparent;\n",
              "      border-right-color: var(--fill-color);\n",
              "      border-top-color: var(--fill-color);\n",
              "    }\n",
              "    60% {\n",
              "      border-color: transparent;\n",
              "      border-right-color: var(--fill-color);\n",
              "    }\n",
              "    80% {\n",
              "      border-color: transparent;\n",
              "      border-right-color: var(--fill-color);\n",
              "      border-bottom-color: var(--fill-color);\n",
              "    }\n",
              "    90% {\n",
              "      border-color: transparent;\n",
              "      border-bottom-color: var(--fill-color);\n",
              "    }\n",
              "  }\n",
              "</style>\n",
              "\n",
              "  <script>\n",
              "    async function quickchart(key) {\n",
              "      const quickchartButtonEl =\n",
              "        document.querySelector('#' + key + ' button');\n",
              "      quickchartButtonEl.disabled = true;  // To prevent multiple clicks.\n",
              "      quickchartButtonEl.classList.add('colab-df-spinner');\n",
              "      try {\n",
              "        const charts = await google.colab.kernel.invokeFunction(\n",
              "            'suggestCharts', [key], {});\n",
              "      } catch (error) {\n",
              "        console.error('Error during call to suggestCharts:', error);\n",
              "      }\n",
              "      quickchartButtonEl.classList.remove('colab-df-spinner');\n",
              "      quickchartButtonEl.classList.add('colab-df-quickchart-complete');\n",
              "    }\n",
              "    (() => {\n",
              "      let quickchartButtonEl =\n",
              "        document.querySelector('#df-988af4c3-cd6f-4ddb-b770-c0ec049cc879 button');\n",
              "      quickchartButtonEl.style.display =\n",
              "        google.colab.kernel.accessAllowed ? 'block' : 'none';\n",
              "    })();\n",
              "  </script>\n",
              "</div>\n",
              "    </div>\n",
              "  </div>\n"
            ]
          },
          "metadata": {},
          "execution_count": 29
        }
      ]
    },
    {
      "cell_type": "markdown",
      "source": [
        "### Featurization of smiles on species datasets - Graph Attention Transformer"
      ],
      "metadata": {
        "id": "HgxvjuoMXyCf"
      }
    },
    {
      "cell_type": "code",
      "source": [
        "df_humanIndependent.to_csv('inhibitor_HumanIndependent.csv', index=False)\n",
        "df_eel.to_csv('inhibitor_eel.csv', index=False)\n",
        "df_mouse.to_csv('inhibitor_mouse.csv', index=False)\n",
        "df_cow.to_csv('inhibitor_cow.csv', index=False)\n",
        "df_ray.to_csv('inhibitor_ray.csv', index=False)\n",
        "df_mosquito.to_csv('inhibitor_mosquito.csv', index=False)"
      ],
      "metadata": {
        "id": "rzMuGw8uGWGj"
      },
      "execution_count": null,
      "outputs": []
    },
    {
      "cell_type": "markdown",
      "source": [
        "### human"
      ],
      "metadata": {
        "id": "5I4EF4bU9MPf"
      }
    },
    {
      "cell_type": "code",
      "source": [
        "# Define the ConvMolFeaturizer\n",
        "featurizer = dc.feat.MolGraphConvFeaturizer()\n",
        "\n",
        "# Featurize the SMILES column\n",
        "features = featurizer.featurize(df_humanIndependent['cleanedMol'].tolist())\n",
        "\n",
        "# Extract the target values from the DataFrame\n",
        "targets = df_humanIndependent['binary_activities'].tolist()\n",
        "\n",
        "# Create a DeepChem dataset from the features and targets\n",
        "dataset_humanIndependent= dc.data.NumpyDataset(features, targets)"
      ],
      "metadata": {
        "id": "UxghAVgTGWGl"
      },
      "execution_count": null,
      "outputs": []
    },
    {
      "cell_type": "markdown",
      "source": [
        "### eel"
      ],
      "metadata": {
        "id": "Yt0Fjaa5Jiy_"
      }
    },
    {
      "cell_type": "code",
      "source": [
        "\n",
        "# Define the ConvMolFeaturizer\n",
        "featurizer = dc.feat.MolGraphConvFeaturizer()\n",
        "\n",
        "# Featurize the SMILES column\n",
        "features = featurizer.featurize(df_eel['cleanedMol'].tolist())\n",
        "\n",
        "# Extract the target values from the DataFrame\n",
        "targets = df_eel['single-class-label'].tolist()\n",
        "\n",
        "# Create a DeepChem dataset from the features and targets\n",
        "dataset_eel= dc.data.NumpyDataset(features, targets)"
      ],
      "metadata": {
        "id": "FpxXsBEMHNVo"
      },
      "execution_count": null,
      "outputs": []
    },
    {
      "cell_type": "markdown",
      "source": [
        "### cow"
      ],
      "metadata": {
        "id": "uU0zK7yT9Qju"
      }
    },
    {
      "cell_type": "code",
      "source": [
        "# Define the ConvMolFeaturizer\n",
        "featurizer = dc.feat.MolGraphConvFeaturizer()\n",
        "\n",
        "# Featurize the SMILES column\n",
        "features = featurizer.featurize(df_cow['cleanedMol'].tolist())\n",
        "\n",
        "# Extract the target values from the DataFrame\n",
        "targets = df_cow['single-class-label'].tolist()\n",
        "\n",
        "# Create a DeepChem dataset from the features and targets\n",
        "dataset_cow= dc.data.NumpyDataset(features, targets)\n"
      ],
      "metadata": {
        "id": "F8ZjO5vmHOCv"
      },
      "execution_count": null,
      "outputs": []
    },
    {
      "cell_type": "markdown",
      "source": [
        "### mosquito"
      ],
      "metadata": {
        "id": "LlsMUXvR9R6d"
      }
    },
    {
      "cell_type": "code",
      "source": [
        "# Define the ConvMolFeaturizer\n",
        "featurizer = dc.feat.MolGraphConvFeaturizer()\n",
        "\n",
        "# Featurize the SMILES column\n",
        "features = featurizer.featurize(df_mosquito['cleanedMol'].tolist())\n",
        "# Extract the target values from the DataFrame\n",
        "targets = df_mosquito['single-class-label'].tolist()\n",
        "\n",
        "# Create a DeepChem dataset from the features and targets\n",
        "dataset_mosquito= dc.data.NumpyDataset(features, targets)"
      ],
      "metadata": {
        "id": "0vhx8rYZHOf_"
      },
      "execution_count": null,
      "outputs": []
    },
    {
      "cell_type": "markdown",
      "source": [
        "### ray"
      ],
      "metadata": {
        "id": "ytFH4nky9Vhc"
      }
    },
    {
      "cell_type": "code",
      "source": [
        "# Define the ConvMolFeaturizer\n",
        "featurizer = dc.feat.MolGraphConvFeaturizer()\n",
        "\n",
        "# Featurize the SMILES column\n",
        "features = featurizer.featurize(df_ray['cleanedMol'].tolist())\n",
        "\n",
        "# Extract the target values from the DataFrame\n",
        "targets = df_ray['single-class-label'].tolist()\n",
        "\n",
        "# Create a DeepChem dataset from the features and targets\n",
        "dataset_ray= dc.data.NumpyDataset(features, targets)"
      ],
      "metadata": {
        "id": "WBmb9CfOHPKo"
      },
      "execution_count": null,
      "outputs": []
    },
    {
      "cell_type": "markdown",
      "source": [
        "### mouse"
      ],
      "metadata": {
        "id": "krXUQF6q9Xo4"
      }
    },
    {
      "cell_type": "code",
      "source": [
        "# Define the ConvMolFeaturizer\n",
        "featurizer = dc.feat.MolGraphConvFeaturizer()\n",
        "\n",
        "# Featurize the SMILES column\n",
        "features = featurizer.featurize(df_mouse['cleanedMol'].tolist())\n",
        "\n",
        "# Extract the target values from the DataFrame\n",
        "targets = df_mouse['single-class-label'].tolist()\n",
        "\n",
        "# Create a DeepChem dataset from the features and targets\n",
        "dataset_mouse= dc.data.NumpyDataset(features, targets)"
      ],
      "metadata": {
        "id": "XBMCKBQNHtzg"
      },
      "execution_count": null,
      "outputs": []
    },
    {
      "cell_type": "markdown",
      "source": [
        "###Cross species evaluation of best GAT model"
      ],
      "metadata": {
        "id": "emRiYvjp9Zfy"
      }
    },
    {
      "cell_type": "code",
      "source": [
        "import deepchem as dc\n",
        "import tensorflow as tf\n",
        "import numpy as np\n",
        "import pandas as pd\n",
        "import matplotlib.pyplot as plt\n",
        "from sklearn.metrics import roc_curve, auc, confusion_matrix, accuracy_score, precision_score, recall_score, f1_score, matthews_corrcoef, cohen_kappa_score\n",
        "\n",
        "datasets = {\n",
        "    'Human Test': test_dataset,\n",
        "    'Human Independent': dataset_humanIndependent,\n",
        "    'Eel': dataset_eel,\n",
        "    'Mouse': dataset_mouse,\n",
        "    'Cow': dataset_cow,\n",
        "    'Ray': dataset_ray,\n",
        "    'Mosquito': dataset_mosquito\n",
        "}\n",
        "\n",
        "# Set up the plot\n",
        "plt.figure(figsize=(10, 6))\n",
        "\n",
        "evaluation_metrics = {}\n",
        "\n",
        "# Evaluate and plot ROC curve for each dataset\n",
        "for species, data in datasets.items():\n",
        "    X = data.X\n",
        "    y_true = data.y.ravel()\n",
        "\n",
        "    # Make predictions on the test dataset\n",
        "    y_pred = best_model.predict(data).reshape(-1, 2)\n",
        "\n",
        "    y_pred_positive = y_pred[:, 1]\n",
        "\n",
        "    # Calculate the ROC curve\n",
        "    fpr, tpr, _ = roc_curve(y_true, y_pred_positive)\n",
        "\n",
        "    # Calculate the AUC (Area Under the Curve)\n",
        "    roc_auc = auc(fpr, tpr)\n",
        "\n",
        "    # Calculate the confusion matrix\n",
        "    y_pred_binary = np.argmax(y_pred, axis=1)  # Convert probabilities to binary predictions\n",
        "    conf_matrix = confusion_matrix(y_true, y_pred_binary)\n",
        "\n",
        "    # Calculate other evaluation metrics\n",
        "    accuracy = accuracy_score(y_true, y_pred_binary)\n",
        "    precision = precision_score(y_true, y_pred_binary)\n",
        "    recall = recall_score(y_true, y_pred_binary)\n",
        "    f1 = f1_score(y_true, y_pred_binary)\n",
        "    mcc = matthews_corrcoef(y_true, y_pred_binary)\n",
        "    cohen_kappa = cohen_kappa_score(y_true, y_pred_binary)\n",
        "\n",
        "    # Store the evaluation metrics in the dictionary\n",
        "    evaluation_metrics[species] = {\n",
        "        'Accuracy': accuracy,\n",
        "        'Precision': precision,\n",
        "        'Recall': recall,\n",
        "        'F1 Score': f1,\n",
        "        'MCC': mcc,\n",
        "        \"Cohen's Kappa\": cohen_kappa\n",
        "    }\n",
        "\n",
        "    # Plot the ROC curve for each species\n",
        "    plt.plot(fpr, tpr, label=f'{species} (AUC = {roc_auc:.2f})')\n",
        "\n",
        "    # Display Confusion Matrix\n",
        "    print(f\"Confusion Matrix for {species} dataset:\")\n",
        "    print(conf_matrix)\n",
        "\n",
        "# Plot settings\n",
        "plt.plot([0, 1], [0, 1], linestyle='--', color='gray', label='Random')\n",
        "plt.title('ROC Curve for Different Species')\n",
        "plt.xlabel('False Positive Rate')\n",
        "plt.ylabel('True Positive Rate')\n",
        "plt.legend(loc='lower right')\n",
        "plt.show()\n",
        "\n",
        "# Display or analyze the stored evaluation metrics\n",
        "for species, metrics in evaluation_metrics.items():\n",
        "    print(f\"Evaluation for {species} dataset:\")\n",
        "    for metric_name, value in metrics.items():\n",
        "        print(f\"{metric_name}: {value:.4f}\")\n",
        "    print(\"\\n\")\n",
        "\n",
        "# Create a DataFrame from the evaluation_metrics dictionary\n",
        "df_metrics = pd.DataFrame(evaluation_metrics).transpose()\n",
        "\n",
        "# Save the DataFrames to Excel files\n",
        "df_metrics.to_excel('evaluation_metrics_GAT.xlsx', index_label='Species')\n"
      ],
      "metadata": {
        "colab": {
          "base_uri": "https://localhost:8080/",
          "height": 1000
        },
        "outputId": "7a14dfd9-43d5-4d7b-f790-f93a89f381b0",
        "id": "qjJVM1ahFMle"
      },
      "execution_count": null,
      "outputs": [
        {
          "output_type": "stream",
          "name": "stdout",
          "text": [
            "Confusion Matrix for Human Test dataset:\n",
            "[[262  91]\n",
            " [ 65 194]]\n",
            "Confusion Matrix for Human Independent dataset:\n",
            "[[79 59]\n",
            " [13 57]]\n",
            "Confusion Matrix for Eel dataset:\n",
            "[[2229 1146]\n",
            " [ 841 1243]]\n",
            "Confusion Matrix for Mouse dataset:\n",
            "[[ 97 126]\n",
            " [ 29 116]]\n",
            "Confusion Matrix for Cow dataset:\n",
            "[[148  70]\n",
            " [ 47 192]]\n",
            "Confusion Matrix for Ray dataset:\n",
            "[[338 381]\n",
            " [262 425]]\n",
            "Confusion Matrix for Mosquito dataset:\n",
            "[[ 97 126]\n",
            " [ 29 116]]\n"
          ]
        },
        {
          "output_type": "display_data",
          "data": {
            "text/plain": [
              "<Figure size 1000x600 with 1 Axes>"
            ],
            "image/png": "[encoded data removed]"
          },
          "metadata": {}
        },
        {
          "output_type": "stream",
          "name": "stdout",
          "text": [
            "Evaluation for Human Test dataset:\n",
            "Accuracy: 0.7451\n",
            "Precision: 0.6807\n",
            "Recall: 0.7490\n",
            "F1 Score: 0.7132\n",
            "MCC: 0.4866\n",
            "Cohen's Kappa: 0.4848\n",
            "\n",
            "\n",
            "Evaluation for Human Independent dataset:\n",
            "Accuracy: 0.6538\n",
            "Precision: 0.4914\n",
            "Recall: 0.8143\n",
            "F1 Score: 0.6129\n",
            "MCC: 0.3680\n",
            "Cohen's Kappa: 0.3329\n",
            "\n",
            "\n",
            "Evaluation for Eel dataset:\n",
            "Accuracy: 0.6360\n",
            "Precision: 0.5203\n",
            "Recall: 0.5964\n",
            "F1 Score: 0.5558\n",
            "MCC: 0.2516\n",
            "Cohen's Kappa: 0.2499\n",
            "\n",
            "\n",
            "Evaluation for Mouse dataset:\n",
            "Accuracy: 0.5788\n",
            "Precision: 0.4793\n",
            "Recall: 0.8000\n",
            "F1 Score: 0.5995\n",
            "MCC: 0.2420\n",
            "Cohen's Kappa: 0.2104\n",
            "\n",
            "\n",
            "Evaluation for Cow dataset:\n",
            "Accuracy: 0.7440\n",
            "Precision: 0.7328\n",
            "Recall: 0.8033\n",
            "F1 Score: 0.7665\n",
            "MCC: 0.4870\n",
            "Cohen's Kappa: 0.4845\n",
            "\n",
            "\n",
            "Evaluation for Ray dataset:\n",
            "Accuracy: 0.5427\n",
            "Precision: 0.5273\n",
            "Recall: 0.6186\n",
            "F1 Score: 0.5693\n",
            "MCC: 0.0897\n",
            "Cohen's Kappa: 0.0884\n",
            "\n",
            "\n",
            "Evaluation for Mosquito dataset:\n",
            "Accuracy: 0.5788\n",
            "Precision: 0.4793\n",
            "Recall: 0.8000\n",
            "F1 Score: 0.5995\n",
            "MCC: 0.2420\n",
            "Cohen's Kappa: 0.2104\n",
            "\n",
            "\n"
          ]
        }
      ]
    },
    {
      "cell_type": "markdown",
      "source": [
        "\n",
        "##References\n",
        "\n",
        "* https://github.com/deepchem/deepchem/blob/master/examples/tutorials/Introduction_to_Graph_Convolutions.ipynb\n",
        "* Ramsundar, B., Eastman, P., Walters, P., Pande, V., Leswing, K., & Wu, Z. (2019). Deep Learning for the Life Sciences. O’Reilly Media. https://www.amazon.com/Deep-Learning-Life-Sciences-Microscopy/dp/1492039837\n",
        "* Vignaux, P. A., Lane, T. R., Urbina, F., Gerlach, J., Puhl, A. C., Snyder, S. H., & Ekins, S. (2023). Validation of Acetylcholinesterase Inhibition Machine Learning Models for Multiple Species. Chemical Research in Toxicology, 36(2), 188–201. https://doi.org/10.1021/acs.chemrestox.2c00283\n",
        "* Duvenaud, D., Maclaurin, D., Aguilera-Iparraguirre, J., Gómez-Bombarelli, R., Hirzel, T., Aspuru-Guzik, A., & Adams, R. P. (2015). Convolutional Networks on Graphs for Learning Molecular Fingerprints (arXiv:1509.09292). arXiv. http://arxiv.org/abs/1509.09292\n",
        "* Veličković, P., Cucurull, G., Casanova, A., Romero, A., Lio, P., & Bengio, Y. (2017). Graph attention networks. arXiv preprint arXiv:1710.10903.\n"
      ],
      "metadata": {
        "id": "U3An1ZZv9DmD"
      }
    }
  ],
  "metadata": {
    "accelerator": "GPU",
    "colab": {
      "provenance": [],
      "gpuType": "T4",
      "toc_visible": true,
      "include_colab_link": true
    },
    "kernelspec": {
      "display_name": "Python 3",
      "name": "python3"
    },
    "language_info": {
      "name": "python"
    }
  },
  "nbformat": 4,
  "nbformat_minor": 0
}