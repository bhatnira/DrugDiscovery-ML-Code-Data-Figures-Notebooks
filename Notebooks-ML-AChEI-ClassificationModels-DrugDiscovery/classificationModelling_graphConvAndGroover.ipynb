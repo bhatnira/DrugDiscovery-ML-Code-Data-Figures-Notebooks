{
  "cells": [
    {
      "cell_type": "markdown",
      "metadata": {
        "id": "view-in-github",
        "colab_type": "text"
      },
      "source": [
        "<a href=\"https://colab.research.google.com/github/bhatnira/Acetylcholinesterase-Inhibitor-Discovery/blob/main/classificationModelling_graphConvAndGroover.ipynb\" target=\"_parent\"><img src=\"https://colab.research.google.com/assets/colab-badge.svg\" alt=\"Open In Colab\"/></a>"
      ]
    },
    {
      "cell_type": "markdown",
      "metadata": {
        "id": "TyDNINjoV746"
      },
      "source": [
        "\n",
        "# Graph Convolution and WEAVE Based Classification Modelling"
      ]
    },
    {
      "cell_type": "markdown",
      "metadata": {
        "id": "jiX8pkSE88cj"
      },
      "source": [
        "## Introduction\n",
        "Fingerprint/descriptor representations of molecules serve as the foundation for machine learning approaches in chemoinformatics. However, a molecule's natural structure can be viewed as an undirected graph, where atoms are nodes and chemical bonds are edges. Given the inherent representation bias in fingerprint/descriptor methods—where certain aspects are highlighted at the expense of others—a machine learning model that utilizes graph-based representations would be more suited. This approach aligns closely with the intrinsic graph structure of molecules, potentially offering a more comprehensive and balanced analysis(Kearnes et al., 2016; Reiser et al., 2022).\n",
        "\n",
        "The Graph Convolutional Model, engineered for comprehensive end-to-end learning, efficiently processes graphs of arbitrary dimensions, utilizing circular fingerprint molecular features to enhance both interpretability and predictive accuracy (Duvenaud et al., 2015). In parallel, the Weave model represents an evolutionary step in molecular graph convolution, introducing atom pair-based feature extraction that extends to non-adjacent atoms, though it encounters challenges related to the quantification of association distances and spatial coordinates (Duvenaud et al., 2015; Ohue et al., 2019).\n"
      ]
    },
    {
      "cell_type": "markdown",
      "source": [
        "#Graph Convolutional Modeling"
      ],
      "metadata": {
        "id": "Y4Gn5WCDW-lK"
      }
    },
    {
      "cell_type": "markdown",
      "metadata": {
        "id": "LbEFlfpg-pYQ"
      },
      "source": [
        "## Data loading and Preprocessing\n",
        "\n"
      ]
    },
    {
      "cell_type": "code",
      "execution_count": 1,
      "metadata": {
        "id": "QmWJo2dpL2FV"
      },
      "outputs": [],
      "source": [
        "# For Reporducibility\n",
        "import numpy as np\n",
        "np.random.seed(42)"
      ]
    },
    {
      "cell_type": "code",
      "execution_count": 2,
      "metadata": {
        "colab": {
          "base_uri": "https://localhost:8080/"
        },
        "id": "knNCrYt-8XUO",
        "outputId": "e7046b27-6ba1-471f-865f-14fc43cfac02"
      },
      "outputs": [
        {
          "output_type": "stream",
          "name": "stdout",
          "text": [
            "Mounted at /content/drive\n"
          ]
        }
      ],
      "source": [
        "from google.colab import drive\n",
        "drive.mount('/content/drive')"
      ]
    },
    {
      "cell_type": "code",
      "execution_count": 3,
      "metadata": {
        "colab": {
          "base_uri": "https://localhost:8080/",
          "height": 591
        },
        "id": "u1zCyNG21ikK",
        "outputId": "d77e5f5d-6dbc-4e95-d0f3-3bc5334bb48d"
      },
      "outputs": [
        {
          "output_type": "stream",
          "name": "stdout",
          "text": [
            "Collecting deepchem\n",
            "  Downloading deepchem-2.8.1.dev20240617204840-py3-none-any.whl (1.1 MB)\n",
            "\u001b[?25l     \u001b[90m━━━━━━━━━━━━━━━━━━━━━━━━━━━━━━━━━━━━━━━━\u001b[0m \u001b[32m0.0/1.1 MB\u001b[0m \u001b[31m?\u001b[0m eta \u001b[36m-:--:--\u001b[0m\r\u001b[2K     \u001b[91m━━━\u001b[0m\u001b[91m╸\u001b[0m\u001b[90m━━━━━━━━━━━━━━━━━━━━━━━━━━━━━━━━━━━━\u001b[0m \u001b[32m0.1/1.1 MB\u001b[0m \u001b[31m2.9 MB/s\u001b[0m eta \u001b[36m0:00:01\u001b[0m\r\u001b[2K     \u001b[91m━━━━━━━━━━━━━━━━━━━━━━━━━━━━━━━━━━━━━━━\u001b[0m\u001b[91m╸\u001b[0m \u001b[32m1.1/1.1 MB\u001b[0m \u001b[31m18.6 MB/s\u001b[0m eta \u001b[36m0:00:01\u001b[0m\r\u001b[2K     \u001b[90m━━━━━━━━━━━━━━━━━━━━━━━━━━━━━━━━━━━━━━━━\u001b[0m \u001b[32m1.1/1.1 MB\u001b[0m \u001b[31m15.7 MB/s\u001b[0m eta \u001b[36m0:00:00\u001b[0m\n",
            "\u001b[?25hRequirement already satisfied: joblib in /usr/local/lib/python3.10/dist-packages (from deepchem) (1.4.2)\n",
            "Requirement already satisfied: numpy<2 in /usr/local/lib/python3.10/dist-packages (from deepchem) (1.25.2)\n",
            "Requirement already satisfied: pandas in /usr/local/lib/python3.10/dist-packages (from deepchem) (2.0.3)\n",
            "Requirement already satisfied: scikit-learn in /usr/local/lib/python3.10/dist-packages (from deepchem) (1.2.2)\n",
            "Requirement already satisfied: sympy in /usr/local/lib/python3.10/dist-packages (from deepchem) (1.12.1)\n",
            "Requirement already satisfied: scipy>=1.10.1 in /usr/local/lib/python3.10/dist-packages (from deepchem) (1.11.4)\n",
            "Collecting rdkit (from deepchem)\n",
            "  Downloading rdkit-2023.9.6-cp310-cp310-manylinux_2_17_x86_64.manylinux2014_x86_64.whl (34.9 MB)\n",
            "\u001b[2K     \u001b[90m━━━━━━━━━━━━━━━━━━━━━━━━━━━━━━━━━━━━━━━━\u001b[0m \u001b[32m34.9/34.9 MB\u001b[0m \u001b[31m25.0 MB/s\u001b[0m eta \u001b[36m0:00:00\u001b[0m\n",
            "\u001b[?25hRequirement already satisfied: python-dateutil>=2.8.2 in /usr/local/lib/python3.10/dist-packages (from pandas->deepchem) (2.8.2)\n",
            "Requirement already satisfied: pytz>=2020.1 in /usr/local/lib/python3.10/dist-packages (from pandas->deepchem) (2023.4)\n",
            "Requirement already satisfied: tzdata>=2022.1 in /usr/local/lib/python3.10/dist-packages (from pandas->deepchem) (2024.1)\n",
            "Requirement already satisfied: Pillow in /usr/local/lib/python3.10/dist-packages (from rdkit->deepchem) (9.4.0)\n",
            "Requirement already satisfied: threadpoolctl>=2.0.0 in /usr/local/lib/python3.10/dist-packages (from scikit-learn->deepchem) (3.5.0)\n",
            "Requirement already satisfied: mpmath<1.4.0,>=1.1.0 in /usr/local/lib/python3.10/dist-packages (from sympy->deepchem) (1.3.0)\n",
            "Requirement already satisfied: six>=1.5 in /usr/local/lib/python3.10/dist-packages (from python-dateutil>=2.8.2->pandas->deepchem) (1.16.0)\n",
            "Installing collected packages: rdkit, deepchem\n",
            "Successfully installed deepchem-2.8.1.dev20240617204840 rdkit-2023.9.6\n"
          ]
        },
        {
          "output_type": "stream",
          "name": "stderr",
          "text": [
            "WARNING:deepchem.feat.molecule_featurizers.rdkit_descriptors:No normalization for SPS. Feature removed!\n",
            "WARNING:deepchem.feat.molecule_featurizers.rdkit_descriptors:No normalization for AvgIpc. Feature removed!\n",
            "WARNING:tensorflow:From /usr/local/lib/python3.10/dist-packages/tensorflow/python/util/deprecation.py:588: calling function (from tensorflow.python.eager.polymorphic_function.polymorphic_function) with experimental_relax_shapes is deprecated and will be removed in a future version.\n",
            "Instructions for updating:\n",
            "experimental_relax_shapes is deprecated, use reduce_retracing instead\n",
            "WARNING:deepchem.models.torch_models:Skipped loading modules with pytorch-geometric dependency, missing a dependency. No module named 'torch_geometric'\n",
            "WARNING:deepchem.models:Skipped loading modules with pytorch-geometric dependency, missing a dependency. cannot import name 'DMPNN' from 'deepchem.models.torch_models' (/usr/local/lib/python3.10/dist-packages/deepchem/models/torch_models/__init__.py)\n",
            "WARNING:deepchem.models:Skipped loading modules with pytorch-lightning dependency, missing a dependency. No module named 'lightning'\n",
            "WARNING:deepchem.models:Skipped loading some Jax models, missing a dependency. No module named 'haiku'\n"
          ]
        },
        {
          "output_type": "execute_result",
          "data": {
            "text/plain": [
              "'2.8.1.dev'"
            ],
            "application/vnd.google.colaboratory.intrinsic+json": {
              "type": "string"
            }
          },
          "metadata": {},
          "execution_count": 3
        }
      ],
      "source": [
        "!pip install --pre deepchem\n",
        "import deepchem\n",
        "deepchem.__version__"
      ]
    },
    {
      "cell_type": "code",
      "execution_count": 4,
      "metadata": {
        "id": "4E31J5i_COdl"
      },
      "outputs": [],
      "source": [
        "import deepchem as dc\n",
        "import numpy as np"
      ]
    },
    {
      "cell_type": "markdown",
      "source": [
        "##Primary Dataset"
      ],
      "metadata": {
        "id": "5aIzeTrNUf9K"
      }
    },
    {
      "cell_type": "code",
      "execution_count": 8,
      "metadata": {
        "colab": {
          "base_uri": "https://localhost:8080/",
          "height": 417
        },
        "id": "xtVqN4wickeb",
        "outputId": "207d876d-1eb8-49b9-c77d-1ffe5ce1f01c"
      },
      "outputs": [
        {
          "output_type": "execute_result",
          "data": {
            "text/plain": [
              "  Molecule ChEMBL ID                                             Smiles  \\\n",
              "0           CHEMBL94        CNC(=O)Oc1ccc2c(c1)[C@]1(C)CCN(C)[C@@H]1N2C   \n",
              "1       CHEMBL207777  Cc1ccccc1NC(=O)Oc1ccc2c(c1)[C@]1(C)CO[C@@H](C1)O2   \n",
              "2       CHEMBL205967         CCNC(=O)Oc1ccc2c(c1)[C@]1(C)CO[C@@H](C1)O2   \n",
              "3        CHEMBL60119                         Cc1ccc2c(N)c3c(nc2c1)CCCC3   \n",
              "4       CHEMBL294525       CCCCCCCNc1c2c(nc3cc([N+](=O)[O-])ccc13)CCCC2   \n",
              "\n",
              "     IC50  classLabel  IsValidSMILES  \\\n",
              "0    28.0           1           True   \n",
              "1    97.0           1           True   \n",
              "2  2420.0           0           True   \n",
              "3   100.0           1           True   \n",
              "4   290.0           1           True   \n",
              "\n",
              "                                           Morgan_FP  \\\n",
              "0  <rdkit.DataStructs.cDataStructs.ExplicitBitVec...   \n",
              "1  <rdkit.DataStructs.cDataStructs.ExplicitBitVec...   \n",
              "2  <rdkit.DataStructs.cDataStructs.ExplicitBitVec...   \n",
              "3  <rdkit.DataStructs.cDataStructs.ExplicitBitVec...   \n",
              "4  <rdkit.DataStructs.cDataStructs.ExplicitBitVec...   \n",
              "\n",
              "                                           Molecule  \\\n",
              "0  <rdkit.Chem.rdchem.Mol object at 0x7bcfd8e880b0>   \n",
              "1  <rdkit.Chem.rdchem.Mol object at 0x7bcfd8e88190>   \n",
              "2  <rdkit.Chem.rdchem.Mol object at 0x7bcfd8e88270>   \n",
              "3  <rdkit.Chem.rdchem.Mol object at 0x7bcfd8e88430>   \n",
              "4  <rdkit.Chem.rdchem.Mol object at 0x7bcfd8e884a0>   \n",
              "\n",
              "                                         Fingerprint      PCA1      PCA2  \\\n",
              "0  <rdkit.DataStructs.cDataStructs.ExplicitBitVec... -1.738898 -1.494784   \n",
              "1  <rdkit.DataStructs.cDataStructs.ExplicitBitVec... -1.014164 -1.325272   \n",
              "2  <rdkit.DataStructs.cDataStructs.ExplicitBitVec... -1.235565 -1.559108   \n",
              "3  <rdkit.DataStructs.cDataStructs.ExplicitBitVec...  2.705664  0.148113   \n",
              "4  <rdkit.DataStructs.cDataStructs.ExplicitBitVec...  3.600017 -0.978574   \n",
              "\n",
              "       tSNE1      tSNE2  MolecularWeight  Frequency  \\\n",
              "0 -52.761700 -42.736099          275.352         27   \n",
              "1 -63.027809 -53.765778          325.364          1   \n",
              "2 -61.968063 -54.078575          263.293          1   \n",
              "3  57.758297  -8.911607          212.296          4   \n",
              "4  61.242554   5.783804          341.455          3   \n",
              "\n",
              "                                          cleanedMol  \n",
              "0        CNC(=O)Oc1ccc2c(c1)[C@]1(C)CCN(C)[C@@H]1N2C  \n",
              "1  Cc1ccccc1NC(=O)Oc1ccc2c(c1)[C@]1(C)CO[C@@H](C1)O2  \n",
              "2         CCNC(=O)Oc1ccc2c(c1)[C@]1(C)CO[C@@H](C1)O2  \n",
              "3                         Cc1ccc2c(N)c3c(nc2c1)CCCC3  \n",
              "4       CCCCCCCNc1c2c(nc3cc([N+](=O)[O-])ccc13)CCCC2  "
            ],
            "text/html": [
              "\n",
              "  <div id=\"df-243e12ad-cc3e-4fb4-8d42-d4f4f4608edb\" class=\"colab-df-container\">\n",
              "    <div>\n",
              "<style scoped>\n",
              "    .dataframe tbody tr th:only-of-type {\n",
              "        vertical-align: middle;\n",
              "    }\n",
              "\n",
              "    .dataframe tbody tr th {\n",
              "        vertical-align: top;\n",
              "    }\n",
              "\n",
              "    .dataframe thead th {\n",
              "        text-align: right;\n",
              "    }\n",
              "</style>\n",
              "<table border=\"1\" class=\"dataframe\">\n",
              "  <thead>\n",
              "    <tr style=\"text-align: right;\">\n",
              "      <th></th>\n",
              "      <th>Molecule ChEMBL ID</th>\n",
              "      <th>Smiles</th>\n",
              "      <th>IC50</th>\n",
              "      <th>classLabel</th>\n",
              "      <th>IsValidSMILES</th>\n",
              "      <th>Morgan_FP</th>\n",
              "      <th>Molecule</th>\n",
              "      <th>Fingerprint</th>\n",
              "      <th>PCA1</th>\n",
              "      <th>PCA2</th>\n",
              "      <th>tSNE1</th>\n",
              "      <th>tSNE2</th>\n",
              "      <th>MolecularWeight</th>\n",
              "      <th>Frequency</th>\n",
              "      <th>cleanedMol</th>\n",
              "    </tr>\n",
              "  </thead>\n",
              "  <tbody>\n",
              "    <tr>\n",
              "      <th>0</th>\n",
              "      <td>CHEMBL94</td>\n",
              "      <td>CNC(=O)Oc1ccc2c(c1)[C@]1(C)CCN(C)[C@@H]1N2C</td>\n",
              "      <td>28.0</td>\n",
              "      <td>1</td>\n",
              "      <td>True</td>\n",
              "      <td>&lt;rdkit.DataStructs.cDataStructs.ExplicitBitVec...</td>\n",
              "      <td>&lt;rdkit.Chem.rdchem.Mol object at 0x7bcfd8e880b0&gt;</td>\n",
              "      <td>&lt;rdkit.DataStructs.cDataStructs.ExplicitBitVec...</td>\n",
              "      <td>-1.738898</td>\n",
              "      <td>-1.494784</td>\n",
              "      <td>-52.761700</td>\n",
              "      <td>-42.736099</td>\n",
              "      <td>275.352</td>\n",
              "      <td>27</td>\n",
              "      <td>CNC(=O)Oc1ccc2c(c1)[C@]1(C)CCN(C)[C@@H]1N2C</td>\n",
              "    </tr>\n",
              "    <tr>\n",
              "      <th>1</th>\n",
              "      <td>CHEMBL207777</td>\n",
              "      <td>Cc1ccccc1NC(=O)Oc1ccc2c(c1)[C@]1(C)CO[C@@H](C1)O2</td>\n",
              "      <td>97.0</td>\n",
              "      <td>1</td>\n",
              "      <td>True</td>\n",
              "      <td>&lt;rdkit.DataStructs.cDataStructs.ExplicitBitVec...</td>\n",
              "      <td>&lt;rdkit.Chem.rdchem.Mol object at 0x7bcfd8e88190&gt;</td>\n",
              "      <td>&lt;rdkit.DataStructs.cDataStructs.ExplicitBitVec...</td>\n",
              "      <td>-1.014164</td>\n",
              "      <td>-1.325272</td>\n",
              "      <td>-63.027809</td>\n",
              "      <td>-53.765778</td>\n",
              "      <td>325.364</td>\n",
              "      <td>1</td>\n",
              "      <td>Cc1ccccc1NC(=O)Oc1ccc2c(c1)[C@]1(C)CO[C@@H](C1)O2</td>\n",
              "    </tr>\n",
              "    <tr>\n",
              "      <th>2</th>\n",
              "      <td>CHEMBL205967</td>\n",
              "      <td>CCNC(=O)Oc1ccc2c(c1)[C@]1(C)CO[C@@H](C1)O2</td>\n",
              "      <td>2420.0</td>\n",
              "      <td>0</td>\n",
              "      <td>True</td>\n",
              "      <td>&lt;rdkit.DataStructs.cDataStructs.ExplicitBitVec...</td>\n",
              "      <td>&lt;rdkit.Chem.rdchem.Mol object at 0x7bcfd8e88270&gt;</td>\n",
              "      <td>&lt;rdkit.DataStructs.cDataStructs.ExplicitBitVec...</td>\n",
              "      <td>-1.235565</td>\n",
              "      <td>-1.559108</td>\n",
              "      <td>-61.968063</td>\n",
              "      <td>-54.078575</td>\n",
              "      <td>263.293</td>\n",
              "      <td>1</td>\n",
              "      <td>CCNC(=O)Oc1ccc2c(c1)[C@]1(C)CO[C@@H](C1)O2</td>\n",
              "    </tr>\n",
              "    <tr>\n",
              "      <th>3</th>\n",
              "      <td>CHEMBL60119</td>\n",
              "      <td>Cc1ccc2c(N)c3c(nc2c1)CCCC3</td>\n",
              "      <td>100.0</td>\n",
              "      <td>1</td>\n",
              "      <td>True</td>\n",
              "      <td>&lt;rdkit.DataStructs.cDataStructs.ExplicitBitVec...</td>\n",
              "      <td>&lt;rdkit.Chem.rdchem.Mol object at 0x7bcfd8e88430&gt;</td>\n",
              "      <td>&lt;rdkit.DataStructs.cDataStructs.ExplicitBitVec...</td>\n",
              "      <td>2.705664</td>\n",
              "      <td>0.148113</td>\n",
              "      <td>57.758297</td>\n",
              "      <td>-8.911607</td>\n",
              "      <td>212.296</td>\n",
              "      <td>4</td>\n",
              "      <td>Cc1ccc2c(N)c3c(nc2c1)CCCC3</td>\n",
              "    </tr>\n",
              "    <tr>\n",
              "      <th>4</th>\n",
              "      <td>CHEMBL294525</td>\n",
              "      <td>CCCCCCCNc1c2c(nc3cc([N+](=O)[O-])ccc13)CCCC2</td>\n",
              "      <td>290.0</td>\n",
              "      <td>1</td>\n",
              "      <td>True</td>\n",
              "      <td>&lt;rdkit.DataStructs.cDataStructs.ExplicitBitVec...</td>\n",
              "      <td>&lt;rdkit.Chem.rdchem.Mol object at 0x7bcfd8e884a0&gt;</td>\n",
              "      <td>&lt;rdkit.DataStructs.cDataStructs.ExplicitBitVec...</td>\n",
              "      <td>3.600017</td>\n",
              "      <td>-0.978574</td>\n",
              "      <td>61.242554</td>\n",
              "      <td>5.783804</td>\n",
              "      <td>341.455</td>\n",
              "      <td>3</td>\n",
              "      <td>CCCCCCCNc1c2c(nc3cc([N+](=O)[O-])ccc13)CCCC2</td>\n",
              "    </tr>\n",
              "  </tbody>\n",
              "</table>\n",
              "</div>\n",
              "    <div class=\"colab-df-buttons\">\n",
              "\n",
              "  <div class=\"colab-df-container\">\n",
              "    <button class=\"colab-df-convert\" onclick=\"convertToInteractive('df-243e12ad-cc3e-4fb4-8d42-d4f4f4608edb')\"\n",
              "            title=\"Convert this dataframe to an interactive table.\"\n",
              "            style=\"display:none;\">\n",
              "\n",
              "  <svg xmlns=\"http://www.w3.org/2000/svg\" height=\"24px\" viewBox=\"0 -960 960 960\">\n",
              "    <path d=\"M120-120v-720h720v720H120Zm60-500h600v-160H180v160Zm220 220h160v-160H400v160Zm0 220h160v-160H400v160ZM180-400h160v-160H180v160Zm440 0h160v-160H620v160ZM180-180h160v-160H180v160Zm440 0h160v-160H620v160Z\"/>\n",
              "  </svg>\n",
              "    </button>\n",
              "\n",
              "  <style>\n",
              "    .colab-df-container {\n",
              "      display:flex;\n",
              "      gap: 12px;\n",
              "    }\n",
              "\n",
              "    .colab-df-convert {\n",
              "      background-color: #E8F0FE;\n",
              "      border: none;\n",
              "      border-radius: 50%;\n",
              "      cursor: pointer;\n",
              "      display: none;\n",
              "      fill: #1967D2;\n",
              "      height: 32px;\n",
              "      padding: 0 0 0 0;\n",
              "      width: 32px;\n",
              "    }\n",
              "\n",
              "    .colab-df-convert:hover {\n",
              "      background-color: #E2EBFA;\n",
              "      box-shadow: 0px 1px 2px rgba(60, 64, 67, 0.3), 0px 1px 3px 1px rgba(60, 64, 67, 0.15);\n",
              "      fill: #174EA6;\n",
              "    }\n",
              "\n",
              "    .colab-df-buttons div {\n",
              "      margin-bottom: 4px;\n",
              "    }\n",
              "\n",
              "    [theme=dark] .colab-df-convert {\n",
              "      background-color: #3B4455;\n",
              "      fill: #D2E3FC;\n",
              "    }\n",
              "\n",
              "    [theme=dark] .colab-df-convert:hover {\n",
              "      background-color: #434B5C;\n",
              "      box-shadow: 0px 1px 3px 1px rgba(0, 0, 0, 0.15);\n",
              "      filter: drop-shadow(0px 1px 2px rgba(0, 0, 0, 0.3));\n",
              "      fill: #FFFFFF;\n",
              "    }\n",
              "  </style>\n",
              "\n",
              "    <script>\n",
              "      const buttonEl =\n",
              "        document.querySelector('#df-243e12ad-cc3e-4fb4-8d42-d4f4f4608edb button.colab-df-convert');\n",
              "      buttonEl.style.display =\n",
              "        google.colab.kernel.accessAllowed ? 'block' : 'none';\n",
              "\n",
              "      async function convertToInteractive(key) {\n",
              "        const element = document.querySelector('#df-243e12ad-cc3e-4fb4-8d42-d4f4f4608edb');\n",
              "        const dataTable =\n",
              "          await google.colab.kernel.invokeFunction('convertToInteractive',\n",
              "                                                    [key], {});\n",
              "        if (!dataTable) return;\n",
              "\n",
              "        const docLinkHtml = 'Like what you see? Visit the ' +\n",
              "          '<a target=\"_blank\" href=https://colab.research.google.com/notebooks/data_table.ipynb>data table notebook</a>'\n",
              "          + ' to learn more about interactive tables.';\n",
              "        element.innerHTML = '';\n",
              "        dataTable['output_type'] = 'display_data';\n",
              "        await google.colab.output.renderOutput(dataTable, element);\n",
              "        const docLink = document.createElement('div');\n",
              "        docLink.innerHTML = docLinkHtml;\n",
              "        element.appendChild(docLink);\n",
              "      }\n",
              "    </script>\n",
              "  </div>\n",
              "\n",
              "\n",
              "<div id=\"df-e2799d2f-43c1-43d1-a5fe-422230b7d028\">\n",
              "  <button class=\"colab-df-quickchart\" onclick=\"quickchart('df-e2799d2f-43c1-43d1-a5fe-422230b7d028')\"\n",
              "            title=\"Suggest charts\"\n",
              "            style=\"display:none;\">\n",
              "\n",
              "<svg xmlns=\"http://www.w3.org/2000/svg\" height=\"24px\"viewBox=\"0 0 24 24\"\n",
              "     width=\"24px\">\n",
              "    <g>\n",
              "        <path d=\"M19 3H5c-1.1 0-2 .9-2 2v14c0 1.1.9 2 2 2h14c1.1 0 2-.9 2-2V5c0-1.1-.9-2-2-2zM9 17H7v-7h2v7zm4 0h-2V7h2v10zm4 0h-2v-4h2v4z\"/>\n",
              "    </g>\n",
              "</svg>\n",
              "  </button>\n",
              "\n",
              "<style>\n",
              "  .colab-df-quickchart {\n",
              "      --bg-color: #E8F0FE;\n",
              "      --fill-color: #1967D2;\n",
              "      --hover-bg-color: #E2EBFA;\n",
              "      --hover-fill-color: #174EA6;\n",
              "      --disabled-fill-color: #AAA;\n",
              "      --disabled-bg-color: #DDD;\n",
              "  }\n",
              "\n",
              "  [theme=dark] .colab-df-quickchart {\n",
              "      --bg-color: #3B4455;\n",
              "      --fill-color: #D2E3FC;\n",
              "      --hover-bg-color: #434B5C;\n",
              "      --hover-fill-color: #FFFFFF;\n",
              "      --disabled-bg-color: #3B4455;\n",
              "      --disabled-fill-color: #666;\n",
              "  }\n",
              "\n",
              "  .colab-df-quickchart {\n",
              "    background-color: var(--bg-color);\n",
              "    border: none;\n",
              "    border-radius: 50%;\n",
              "    cursor: pointer;\n",
              "    display: none;\n",
              "    fill: var(--fill-color);\n",
              "    height: 32px;\n",
              "    padding: 0;\n",
              "    width: 32px;\n",
              "  }\n",
              "\n",
              "  .colab-df-quickchart:hover {\n",
              "    background-color: var(--hover-bg-color);\n",
              "    box-shadow: 0 1px 2px rgba(60, 64, 67, 0.3), 0 1px 3px 1px rgba(60, 64, 67, 0.15);\n",
              "    fill: var(--button-hover-fill-color);\n",
              "  }\n",
              "\n",
              "  .colab-df-quickchart-complete:disabled,\n",
              "  .colab-df-quickchart-complete:disabled:hover {\n",
              "    background-color: var(--disabled-bg-color);\n",
              "    fill: var(--disabled-fill-color);\n",
              "    box-shadow: none;\n",
              "  }\n",
              "\n",
              "  .colab-df-spinner {\n",
              "    border: 2px solid var(--fill-color);\n",
              "    border-color: transparent;\n",
              "    border-bottom-color: var(--fill-color);\n",
              "    animation:\n",
              "      spin 1s steps(1) infinite;\n",
              "  }\n",
              "\n",
              "  @keyframes spin {\n",
              "    0% {\n",
              "      border-color: transparent;\n",
              "      border-bottom-color: var(--fill-color);\n",
              "      border-left-color: var(--fill-color);\n",
              "    }\n",
              "    20% {\n",
              "      border-color: transparent;\n",
              "      border-left-color: var(--fill-color);\n",
              "      border-top-color: var(--fill-color);\n",
              "    }\n",
              "    30% {\n",
              "      border-color: transparent;\n",
              "      border-left-color: var(--fill-color);\n",
              "      border-top-color: var(--fill-color);\n",
              "      border-right-color: var(--fill-color);\n",
              "    }\n",
              "    40% {\n",
              "      border-color: transparent;\n",
              "      border-right-color: var(--fill-color);\n",
              "      border-top-color: var(--fill-color);\n",
              "    }\n",
              "    60% {\n",
              "      border-color: transparent;\n",
              "      border-right-color: var(--fill-color);\n",
              "    }\n",
              "    80% {\n",
              "      border-color: transparent;\n",
              "      border-right-color: var(--fill-color);\n",
              "      border-bottom-color: var(--fill-color);\n",
              "    }\n",
              "    90% {\n",
              "      border-color: transparent;\n",
              "      border-bottom-color: var(--fill-color);\n",
              "    }\n",
              "  }\n",
              "</style>\n",
              "\n",
              "  <script>\n",
              "    async function quickchart(key) {\n",
              "      const quickchartButtonEl =\n",
              "        document.querySelector('#' + key + ' button');\n",
              "      quickchartButtonEl.disabled = true;  // To prevent multiple clicks.\n",
              "      quickchartButtonEl.classList.add('colab-df-spinner');\n",
              "      try {\n",
              "        const charts = await google.colab.kernel.invokeFunction(\n",
              "            'suggestCharts', [key], {});\n",
              "      } catch (error) {\n",
              "        console.error('Error during call to suggestCharts:', error);\n",
              "      }\n",
              "      quickchartButtonEl.classList.remove('colab-df-spinner');\n",
              "      quickchartButtonEl.classList.add('colab-df-quickchart-complete');\n",
              "    }\n",
              "    (() => {\n",
              "      let quickchartButtonEl =\n",
              "        document.querySelector('#df-e2799d2f-43c1-43d1-a5fe-422230b7d028 button');\n",
              "      quickchartButtonEl.style.display =\n",
              "        google.colab.kernel.accessAllowed ? 'block' : 'none';\n",
              "    })();\n",
              "  </script>\n",
              "</div>\n",
              "\n",
              "    </div>\n",
              "  </div>\n"
            ],
            "application/vnd.google.colaboratory.intrinsic+json": {
              "type": "dataframe",
              "variable_name": "df",
              "summary": "{\n  \"name\": \"df\",\n  \"rows\": 4077,\n  \"fields\": [\n    {\n      \"column\": \"Molecule ChEMBL ID\",\n      \"properties\": {\n        \"dtype\": \"string\",\n        \"num_unique_values\": 4077,\n        \"samples\": [\n          \"CHEMBL1766142\",\n          \"CHEMBL128551\",\n          \"CHEMBL3628059\"\n        ],\n        \"semantic_type\": \"\",\n        \"description\": \"\"\n      }\n    },\n    {\n      \"column\": \"Smiles\",\n      \"properties\": {\n        \"dtype\": \"string\",\n        \"num_unique_values\": 4077,\n        \"samples\": [\n          \"Clc1ccc(CN2CCN(c3nccc(NCc4ccccc4)n3)CC2)cc1\",\n          \"CCCCNC(=O)Oc1cccc(CN(C)CCCOc2ccc3ccc(=O)oc3c2)c1\",\n          \"Cc1cccc(C[n+]2ccc(C(=O)NCCc3c[nH]c4ccccc34)cc2)c1.[Br-]\"\n        ],\n        \"semantic_type\": \"\",\n        \"description\": \"\"\n      }\n    },\n    {\n      \"column\": \"IC50\",\n      \"properties\": {\n        \"dtype\": \"number\",\n        \"std\": 1058622.7305489292,\n        \"min\": 0.006,\n        \"max\": 49600000.0,\n        \"num_unique_values\": 2071,\n        \"samples\": [\n          2370.0,\n          26.2,\n          7100.0\n        ],\n        \"semantic_type\": \"\",\n        \"description\": \"\"\n      }\n    },\n    {\n      \"column\": \"classLabel\",\n      \"properties\": {\n        \"dtype\": \"number\",\n        \"std\": 0,\n        \"min\": 0,\n        \"max\": 1,\n        \"num_unique_values\": 2,\n        \"samples\": [\n          0,\n          1\n        ],\n        \"semantic_type\": \"\",\n        \"description\": \"\"\n      }\n    },\n    {\n      \"column\": \"IsValidSMILES\",\n      \"properties\": {\n        \"dtype\": \"boolean\",\n        \"num_unique_values\": 1,\n        \"samples\": [\n          true\n        ],\n        \"semantic_type\": \"\",\n        \"description\": \"\"\n      }\n    },\n    {\n      \"column\": \"Morgan_FP\",\n      \"properties\": {\n        \"dtype\": \"string\",\n        \"num_unique_values\": 4077,\n        \"samples\": [\n          \"<rdkit.DataStructs.cDataStructs.ExplicitBitVect object at 0x7bd04e1c63b0>\"\n        ],\n        \"semantic_type\": \"\",\n        \"description\": \"\"\n      }\n    },\n    {\n      \"column\": \"Molecule\",\n      \"properties\": {\n        \"dtype\": \"string\",\n        \"num_unique_values\": 4077,\n        \"samples\": [\n          \"<rdkit.Chem.rdchem.Mol object at 0x7bcfd9354f20>\"\n        ],\n        \"semantic_type\": \"\",\n        \"description\": \"\"\n      }\n    },\n    {\n      \"column\": \"Fingerprint\",\n      \"properties\": {\n        \"dtype\": \"string\",\n        \"num_unique_values\": 4077,\n        \"samples\": [\n          \"<rdkit.DataStructs.cDataStructs.ExplicitBitVect object at 0x7bcfd858b290>\"\n        ],\n        \"semantic_type\": \"\",\n        \"description\": \"\"\n      }\n    },\n    {\n      \"column\": \"PCA1\",\n      \"properties\": {\n        \"dtype\": \"number\",\n        \"std\": 1.5174872556004428,\n        \"min\": -2.023172360952489,\n        \"max\": 4.617981706040551,\n        \"num_unique_values\": 3698,\n        \"samples\": [\n          -0.5375471136709915\n        ],\n        \"semantic_type\": \"\",\n        \"description\": \"\"\n      }\n    },\n    {\n      \"column\": \"PCA2\",\n      \"properties\": {\n        \"dtype\": \"number\",\n        \"std\": 1.1681499009102088,\n        \"min\": -3.181621928618585,\n        \"max\": 3.626419852049427,\n        \"num_unique_values\": 3701,\n        \"samples\": [\n          0.1508293517690993\n        ],\n        \"semantic_type\": \"\",\n        \"description\": \"\"\n      }\n    },\n    {\n      \"column\": \"tSNE1\",\n      \"properties\": {\n        \"dtype\": \"number\",\n        \"std\": 37.37237272918856,\n        \"min\": -94.5685043334961,\n        \"max\": 85.55352783203125,\n        \"num_unique_values\": 3943,\n        \"samples\": [\n          0.3017047941684723\n        ],\n        \"semantic_type\": \"\",\n        \"description\": \"\"\n      }\n    },\n    {\n      \"column\": \"tSNE2\",\n      \"properties\": {\n        \"dtype\": \"number\",\n        \"std\": 36.08111280154018,\n        \"min\": -83.08944702148438,\n        \"max\": 92.23171997070312,\n        \"num_unique_values\": 3946,\n        \"samples\": [\n          6.217453956604004\n        ],\n        \"semantic_type\": \"\",\n        \"description\": \"\"\n      }\n    },\n    {\n      \"column\": \"MolecularWeight\",\n      \"properties\": {\n        \"dtype\": \"number\",\n        \"std\": 119.8395454967156,\n        \"min\": 61.04000000000001,\n        \"max\": 790.6820000000002,\n        \"num_unique_values\": 3266,\n        \"samples\": [\n          392.5430000000001\n        ],\n        \"semantic_type\": \"\",\n        \"description\": \"\"\n      }\n    },\n    {\n      \"column\": \"Frequency\",\n      \"properties\": {\n        \"dtype\": \"number\",\n        \"std\": 2,\n        \"min\": 1,\n        \"max\": 102,\n        \"num_unique_values\": 15,\n        \"samples\": [\n          9\n        ],\n        \"semantic_type\": \"\",\n        \"description\": \"\"\n      }\n    },\n    {\n      \"column\": \"cleanedMol\",\n      \"properties\": {\n        \"dtype\": \"string\",\n        \"num_unique_values\": 4015,\n        \"samples\": [\n          \"COc1cc2c(cc1OC)C(=O)/C(=C/c1ccc(CN3CCCCC3)c(O)c1)O2\"\n        ],\n        \"semantic_type\": \"\",\n        \"description\": \"\"\n      }\n    }\n  ]\n}"
            }
          },
          "metadata": {},
          "execution_count": 8
        }
      ],
      "source": [
        "# Load dataset\n",
        "import pandas as pd\n",
        "df=pd.read_excel('/content/drive/MyDrive/Predictive-Generative-transfer learning/TransferAll/StandarizationOfDataset/StandarizedSmiles_cutOFF800daltonMolecularweight (1).xlsx')\n",
        "df.head(5)"
      ]
    },
    {
      "cell_type": "code",
      "execution_count": 9,
      "metadata": {
        "colab": {
          "base_uri": "https://localhost:8080/",
          "height": 808
        },
        "id": "-yrYMt2vRNLI",
        "outputId": "35060f1e-7654-4472-b951-c3fd02f1eacb"
      },
      "outputs": [
        {
          "output_type": "execute_result",
          "data": {
            "text/plain": [
              "     Molecule ChEMBL ID                                             Smiles  \\\n",
              "0              CHEMBL94        CNC(=O)Oc1ccc2c(c1)[C@]1(C)CCN(C)[C@@H]1N2C   \n",
              "1          CHEMBL207777  Cc1ccccc1NC(=O)Oc1ccc2c(c1)[C@]1(C)CO[C@@H](C1)O2   \n",
              "2          CHEMBL205967         CCNC(=O)Oc1ccc2c(c1)[C@]1(C)CO[C@@H](C1)O2   \n",
              "3           CHEMBL60119                         Cc1ccc2c(N)c3c(nc2c1)CCCC3   \n",
              "4          CHEMBL294525       CCCCCCCNc1c2c(nc3cc([N+](=O)[O-])ccc13)CCCC2   \n",
              "...                 ...                                                ...   \n",
              "4072      CHEMBL4077157  O=C(Nc1ccc(CN2CCOCC2)cc1C(=O)C(=O)N1C(=O)CCC1=...   \n",
              "4073      CHEMBL3906317       COc1cccc2c1C=[N+](c1ccccc1C(F)(F)F)CC2.[Br-]   \n",
              "4074      CHEMBL4800328            COc1cccc2cc[n+](-c3ccc(C)cc3)cc12.[Br-]   \n",
              "4075      CHEMBL4797670           COc1ccc(-[n+]2ccc3cccc(OC)c3c2)cc1.[Br-]   \n",
              "4076      CHEMBL4202784  COc1ccc(Cn2cc(C(=O)NCCCCCNc3c4c(nc5ccccc35)CCC...   \n",
              "\n",
              "          IC50  classLabel  IsValidSMILES  \\\n",
              "0        28.00           1           True   \n",
              "1        97.00           1           True   \n",
              "2      2420.00           0           True   \n",
              "3       100.00           1           True   \n",
              "4       290.00           1           True   \n",
              "...        ...         ...            ...   \n",
              "4072    229.08           1           True   \n",
              "4073  10000.00           0           True   \n",
              "4074   1080.00           0           True   \n",
              "4075    140.00           1           True   \n",
              "4076    293.00           1           True   \n",
              "\n",
              "                                              Morgan_FP  \\\n",
              "0     <rdkit.DataStructs.cDataStructs.ExplicitBitVec...   \n",
              "1     <rdkit.DataStructs.cDataStructs.ExplicitBitVec...   \n",
              "2     <rdkit.DataStructs.cDataStructs.ExplicitBitVec...   \n",
              "3     <rdkit.DataStructs.cDataStructs.ExplicitBitVec...   \n",
              "4     <rdkit.DataStructs.cDataStructs.ExplicitBitVec...   \n",
              "...                                                 ...   \n",
              "4072  <rdkit.DataStructs.cDataStructs.ExplicitBitVec...   \n",
              "4073  <rdkit.DataStructs.cDataStructs.ExplicitBitVec...   \n",
              "4074  <rdkit.DataStructs.cDataStructs.ExplicitBitVec...   \n",
              "4075  <rdkit.DataStructs.cDataStructs.ExplicitBitVec...   \n",
              "4076  <rdkit.DataStructs.cDataStructs.ExplicitBitVec...   \n",
              "\n",
              "                                              Molecule  \\\n",
              "0     <rdkit.Chem.rdchem.Mol object at 0x7bcfd8e880b0>   \n",
              "1     <rdkit.Chem.rdchem.Mol object at 0x7bcfd8e88190>   \n",
              "2     <rdkit.Chem.rdchem.Mol object at 0x7bcfd8e88270>   \n",
              "3     <rdkit.Chem.rdchem.Mol object at 0x7bcfd8e88430>   \n",
              "4     <rdkit.Chem.rdchem.Mol object at 0x7bcfd8e884a0>   \n",
              "...                                                ...   \n",
              "4072  <rdkit.Chem.rdchem.Mol object at 0x7bcfdd327c30>   \n",
              "4073  <rdkit.Chem.rdchem.Mol object at 0x7bcfdd327ca0>   \n",
              "4074  <rdkit.Chem.rdchem.Mol object at 0x7bcfdd327d10>   \n",
              "4075  <rdkit.Chem.rdchem.Mol object at 0x7bcfdd327d80>   \n",
              "4076  <rdkit.Chem.rdchem.Mol object at 0x7bcfdd327df0>   \n",
              "\n",
              "                                            Fingerprint      PCA1      PCA2  \\\n",
              "0     <rdkit.DataStructs.cDataStructs.ExplicitBitVec... -1.738898 -1.494784   \n",
              "1     <rdkit.DataStructs.cDataStructs.ExplicitBitVec... -1.014164 -1.325272   \n",
              "2     <rdkit.DataStructs.cDataStructs.ExplicitBitVec... -1.235565 -1.559108   \n",
              "3     <rdkit.DataStructs.cDataStructs.ExplicitBitVec...  2.705664  0.148113   \n",
              "4     <rdkit.DataStructs.cDataStructs.ExplicitBitVec...  3.600017 -0.978574   \n",
              "...                                                 ...       ...       ...   \n",
              "4072  <rdkit.DataStructs.cDataStructs.ExplicitBitVec... -0.478199  1.261641   \n",
              "4073  <rdkit.DataStructs.cDataStructs.ExplicitBitVec... -0.671263 -0.016301   \n",
              "4074  <rdkit.DataStructs.cDataStructs.ExplicitBitVec... -0.586529 -0.433179   \n",
              "4075  <rdkit.DataStructs.cDataStructs.ExplicitBitVec... -0.677524 -0.748477   \n",
              "4076  <rdkit.DataStructs.cDataStructs.ExplicitBitVec...  3.542966 -0.680578   \n",
              "\n",
              "          tSNE1      tSNE2  MolecularWeight  Frequency  \\\n",
              "0    -52.761700 -42.736099          275.352         27   \n",
              "1    -63.027809 -53.765778          325.364          1   \n",
              "2    -61.968063 -54.078575          263.293          1   \n",
              "3     57.758297  -8.911607          212.296          4   \n",
              "4     61.242554   5.783804          341.455          3   \n",
              "...         ...        ...              ...        ...   \n",
              "4072  -6.948340  22.359066          449.463          1   \n",
              "4073  -2.058204 -20.779112          386.211          1   \n",
              "4074  12.677232  -4.265130          330.225          1   \n",
              "4075  12.681081  -4.258606          346.224          1   \n",
              "4076  69.466537  21.984348          574.725          1   \n",
              "\n",
              "                                             cleanedMol  \n",
              "0           CNC(=O)Oc1ccc2c(c1)[C@]1(C)CCN(C)[C@@H]1N2C  \n",
              "1     Cc1ccccc1NC(=O)Oc1ccc2c(c1)[C@]1(C)CO[C@@H](C1)O2  \n",
              "2            CCNC(=O)Oc1ccc2c(c1)[C@]1(C)CO[C@@H](C1)O2  \n",
              "3                            Cc1ccc2c(N)c3c(nc2c1)CCCC3  \n",
              "4          CCCCCCCNc1c2c(nc3cc([N+](=O)[O-])ccc13)CCCC2  \n",
              "...                                                 ...  \n",
              "4072  O=C(Nc1ccc(CN2CCOCC2)cc1C(=O)C(=O)n1c(O)ccc1O)...  \n",
              "4073             COc1cccc2c1C=[N+](c1ccccc1C(F)(F)F)CC2  \n",
              "4074                  COc1cccc2cc[n+](-c3ccc(C)cc3)cc12  \n",
              "4075                 COc1ccc(-[n+]2ccc3cccc(OC)c3c2)cc1  \n",
              "4076  COc1ccc(Cn2cc(C(=O)NCCCCCNc3c4c(nc5ccccc35)CCC...  \n",
              "\n",
              "[4077 rows x 15 columns]"
            ],
            "text/html": [
              "\n",
              "  <div id=\"df-40731260-d50b-4495-9504-40583e863ba0\" class=\"colab-df-container\">\n",
              "    <div>\n",
              "<style scoped>\n",
              "    .dataframe tbody tr th:only-of-type {\n",
              "        vertical-align: middle;\n",
              "    }\n",
              "\n",
              "    .dataframe tbody tr th {\n",
              "        vertical-align: top;\n",
              "    }\n",
              "\n",
              "    .dataframe thead th {\n",
              "        text-align: right;\n",
              "    }\n",
              "</style>\n",
              "<table border=\"1\" class=\"dataframe\">\n",
              "  <thead>\n",
              "    <tr style=\"text-align: right;\">\n",
              "      <th></th>\n",
              "      <th>Molecule ChEMBL ID</th>\n",
              "      <th>Smiles</th>\n",
              "      <th>IC50</th>\n",
              "      <th>classLabel</th>\n",
              "      <th>IsValidSMILES</th>\n",
              "      <th>Morgan_FP</th>\n",
              "      <th>Molecule</th>\n",
              "      <th>Fingerprint</th>\n",
              "      <th>PCA1</th>\n",
              "      <th>PCA2</th>\n",
              "      <th>tSNE1</th>\n",
              "      <th>tSNE2</th>\n",
              "      <th>MolecularWeight</th>\n",
              "      <th>Frequency</th>\n",
              "      <th>cleanedMol</th>\n",
              "    </tr>\n",
              "  </thead>\n",
              "  <tbody>\n",
              "    <tr>\n",
              "      <th>0</th>\n",
              "      <td>CHEMBL94</td>\n",
              "      <td>CNC(=O)Oc1ccc2c(c1)[C@]1(C)CCN(C)[C@@H]1N2C</td>\n",
              "      <td>28.00</td>\n",
              "      <td>1</td>\n",
              "      <td>True</td>\n",
              "      <td>&lt;rdkit.DataStructs.cDataStructs.ExplicitBitVec...</td>\n",
              "      <td>&lt;rdkit.Chem.rdchem.Mol object at 0x7bcfd8e880b0&gt;</td>\n",
              "      <td>&lt;rdkit.DataStructs.cDataStructs.ExplicitBitVec...</td>\n",
              "      <td>-1.738898</td>\n",
              "      <td>-1.494784</td>\n",
              "      <td>-52.761700</td>\n",
              "      <td>-42.736099</td>\n",
              "      <td>275.352</td>\n",
              "      <td>27</td>\n",
              "      <td>CNC(=O)Oc1ccc2c(c1)[C@]1(C)CCN(C)[C@@H]1N2C</td>\n",
              "    </tr>\n",
              "    <tr>\n",
              "      <th>1</th>\n",
              "      <td>CHEMBL207777</td>\n",
              "      <td>Cc1ccccc1NC(=O)Oc1ccc2c(c1)[C@]1(C)CO[C@@H](C1)O2</td>\n",
              "      <td>97.00</td>\n",
              "      <td>1</td>\n",
              "      <td>True</td>\n",
              "      <td>&lt;rdkit.DataStructs.cDataStructs.ExplicitBitVec...</td>\n",
              "      <td>&lt;rdkit.Chem.rdchem.Mol object at 0x7bcfd8e88190&gt;</td>\n",
              "      <td>&lt;rdkit.DataStructs.cDataStructs.ExplicitBitVec...</td>\n",
              "      <td>-1.014164</td>\n",
              "      <td>-1.325272</td>\n",
              "      <td>-63.027809</td>\n",
              "      <td>-53.765778</td>\n",
              "      <td>325.364</td>\n",
              "      <td>1</td>\n",
              "      <td>Cc1ccccc1NC(=O)Oc1ccc2c(c1)[C@]1(C)CO[C@@H](C1)O2</td>\n",
              "    </tr>\n",
              "    <tr>\n",
              "      <th>2</th>\n",
              "      <td>CHEMBL205967</td>\n",
              "      <td>CCNC(=O)Oc1ccc2c(c1)[C@]1(C)CO[C@@H](C1)O2</td>\n",
              "      <td>2420.00</td>\n",
              "      <td>0</td>\n",
              "      <td>True</td>\n",
              "      <td>&lt;rdkit.DataStructs.cDataStructs.ExplicitBitVec...</td>\n",
              "      <td>&lt;rdkit.Chem.rdchem.Mol object at 0x7bcfd8e88270&gt;</td>\n",
              "      <td>&lt;rdkit.DataStructs.cDataStructs.ExplicitBitVec...</td>\n",
              "      <td>-1.235565</td>\n",
              "      <td>-1.559108</td>\n",
              "      <td>-61.968063</td>\n",
              "      <td>-54.078575</td>\n",
              "      <td>263.293</td>\n",
              "      <td>1</td>\n",
              "      <td>CCNC(=O)Oc1ccc2c(c1)[C@]1(C)CO[C@@H](C1)O2</td>\n",
              "    </tr>\n",
              "    <tr>\n",
              "      <th>3</th>\n",
              "      <td>CHEMBL60119</td>\n",
              "      <td>Cc1ccc2c(N)c3c(nc2c1)CCCC3</td>\n",
              "      <td>100.00</td>\n",
              "      <td>1</td>\n",
              "      <td>True</td>\n",
              "      <td>&lt;rdkit.DataStructs.cDataStructs.ExplicitBitVec...</td>\n",
              "      <td>&lt;rdkit.Chem.rdchem.Mol object at 0x7bcfd8e88430&gt;</td>\n",
              "      <td>&lt;rdkit.DataStructs.cDataStructs.ExplicitBitVec...</td>\n",
              "      <td>2.705664</td>\n",
              "      <td>0.148113</td>\n",
              "      <td>57.758297</td>\n",
              "      <td>-8.911607</td>\n",
              "      <td>212.296</td>\n",
              "      <td>4</td>\n",
              "      <td>Cc1ccc2c(N)c3c(nc2c1)CCCC3</td>\n",
              "    </tr>\n",
              "    <tr>\n",
              "      <th>4</th>\n",
              "      <td>CHEMBL294525</td>\n",
              "      <td>CCCCCCCNc1c2c(nc3cc([N+](=O)[O-])ccc13)CCCC2</td>\n",
              "      <td>290.00</td>\n",
              "      <td>1</td>\n",
              "      <td>True</td>\n",
              "      <td>&lt;rdkit.DataStructs.cDataStructs.ExplicitBitVec...</td>\n",
              "      <td>&lt;rdkit.Chem.rdchem.Mol object at 0x7bcfd8e884a0&gt;</td>\n",
              "      <td>&lt;rdkit.DataStructs.cDataStructs.ExplicitBitVec...</td>\n",
              "      <td>3.600017</td>\n",
              "      <td>-0.978574</td>\n",
              "      <td>61.242554</td>\n",
              "      <td>5.783804</td>\n",
              "      <td>341.455</td>\n",
              "      <td>3</td>\n",
              "      <td>CCCCCCCNc1c2c(nc3cc([N+](=O)[O-])ccc13)CCCC2</td>\n",
              "    </tr>\n",
              "    <tr>\n",
              "      <th>...</th>\n",
              "      <td>...</td>\n",
              "      <td>...</td>\n",
              "      <td>...</td>\n",
              "      <td>...</td>\n",
              "      <td>...</td>\n",
              "      <td>...</td>\n",
              "      <td>...</td>\n",
              "      <td>...</td>\n",
              "      <td>...</td>\n",
              "      <td>...</td>\n",
              "      <td>...</td>\n",
              "      <td>...</td>\n",
              "      <td>...</td>\n",
              "      <td>...</td>\n",
              "      <td>...</td>\n",
              "    </tr>\n",
              "    <tr>\n",
              "      <th>4072</th>\n",
              "      <td>CHEMBL4077157</td>\n",
              "      <td>O=C(Nc1ccc(CN2CCOCC2)cc1C(=O)C(=O)N1C(=O)CCC1=...</td>\n",
              "      <td>229.08</td>\n",
              "      <td>1</td>\n",
              "      <td>True</td>\n",
              "      <td>&lt;rdkit.DataStructs.cDataStructs.ExplicitBitVec...</td>\n",
              "      <td>&lt;rdkit.Chem.rdchem.Mol object at 0x7bcfdd327c30&gt;</td>\n",
              "      <td>&lt;rdkit.DataStructs.cDataStructs.ExplicitBitVec...</td>\n",
              "      <td>-0.478199</td>\n",
              "      <td>1.261641</td>\n",
              "      <td>-6.948340</td>\n",
              "      <td>22.359066</td>\n",
              "      <td>449.463</td>\n",
              "      <td>1</td>\n",
              "      <td>O=C(Nc1ccc(CN2CCOCC2)cc1C(=O)C(=O)n1c(O)ccc1O)...</td>\n",
              "    </tr>\n",
              "    <tr>\n",
              "      <th>4073</th>\n",
              "      <td>CHEMBL3906317</td>\n",
              "      <td>COc1cccc2c1C=[N+](c1ccccc1C(F)(F)F)CC2.[Br-]</td>\n",
              "      <td>10000.00</td>\n",
              "      <td>0</td>\n",
              "      <td>True</td>\n",
              "      <td>&lt;rdkit.DataStructs.cDataStructs.ExplicitBitVec...</td>\n",
              "      <td>&lt;rdkit.Chem.rdchem.Mol object at 0x7bcfdd327ca0&gt;</td>\n",
              "      <td>&lt;rdkit.DataStructs.cDataStructs.ExplicitBitVec...</td>\n",
              "      <td>-0.671263</td>\n",
              "      <td>-0.016301</td>\n",
              "      <td>-2.058204</td>\n",
              "      <td>-20.779112</td>\n",
              "      <td>386.211</td>\n",
              "      <td>1</td>\n",
              "      <td>COc1cccc2c1C=[N+](c1ccccc1C(F)(F)F)CC2</td>\n",
              "    </tr>\n",
              "    <tr>\n",
              "      <th>4074</th>\n",
              "      <td>CHEMBL4800328</td>\n",
              "      <td>COc1cccc2cc[n+](-c3ccc(C)cc3)cc12.[Br-]</td>\n",
              "      <td>1080.00</td>\n",
              "      <td>0</td>\n",
              "      <td>True</td>\n",
              "      <td>&lt;rdkit.DataStructs.cDataStructs.ExplicitBitVec...</td>\n",
              "      <td>&lt;rdkit.Chem.rdchem.Mol object at 0x7bcfdd327d10&gt;</td>\n",
              "      <td>&lt;rdkit.DataStructs.cDataStructs.ExplicitBitVec...</td>\n",
              "      <td>-0.586529</td>\n",
              "      <td>-0.433179</td>\n",
              "      <td>12.677232</td>\n",
              "      <td>-4.265130</td>\n",
              "      <td>330.225</td>\n",
              "      <td>1</td>\n",
              "      <td>COc1cccc2cc[n+](-c3ccc(C)cc3)cc12</td>\n",
              "    </tr>\n",
              "    <tr>\n",
              "      <th>4075</th>\n",
              "      <td>CHEMBL4797670</td>\n",
              "      <td>COc1ccc(-[n+]2ccc3cccc(OC)c3c2)cc1.[Br-]</td>\n",
              "      <td>140.00</td>\n",
              "      <td>1</td>\n",
              "      <td>True</td>\n",
              "      <td>&lt;rdkit.DataStructs.cDataStructs.ExplicitBitVec...</td>\n",
              "      <td>&lt;rdkit.Chem.rdchem.Mol object at 0x7bcfdd327d80&gt;</td>\n",
              "      <td>&lt;rdkit.DataStructs.cDataStructs.ExplicitBitVec...</td>\n",
              "      <td>-0.677524</td>\n",
              "      <td>-0.748477</td>\n",
              "      <td>12.681081</td>\n",
              "      <td>-4.258606</td>\n",
              "      <td>346.224</td>\n",
              "      <td>1</td>\n",
              "      <td>COc1ccc(-[n+]2ccc3cccc(OC)c3c2)cc1</td>\n",
              "    </tr>\n",
              "    <tr>\n",
              "      <th>4076</th>\n",
              "      <td>CHEMBL4202784</td>\n",
              "      <td>COc1ccc(Cn2cc(C(=O)NCCCCCNc3c4c(nc5ccccc35)CCC...</td>\n",
              "      <td>293.00</td>\n",
              "      <td>1</td>\n",
              "      <td>True</td>\n",
              "      <td>&lt;rdkit.DataStructs.cDataStructs.ExplicitBitVec...</td>\n",
              "      <td>&lt;rdkit.Chem.rdchem.Mol object at 0x7bcfdd327df0&gt;</td>\n",
              "      <td>&lt;rdkit.DataStructs.cDataStructs.ExplicitBitVec...</td>\n",
              "      <td>3.542966</td>\n",
              "      <td>-0.680578</td>\n",
              "      <td>69.466537</td>\n",
              "      <td>21.984348</td>\n",
              "      <td>574.725</td>\n",
              "      <td>1</td>\n",
              "      <td>COc1ccc(Cn2cc(C(=O)NCCCCCNc3c4c(nc5ccccc35)CCC...</td>\n",
              "    </tr>\n",
              "  </tbody>\n",
              "</table>\n",
              "<p>4077 rows × 15 columns</p>\n",
              "</div>\n",
              "    <div class=\"colab-df-buttons\">\n",
              "\n",
              "  <div class=\"colab-df-container\">\n",
              "    <button class=\"colab-df-convert\" onclick=\"convertToInteractive('df-40731260-d50b-4495-9504-40583e863ba0')\"\n",
              "            title=\"Convert this dataframe to an interactive table.\"\n",
              "            style=\"display:none;\">\n",
              "\n",
              "  <svg xmlns=\"http://www.w3.org/2000/svg\" height=\"24px\" viewBox=\"0 -960 960 960\">\n",
              "    <path d=\"M120-120v-720h720v720H120Zm60-500h600v-160H180v160Zm220 220h160v-160H400v160Zm0 220h160v-160H400v160ZM180-400h160v-160H180v160Zm440 0h160v-160H620v160ZM180-180h160v-160H180v160Zm440 0h160v-160H620v160Z\"/>\n",
              "  </svg>\n",
              "    </button>\n",
              "\n",
              "  <style>\n",
              "    .colab-df-container {\n",
              "      display:flex;\n",
              "      gap: 12px;\n",
              "    }\n",
              "\n",
              "    .colab-df-convert {\n",
              "      background-color: #E8F0FE;\n",
              "      border: none;\n",
              "      border-radius: 50%;\n",
              "      cursor: pointer;\n",
              "      display: none;\n",
              "      fill: #1967D2;\n",
              "      height: 32px;\n",
              "      padding: 0 0 0 0;\n",
              "      width: 32px;\n",
              "    }\n",
              "\n",
              "    .colab-df-convert:hover {\n",
              "      background-color: #E2EBFA;\n",
              "      box-shadow: 0px 1px 2px rgba(60, 64, 67, 0.3), 0px 1px 3px 1px rgba(60, 64, 67, 0.15);\n",
              "      fill: #174EA6;\n",
              "    }\n",
              "\n",
              "    .colab-df-buttons div {\n",
              "      margin-bottom: 4px;\n",
              "    }\n",
              "\n",
              "    [theme=dark] .colab-df-convert {\n",
              "      background-color: #3B4455;\n",
              "      fill: #D2E3FC;\n",
              "    }\n",
              "\n",
              "    [theme=dark] .colab-df-convert:hover {\n",
              "      background-color: #434B5C;\n",
              "      box-shadow: 0px 1px 3px 1px rgba(0, 0, 0, 0.15);\n",
              "      filter: drop-shadow(0px 1px 2px rgba(0, 0, 0, 0.3));\n",
              "      fill: #FFFFFF;\n",
              "    }\n",
              "  </style>\n",
              "\n",
              "    <script>\n",
              "      const buttonEl =\n",
              "        document.querySelector('#df-40731260-d50b-4495-9504-40583e863ba0 button.colab-df-convert');\n",
              "      buttonEl.style.display =\n",
              "        google.colab.kernel.accessAllowed ? 'block' : 'none';\n",
              "\n",
              "      async function convertToInteractive(key) {\n",
              "        const element = document.querySelector('#df-40731260-d50b-4495-9504-40583e863ba0');\n",
              "        const dataTable =\n",
              "          await google.colab.kernel.invokeFunction('convertToInteractive',\n",
              "                                                    [key], {});\n",
              "        if (!dataTable) return;\n",
              "\n",
              "        const docLinkHtml = 'Like what you see? Visit the ' +\n",
              "          '<a target=\"_blank\" href=https://colab.research.google.com/notebooks/data_table.ipynb>data table notebook</a>'\n",
              "          + ' to learn more about interactive tables.';\n",
              "        element.innerHTML = '';\n",
              "        dataTable['output_type'] = 'display_data';\n",
              "        await google.colab.output.renderOutput(dataTable, element);\n",
              "        const docLink = document.createElement('div');\n",
              "        docLink.innerHTML = docLinkHtml;\n",
              "        element.appendChild(docLink);\n",
              "      }\n",
              "    </script>\n",
              "  </div>\n",
              "\n",
              "\n",
              "<div id=\"df-7a650c03-51d1-4152-bf6b-b4c24fecf6ed\">\n",
              "  <button class=\"colab-df-quickchart\" onclick=\"quickchart('df-7a650c03-51d1-4152-bf6b-b4c24fecf6ed')\"\n",
              "            title=\"Suggest charts\"\n",
              "            style=\"display:none;\">\n",
              "\n",
              "<svg xmlns=\"http://www.w3.org/2000/svg\" height=\"24px\"viewBox=\"0 0 24 24\"\n",
              "     width=\"24px\">\n",
              "    <g>\n",
              "        <path d=\"M19 3H5c-1.1 0-2 .9-2 2v14c0 1.1.9 2 2 2h14c1.1 0 2-.9 2-2V5c0-1.1-.9-2-2-2zM9 17H7v-7h2v7zm4 0h-2V7h2v10zm4 0h-2v-4h2v4z\"/>\n",
              "    </g>\n",
              "</svg>\n",
              "  </button>\n",
              "\n",
              "<style>\n",
              "  .colab-df-quickchart {\n",
              "      --bg-color: #E8F0FE;\n",
              "      --fill-color: #1967D2;\n",
              "      --hover-bg-color: #E2EBFA;\n",
              "      --hover-fill-color: #174EA6;\n",
              "      --disabled-fill-color: #AAA;\n",
              "      --disabled-bg-color: #DDD;\n",
              "  }\n",
              "\n",
              "  [theme=dark] .colab-df-quickchart {\n",
              "      --bg-color: #3B4455;\n",
              "      --fill-color: #D2E3FC;\n",
              "      --hover-bg-color: #434B5C;\n",
              "      --hover-fill-color: #FFFFFF;\n",
              "      --disabled-bg-color: #3B4455;\n",
              "      --disabled-fill-color: #666;\n",
              "  }\n",
              "\n",
              "  .colab-df-quickchart {\n",
              "    background-color: var(--bg-color);\n",
              "    border: none;\n",
              "    border-radius: 50%;\n",
              "    cursor: pointer;\n",
              "    display: none;\n",
              "    fill: var(--fill-color);\n",
              "    height: 32px;\n",
              "    padding: 0;\n",
              "    width: 32px;\n",
              "  }\n",
              "\n",
              "  .colab-df-quickchart:hover {\n",
              "    background-color: var(--hover-bg-color);\n",
              "    box-shadow: 0 1px 2px rgba(60, 64, 67, 0.3), 0 1px 3px 1px rgba(60, 64, 67, 0.15);\n",
              "    fill: var(--button-hover-fill-color);\n",
              "  }\n",
              "\n",
              "  .colab-df-quickchart-complete:disabled,\n",
              "  .colab-df-quickchart-complete:disabled:hover {\n",
              "    background-color: var(--disabled-bg-color);\n",
              "    fill: var(--disabled-fill-color);\n",
              "    box-shadow: none;\n",
              "  }\n",
              "\n",
              "  .colab-df-spinner {\n",
              "    border: 2px solid var(--fill-color);\n",
              "    border-color: transparent;\n",
              "    border-bottom-color: var(--fill-color);\n",
              "    animation:\n",
              "      spin 1s steps(1) infinite;\n",
              "  }\n",
              "\n",
              "  @keyframes spin {\n",
              "    0% {\n",
              "      border-color: transparent;\n",
              "      border-bottom-color: var(--fill-color);\n",
              "      border-left-color: var(--fill-color);\n",
              "    }\n",
              "    20% {\n",
              "      border-color: transparent;\n",
              "      border-left-color: var(--fill-color);\n",
              "      border-top-color: var(--fill-color);\n",
              "    }\n",
              "    30% {\n",
              "      border-color: transparent;\n",
              "      border-left-color: var(--fill-color);\n",
              "      border-top-color: var(--fill-color);\n",
              "      border-right-color: var(--fill-color);\n",
              "    }\n",
              "    40% {\n",
              "      border-color: transparent;\n",
              "      border-right-color: var(--fill-color);\n",
              "      border-top-color: var(--fill-color);\n",
              "    }\n",
              "    60% {\n",
              "      border-color: transparent;\n",
              "      border-right-color: var(--fill-color);\n",
              "    }\n",
              "    80% {\n",
              "      border-color: transparent;\n",
              "      border-right-color: var(--fill-color);\n",
              "      border-bottom-color: var(--fill-color);\n",
              "    }\n",
              "    90% {\n",
              "      border-color: transparent;\n",
              "      border-bottom-color: var(--fill-color);\n",
              "    }\n",
              "  }\n",
              "</style>\n",
              "\n",
              "  <script>\n",
              "    async function quickchart(key) {\n",
              "      const quickchartButtonEl =\n",
              "        document.querySelector('#' + key + ' button');\n",
              "      quickchartButtonEl.disabled = true;  // To prevent multiple clicks.\n",
              "      quickchartButtonEl.classList.add('colab-df-spinner');\n",
              "      try {\n",
              "        const charts = await google.colab.kernel.invokeFunction(\n",
              "            'suggestCharts', [key], {});\n",
              "      } catch (error) {\n",
              "        console.error('Error during call to suggestCharts:', error);\n",
              "      }\n",
              "      quickchartButtonEl.classList.remove('colab-df-spinner');\n",
              "      quickchartButtonEl.classList.add('colab-df-quickchart-complete');\n",
              "    }\n",
              "    (() => {\n",
              "      let quickchartButtonEl =\n",
              "        document.querySelector('#df-7a650c03-51d1-4152-bf6b-b4c24fecf6ed button');\n",
              "      quickchartButtonEl.style.display =\n",
              "        google.colab.kernel.accessAllowed ? 'block' : 'none';\n",
              "    })();\n",
              "  </script>\n",
              "</div>\n",
              "\n",
              "  <div id=\"id_009f7402-60be-4b65-984e-767577a63577\">\n",
              "    <style>\n",
              "      .colab-df-generate {\n",
              "        background-color: #E8F0FE;\n",
              "        border: none;\n",
              "        border-radius: 50%;\n",
              "        cursor: pointer;\n",
              "        display: none;\n",
              "        fill: #1967D2;\n",
              "        height: 32px;\n",
              "        padding: 0 0 0 0;\n",
              "        width: 32px;\n",
              "      }\n",
              "\n",
              "      .colab-df-generate:hover {\n",
              "        background-color: #E2EBFA;\n",
              "        box-shadow: 0px 1px 2px rgba(60, 64, 67, 0.3), 0px 1px 3px 1px rgba(60, 64, 67, 0.15);\n",
              "        fill: #174EA6;\n",
              "      }\n",
              "\n",
              "      [theme=dark] .colab-df-generate {\n",
              "        background-color: #3B4455;\n",
              "        fill: #D2E3FC;\n",
              "      }\n",
              "\n",
              "      [theme=dark] .colab-df-generate:hover {\n",
              "        background-color: #434B5C;\n",
              "        box-shadow: 0px 1px 3px 1px rgba(0, 0, 0, 0.15);\n",
              "        filter: drop-shadow(0px 1px 2px rgba(0, 0, 0, 0.3));\n",
              "        fill: #FFFFFF;\n",
              "      }\n",
              "    </style>\n",
              "    <button class=\"colab-df-generate\" onclick=\"generateWithVariable('df')\"\n",
              "            title=\"Generate code using this dataframe.\"\n",
              "            style=\"display:none;\">\n",
              "\n",
              "  <svg xmlns=\"http://www.w3.org/2000/svg\" height=\"24px\"viewBox=\"0 0 24 24\"\n",
              "       width=\"24px\">\n",
              "    <path d=\"M7,19H8.4L18.45,9,17,7.55,7,17.6ZM5,21V16.75L18.45,3.32a2,2,0,0,1,2.83,0l1.4,1.43a1.91,1.91,0,0,1,.58,1.4,1.91,1.91,0,0,1-.58,1.4L9.25,21ZM18.45,9,17,7.55Zm-12,3A5.31,5.31,0,0,0,4.9,8.1,5.31,5.31,0,0,0,1,6.5,5.31,5.31,0,0,0,4.9,4.9,5.31,5.31,0,0,0,6.5,1,5.31,5.31,0,0,0,8.1,4.9,5.31,5.31,0,0,0,12,6.5,5.46,5.46,0,0,0,6.5,12Z\"/>\n",
              "  </svg>\n",
              "    </button>\n",
              "    <script>\n",
              "      (() => {\n",
              "      const buttonEl =\n",
              "        document.querySelector('#id_009f7402-60be-4b65-984e-767577a63577 button.colab-df-generate');\n",
              "      buttonEl.style.display =\n",
              "        google.colab.kernel.accessAllowed ? 'block' : 'none';\n",
              "\n",
              "      buttonEl.onclick = () => {\n",
              "        google.colab.notebook.generateWithVariable('df');\n",
              "      }\n",
              "      })();\n",
              "    </script>\n",
              "  </div>\n",
              "\n",
              "    </div>\n",
              "  </div>\n"
            ],
            "application/vnd.google.colaboratory.intrinsic+json": {
              "type": "dataframe",
              "variable_name": "df",
              "summary": "{\n  \"name\": \"df\",\n  \"rows\": 4077,\n  \"fields\": [\n    {\n      \"column\": \"Molecule ChEMBL ID\",\n      \"properties\": {\n        \"dtype\": \"string\",\n        \"num_unique_values\": 4077,\n        \"samples\": [\n          \"CHEMBL1766142\",\n          \"CHEMBL128551\",\n          \"CHEMBL3628059\"\n        ],\n        \"semantic_type\": \"\",\n        \"description\": \"\"\n      }\n    },\n    {\n      \"column\": \"Smiles\",\n      \"properties\": {\n        \"dtype\": \"string\",\n        \"num_unique_values\": 4077,\n        \"samples\": [\n          \"Clc1ccc(CN2CCN(c3nccc(NCc4ccccc4)n3)CC2)cc1\",\n          \"CCCCNC(=O)Oc1cccc(CN(C)CCCOc2ccc3ccc(=O)oc3c2)c1\",\n          \"Cc1cccc(C[n+]2ccc(C(=O)NCCc3c[nH]c4ccccc34)cc2)c1.[Br-]\"\n        ],\n        \"semantic_type\": \"\",\n        \"description\": \"\"\n      }\n    },\n    {\n      \"column\": \"IC50\",\n      \"properties\": {\n        \"dtype\": \"number\",\n        \"std\": 1058622.7305489292,\n        \"min\": 0.006,\n        \"max\": 49600000.0,\n        \"num_unique_values\": 2071,\n        \"samples\": [\n          2370.0,\n          26.2,\n          7100.0\n        ],\n        \"semantic_type\": \"\",\n        \"description\": \"\"\n      }\n    },\n    {\n      \"column\": \"classLabel\",\n      \"properties\": {\n        \"dtype\": \"number\",\n        \"std\": 0,\n        \"min\": 0,\n        \"max\": 1,\n        \"num_unique_values\": 2,\n        \"samples\": [\n          0,\n          1\n        ],\n        \"semantic_type\": \"\",\n        \"description\": \"\"\n      }\n    },\n    {\n      \"column\": \"IsValidSMILES\",\n      \"properties\": {\n        \"dtype\": \"boolean\",\n        \"num_unique_values\": 1,\n        \"samples\": [\n          true\n        ],\n        \"semantic_type\": \"\",\n        \"description\": \"\"\n      }\n    },\n    {\n      \"column\": \"Morgan_FP\",\n      \"properties\": {\n        \"dtype\": \"string\",\n        \"num_unique_values\": 4077,\n        \"samples\": [\n          \"<rdkit.DataStructs.cDataStructs.ExplicitBitVect object at 0x7bd04e1c63b0>\"\n        ],\n        \"semantic_type\": \"\",\n        \"description\": \"\"\n      }\n    },\n    {\n      \"column\": \"Molecule\",\n      \"properties\": {\n        \"dtype\": \"string\",\n        \"num_unique_values\": 4077,\n        \"samples\": [\n          \"<rdkit.Chem.rdchem.Mol object at 0x7bcfd9354f20>\"\n        ],\n        \"semantic_type\": \"\",\n        \"description\": \"\"\n      }\n    },\n    {\n      \"column\": \"Fingerprint\",\n      \"properties\": {\n        \"dtype\": \"string\",\n        \"num_unique_values\": 4077,\n        \"samples\": [\n          \"<rdkit.DataStructs.cDataStructs.ExplicitBitVect object at 0x7bcfd858b290>\"\n        ],\n        \"semantic_type\": \"\",\n        \"description\": \"\"\n      }\n    },\n    {\n      \"column\": \"PCA1\",\n      \"properties\": {\n        \"dtype\": \"number\",\n        \"std\": 1.5174872556004428,\n        \"min\": -2.023172360952489,\n        \"max\": 4.617981706040551,\n        \"num_unique_values\": 3698,\n        \"samples\": [\n          -0.5375471136709915\n        ],\n        \"semantic_type\": \"\",\n        \"description\": \"\"\n      }\n    },\n    {\n      \"column\": \"PCA2\",\n      \"properties\": {\n        \"dtype\": \"number\",\n        \"std\": 1.1681499009102088,\n        \"min\": -3.181621928618585,\n        \"max\": 3.626419852049427,\n        \"num_unique_values\": 3701,\n        \"samples\": [\n          0.1508293517690993\n        ],\n        \"semantic_type\": \"\",\n        \"description\": \"\"\n      }\n    },\n    {\n      \"column\": \"tSNE1\",\n      \"properties\": {\n        \"dtype\": \"number\",\n        \"std\": 37.37237272918856,\n        \"min\": -94.5685043334961,\n        \"max\": 85.55352783203125,\n        \"num_unique_values\": 3943,\n        \"samples\": [\n          0.3017047941684723\n        ],\n        \"semantic_type\": \"\",\n        \"description\": \"\"\n      }\n    },\n    {\n      \"column\": \"tSNE2\",\n      \"properties\": {\n        \"dtype\": \"number\",\n        \"std\": 36.08111280154018,\n        \"min\": -83.08944702148438,\n        \"max\": 92.23171997070312,\n        \"num_unique_values\": 3946,\n        \"samples\": [\n          6.217453956604004\n        ],\n        \"semantic_type\": \"\",\n        \"description\": \"\"\n      }\n    },\n    {\n      \"column\": \"MolecularWeight\",\n      \"properties\": {\n        \"dtype\": \"number\",\n        \"std\": 119.8395454967156,\n        \"min\": 61.04000000000001,\n        \"max\": 790.6820000000002,\n        \"num_unique_values\": 3266,\n        \"samples\": [\n          392.5430000000001\n        ],\n        \"semantic_type\": \"\",\n        \"description\": \"\"\n      }\n    },\n    {\n      \"column\": \"Frequency\",\n      \"properties\": {\n        \"dtype\": \"number\",\n        \"std\": 2,\n        \"min\": 1,\n        \"max\": 102,\n        \"num_unique_values\": 15,\n        \"samples\": [\n          9\n        ],\n        \"semantic_type\": \"\",\n        \"description\": \"\"\n      }\n    },\n    {\n      \"column\": \"cleanedMol\",\n      \"properties\": {\n        \"dtype\": \"string\",\n        \"num_unique_values\": 4015,\n        \"samples\": [\n          \"COc1cc2c(cc1OC)C(=O)/C(=C/c1ccc(CN3CCCCC3)c(O)c1)O2\"\n        ],\n        \"semantic_type\": \"\",\n        \"description\": \"\"\n      }\n    }\n  ]\n}"
            }
          },
          "metadata": {},
          "execution_count": 9
        }
      ],
      "source": [
        "df"
      ]
    },
    {
      "cell_type": "code",
      "execution_count": 10,
      "metadata": {
        "colab": {
          "base_uri": "https://localhost:8080/"
        },
        "id": "4ZdkAQ8vmE6-",
        "outputId": "63779ffb-651c-497d-d95d-9a76c5fc27c6"
      },
      "outputs": [
        {
          "output_type": "stream",
          "name": "stdout",
          "text": [
            "classLabel\n",
            "0    2330\n",
            "1    1747\n",
            "Name: count, dtype: int64\n"
          ]
        }
      ],
      "source": [
        "# Count the frequency of each label\n",
        "label_counts = df['classLabel'].value_counts()\n",
        "# Print the frequency of labels\n",
        "print(label_counts)"
      ]
    },
    {
      "cell_type": "markdown",
      "source": [
        "## Graph Conv Featurization"
      ],
      "metadata": {
        "id": "JRJ4T4y-U-PQ"
      }
    },
    {
      "cell_type": "code",
      "execution_count": 35,
      "metadata": {
        "id": "axNIalf2Y55k"
      },
      "outputs": [],
      "source": [
        "import deepchem as dc\n",
        "import pandas as pd\n",
        "from rdkit import Chem\n",
        "from deepchem.feat import ConvMolFeaturizer\n",
        "\n",
        "# Define the ConvMolFeaturizer\n",
        "featurizer = ConvMolFeaturizer()\n",
        "\n",
        "# Featurize the SMILES column\n",
        "features = featurizer.featurize(df['cleanedMol'].tolist())\n",
        "\n",
        "# Extract the target values from the DataFrame\n",
        "targets = df['classLabel'].tolist()\n",
        "\n",
        "# Create a DeepChem dataset from the features and targets\n",
        "dataset = dc.data.NumpyDataset(features, targets)\n",
        "\n",
        "# Split the dataset into training, validation, and test sets\n",
        "splitter = dc.splits.RandomSplitter()\n",
        "import deepchem as dc\n",
        "splitter = dc.splits.RandomSplitter()\n",
        "train_frac = 0.7  # 70% of the data for training\n",
        "valid_frac = 0.15  # 15% of the data for validation\n",
        "test_frac = 0.15  # 15% of the data for testing\n",
        "\n",
        "# Use the splitter to split the dataset\n",
        "train_dataset, valid_dataset, test_dataset = splitter.train_valid_test_split(\n",
        "    dataset, frac_train=train_frac, frac_valid=valid_frac, frac_test=test_frac\n",
        ")"
      ]
    },
    {
      "cell_type": "markdown",
      "source": [
        "## Graph Convolutional Network Modeling with Hyperparameter Optimization"
      ],
      "metadata": {
        "id": "VtIZeFTSVGf4"
      }
    },
    {
      "cell_type": "code",
      "execution_count": 12,
      "metadata": {
        "colab": {
          "base_uri": "https://localhost:8080/"
        },
        "id": "kFu6E9mGmjfe",
        "outputId": "a7a961c4-a100-44ee-e2a1-222b0da24bae"
      },
      "outputs": [
        {
          "output_type": "stream",
          "name": "stderr",
          "text": [
            "WARNING:tensorflow:5 out of the last 16 calls to <function KerasModel._compute_model at 0x7cbe0be93a30> triggered tf.function retracing. Tracing is expensive and the excessive number of tracings could be due to (1) creating @tf.function repeatedly in a loop, (2) passing tensors with different shapes, (3) passing Python objects instead of tensors. For (1), please define your @tf.function outside of the loop. For (2), @tf.function has reduce_retracing=True option that can avoid unnecessary retracing. For (3), please refer to https://www.tensorflow.org/guide/function#controlling_retracing and https://www.tensorflow.org/api_docs/python/tf/function for  more details.\n",
            "WARNING:tensorflow:5 out of the last 11 calls to <function KerasModel._compute_model at 0x7cbe0aad0a60> triggered tf.function retracing. Tracing is expensive and the excessive number of tracings could be due to (1) creating @tf.function repeatedly in a loop, (2) passing tensors with different shapes, (3) passing Python objects instead of tensors. For (1), please define your @tf.function outside of the loop. For (2), @tf.function has reduce_retracing=True option that can avoid unnecessary retracing. For (3), please refer to https://www.tensorflow.org/guide/function#controlling_retracing and https://www.tensorflow.org/api_docs/python/tf/function for  more details.\n"
          ]
        },
        {
          "output_type": "stream",
          "name": "stdout",
          "text": [
            "Best Hyperparameters: {'batch_size': 256, 'dropout': 0.01, 'nb_epoch': 120}\n"
          ]
        }
      ],
      "source": [
        "import deepchem as dc\n",
        "import joblib\n",
        "from deepchem.models import GraphConvModel\n",
        "\n",
        "# Define a function to create and train the GraphConvModel\n",
        "def create_and_train_graph_conv_model(train_dataset, n_tasks, batch_size, dropout, nb_epoch):\n",
        "    model = GraphConvModel(n_tasks, batch_size=batch_size, dropout=dropout, mode='classification')\n",
        "    model.fit(train_dataset, nb_epoch=nb_epoch)\n",
        "    return model\n",
        "\n",
        "# Define your hyperparameter search space\n",
        "params = {\n",
        "    'batch_size': [64, 128, 256],\n",
        "    'dropout': [0.01, 0.1, 0.2],\n",
        "    'nb_epoch': [10, 30, 60, 120]\n",
        "}\n",
        "\n",
        "# Define the evaluation metric you want to use (e.g., ROC-AUC, accuracy, etc.)\n",
        "metric = dc.metrics.Metric(dc.metrics.roc_auc_score)\n",
        "\n",
        "# Define your model_builder function\n",
        "def model_builder(**model_params):\n",
        "    batch_size = model_params['batch_size']\n",
        "    dropout = model_params['dropout']\n",
        "    nb_epoch = model_params['nb_epoch']\n",
        "\n",
        "    return create_and_train_graph_conv_model(train_dataset, n_tasks=1, batch_size=batch_size, dropout=dropout, nb_epoch=nb_epoch)\n",
        "\n",
        "# Create an optimizer and perform hyperparameter search\n",
        "optimizer = dc.hyper.GridHyperparamOpt(model_builder)\n",
        "best_model, best_hyperparams, all_results = optimizer.hyperparam_search(params, train_dataset, test_dataset, metric)\n",
        "\n",
        "# Print the best hyperparameters\n",
        "print(\"Best Hyperparameters:\", best_hyperparams)\n"
      ]
    },
    {
      "cell_type": "code",
      "source": [
        "best_hyperparams"
      ],
      "metadata": {
        "colab": {
          "base_uri": "https://localhost:8080/"
        },
        "id": "vDFVTLtC9dnf",
        "outputId": "b5bdc5ab-1565-452a-b296-10a0a5dbfa5d"
      },
      "execution_count": 13,
      "outputs": [
        {
          "output_type": "execute_result",
          "data": {
            "text/plain": [
              "{'batch_size': 256, 'dropout': 0.01, 'nb_epoch': 120}"
            ]
          },
          "metadata": {},
          "execution_count": 13
        }
      ]
    },
    {
      "cell_type": "code",
      "source": [
        "all_results"
      ],
      "metadata": {
        "colab": {
          "base_uri": "https://localhost:8080/"
        },
        "id": "JasWmBau9gyZ",
        "outputId": "0505c30e-723a-4f92-90ed-802ba4f9d599"
      },
      "execution_count": 14,
      "outputs": [
        {
          "output_type": "execute_result",
          "data": {
            "text/plain": [
              "{'_batch_size_64_dropout_0.010000_nb_epoch_10': 0.8738095238095238,\n",
              " '_batch_size_64_dropout_0.010000_nb_epoch_30': 0.8888227513227513,\n",
              " '_batch_size_64_dropout_0.010000_nb_epoch_60': 0.8908509700176368,\n",
              " '_batch_size_64_dropout_0.010000_nb_epoch_120': 0.9051614858906525,\n",
              " '_batch_size_64_dropout_0.100000_nb_epoch_10': 0.8784832451499117,\n",
              " '_batch_size_64_dropout_0.100000_nb_epoch_30': 0.8861772486772488,\n",
              " '_batch_size_64_dropout_0.100000_nb_epoch_60': 0.8960317460317461,\n",
              " '_batch_size_64_dropout_0.100000_nb_epoch_120': 0.9013007054673721,\n",
              " '_batch_size_64_dropout_0.200000_nb_epoch_10': 0.8659942680776014,\n",
              " '_batch_size_64_dropout_0.200000_nb_epoch_30': 0.8869047619047619,\n",
              " '_batch_size_64_dropout_0.200000_nb_epoch_60': 0.8885361552028219,\n",
              " '_batch_size_64_dropout_0.200000_nb_epoch_120': 0.8894069664902997,\n",
              " '_batch_size_128_dropout_0.010000_nb_epoch_10': 0.8796626984126984,\n",
              " '_batch_size_128_dropout_0.010000_nb_epoch_30': 0.9030202821869489,\n",
              " '_batch_size_128_dropout_0.010000_nb_epoch_60': 0.9020833333333333,\n",
              " '_batch_size_128_dropout_0.010000_nb_epoch_120': 0.8957231040564373,\n",
              " '_batch_size_128_dropout_0.100000_nb_epoch_10': 0.8724096119929454,\n",
              " '_batch_size_128_dropout_0.100000_nb_epoch_30': 0.8986552028218695,\n",
              " '_batch_size_128_dropout_0.100000_nb_epoch_60': 0.8836529982363316,\n",
              " '_batch_size_128_dropout_0.100000_nb_epoch_120': 0.8944995590828924,\n",
              " '_batch_size_128_dropout_0.200000_nb_epoch_10': 0.8416666666666666,\n",
              " '_batch_size_128_dropout_0.200000_nb_epoch_30': 0.8823412698412698,\n",
              " '_batch_size_128_dropout_0.200000_nb_epoch_60': 0.897310405643739,\n",
              " '_batch_size_128_dropout_0.200000_nb_epoch_120': 0.9007495590828924,\n",
              " '_batch_size_256_dropout_0.010000_nb_epoch_10': 0.7972332451499118,\n",
              " '_batch_size_256_dropout_0.010000_nb_epoch_30': 0.9007605820105821,\n",
              " '_batch_size_256_dropout_0.010000_nb_epoch_60': 0.8961640211640212,\n",
              " '_batch_size_256_dropout_0.010000_nb_epoch_120': 0.9102072310405644,\n",
              " '_batch_size_256_dropout_0.100000_nb_epoch_10': 0.8103725749559083,\n",
              " '_batch_size_256_dropout_0.100000_nb_epoch_30': 0.8858024691358024,\n",
              " '_batch_size_256_dropout_0.100000_nb_epoch_60': 0.8962301587301589,\n",
              " '_batch_size_256_dropout_0.100000_nb_epoch_120': 0.8960648148148148,\n",
              " '_batch_size_256_dropout_0.200000_nb_epoch_10': 0.7910163139329804,\n",
              " '_batch_size_256_dropout_0.200000_nb_epoch_30': 0.8485780423280422,\n",
              " '_batch_size_256_dropout_0.200000_nb_epoch_60': 0.8927910052910053,\n",
              " '_batch_size_256_dropout_0.200000_nb_epoch_120': 0.8919284611992946}"
            ]
          },
          "metadata": {},
          "execution_count": 14
        }
      ]
    },
    {
      "cell_type": "markdown",
      "source": [
        "## Modeling with best Parameters"
      ],
      "metadata": {
        "id": "2fdauk4QVpre"
      }
    },
    {
      "cell_type": "code",
      "source": [
        "import tensorflow as tf\n",
        "\n",
        "tf.keras.backend.clear_session()\n",
        "\n",
        "import torch\n",
        "\n",
        "torch.cuda.empty_cache()"
      ],
      "metadata": {
        "id": "vtUYpLxebKpy"
      },
      "execution_count": 33,
      "outputs": []
    },
    {
      "cell_type": "code",
      "execution_count": 36,
      "metadata": {
        "colab": {
          "base_uri": "https://localhost:8080/"
        },
        "id": "00wP9fFdwydW",
        "outputId": "1ef81b94-db97-4b42-ea99-e7cfad88748c"
      },
      "outputs": [
        {
          "output_type": "execute_result",
          "data": {
            "text/plain": [
              "0.042190513014793395"
            ]
          },
          "metadata": {},
          "execution_count": 36
        }
      ],
      "source": [
        "from deepchem.models import GraphConvModel\n",
        "import joblib\n",
        "n_tasks = 1\n",
        "modela = GraphConvModel(n_tasks, batch_size=256, dropout=0.01, mode='classification', model_dir=\"/content/drive/MyDrive/Predictive Generative transfer learning/TransferAll/Graph Convolutional\")\n",
        "modela.fit(train_dataset, nb_epoch=120)"
      ]
    },
    {
      "cell_type": "markdown",
      "metadata": {
        "id": "t1HitJk24Yvt"
      },
      "source": [
        "## Cross species evaluation"
      ]
    },
    {
      "cell_type": "markdown",
      "metadata": {
        "id": "8eK0FybP72kB"
      },
      "source": [
        "### Upload and prep for species datasets\n",
        "Species datasets: eel (CHEMBL4078), cow (CHEMBL4768), mouse (CHEMBL3199), ray (CHEMBL4780), mosquito (CHEMBL2046266), mouse (CHEMBL3198), and independent  human dataset containing molecules not present on  ChEMBL22  were obtained from Vignaux et al(2023) for validation and specificity inferences."
      ]
    },
    {
      "cell_type": "code",
      "execution_count": 37,
      "metadata": {
        "id": "iVw6osf7FMk_"
      },
      "outputs": [],
      "source": [
        "df_humanIndependent=pd.read_excel('/content/drive/MyDrive/Predictive-Generative-transfer learning/TransferAll/CleanedTestDatasetSmiles/df_humanIndependent.xlsx')\n",
        "df_eel=pd.read_excel('/content/drive/MyDrive/Predictive-Generative-transfer learning/TransferAll/CleanedTestDatasetSmiles/df_eel.xlsx')\n",
        "df_mouse=pd.read_excel('/content/drive/MyDrive/Predictive-Generative-transfer learning/TransferAll/CleanedTestDatasetSmiles/df_mouse.xlsx')\n",
        "df_cow=pd.read_excel('/content/drive/MyDrive/Predictive-Generative-transfer learning/TransferAll/CleanedTestDatasetSmiles/df_cow.xlsx')\n",
        "df_ray=pd.read_excel('/content/drive/MyDrive/Predictive-Generative-transfer learning/TransferAll/CleanedTestDatasetSmiles/df_ray.xlsx')\n",
        "df_mosquito=pd.read_excel('/content/drive/MyDrive/Predictive-Generative-transfer learning/TransferAll/CleanedTestDatasetSmiles/df_mosquito.xlsx')"
      ]
    },
    {
      "cell_type": "markdown",
      "source": [
        "### Featurization of smiles on species datasets - Grah Conv"
      ],
      "metadata": {
        "id": "HgxvjuoMXyCf"
      }
    },
    {
      "cell_type": "markdown",
      "source": [
        "### human"
      ],
      "metadata": {
        "id": "rQKobbJ7WWRA"
      }
    },
    {
      "cell_type": "code",
      "execution_count": 41,
      "metadata": {
        "id": "rzMuGw8uGWGj"
      },
      "outputs": [],
      "source": [
        "df_humanIndependent.to_csv('inhibitor_HumanIndependent.csv', index=False)\n",
        "df_eel.to_csv('inhibitor_eel.csv', index=False)\n",
        "df_mouse.to_csv('inhibitor_mouse.csv', index=False)\n",
        "df_cow.to_csv('inhibitor_cow.csv', index=False)\n",
        "df_ray.to_csv('inhibitor_ray.csv', index=False)\n",
        "df_mosquito.to_csv('inhibitor_mosquito.csv', index=False)"
      ]
    },
    {
      "cell_type": "code",
      "execution_count": 42,
      "metadata": {
        "id": "UxghAVgTGWGl"
      },
      "outputs": [],
      "source": [
        "\n",
        "# Define the ConvMolFeaturizer\n",
        "featurizer = ConvMolFeaturizer()\n",
        "\n",
        "# Featurize the SMILES column\n",
        "features = featurizer.featurize(df_humanIndependent['cleanedMol'].tolist())\n",
        "# Extract the target values from the DataFrame\n",
        "targets = df_humanIndependent['binary_activities'].tolist()\n",
        "\n",
        "# Create a DeepChem dataset from the features and targets\n",
        "dataset_humanIndependent= dc.data.NumpyDataset(features, targets)"
      ]
    },
    {
      "cell_type": "markdown",
      "metadata": {
        "id": "Yt0Fjaa5Jiy_"
      },
      "source": [
        "### eel"
      ]
    },
    {
      "cell_type": "code",
      "execution_count": 43,
      "metadata": {
        "id": "FpxXsBEMHNVo"
      },
      "outputs": [],
      "source": [
        "# Define the ConvMolFeaturizer\n",
        "featurizer = ConvMolFeaturizer()\n",
        "\n",
        "# Featurize the SMILES column\n",
        "features = featurizer.featurize(df_eel['cleanedMol'].tolist())\n",
        "\n",
        "# Extract the target values from the DataFrame\n",
        "targets = df_eel['single-class-label'].tolist()\n",
        "\n",
        "# Create a DeepChem dataset from the features and targets\n",
        "dataset_eel= dc.data.NumpyDataset(features, targets)"
      ]
    },
    {
      "cell_type": "markdown",
      "source": [
        "### cow"
      ],
      "metadata": {
        "id": "4s5-p9fRWdkF"
      }
    },
    {
      "cell_type": "code",
      "execution_count": 44,
      "metadata": {
        "id": "F8ZjO5vmHOCv"
      },
      "outputs": [],
      "source": [
        "\n",
        "# Define the ConvMolFeaturizer\n",
        "featurizer = ConvMolFeaturizer()\n",
        "\n",
        "# Featurize the SMILES column\n",
        "features = featurizer.featurize(df_cow['cleanedMol'].tolist())\n",
        "\n",
        "# Extract the target values from the DataFrame\n",
        "targets = df_cow['single-class-label'].tolist()\n",
        "\n",
        "# Create a DeepChem dataset from the features and targets\n",
        "dataset_cow= dc.data.NumpyDataset(features, targets)\n",
        "\n",
        "\n",
        "\n",
        "\n",
        "\n"
      ]
    },
    {
      "cell_type": "markdown",
      "source": [
        "### mosquito"
      ],
      "metadata": {
        "id": "rBPqIJvVWf1L"
      }
    },
    {
      "cell_type": "code",
      "execution_count": 45,
      "metadata": {
        "id": "0vhx8rYZHOf_"
      },
      "outputs": [],
      "source": [
        "# Define the ConvMolFeaturizer\n",
        "featurizer = ConvMolFeaturizer()\n",
        "\n",
        "# Featurize the SMILES column\n",
        "features = featurizer.featurize(df_mosquito['cleanedMol'].tolist())\n",
        "\n",
        "# Extract the target values from the DataFrame\n",
        "targets = df_mosquito['single-class-label'].tolist()\n",
        "\n",
        "# Create a DeepChem dataset from the features and targets\n",
        "dataset_mosquito= dc.data.NumpyDataset(features, targets)"
      ]
    },
    {
      "cell_type": "markdown",
      "source": [
        "### ray"
      ],
      "metadata": {
        "id": "lzNA2Q2kWiWB"
      }
    },
    {
      "cell_type": "code",
      "execution_count": 46,
      "metadata": {
        "id": "WBmb9CfOHPKo"
      },
      "outputs": [],
      "source": [
        "# Define the ConvMolFeaturizer\n",
        "featurizer = ConvMolFeaturizer()\n",
        "\n",
        "# Featurize the SMILES column\n",
        "features = featurizer.featurize(df_ray['cleanedMol'].tolist())\n",
        "\n",
        "# Extract the target values from the DataFrame\n",
        "targets = df_ray['single-class-label'].tolist()\n",
        "\n",
        "# Create a DeepChem dataset from the features and targets\n",
        "dataset_ray= dc.data.NumpyDataset(features, targets)"
      ]
    },
    {
      "cell_type": "markdown",
      "source": [
        "###mouse"
      ],
      "metadata": {
        "id": "wvE1UlQIWj53"
      }
    },
    {
      "cell_type": "code",
      "execution_count": 47,
      "metadata": {
        "id": "XBMCKBQNHtzg"
      },
      "outputs": [],
      "source": [
        "# Define the ConvMolFeaturizer\n",
        "featurizer = ConvMolFeaturizer()\n",
        "\n",
        "# Featurize the SMILES column\n",
        "features = featurizer.featurize(df_mouse['cleanedMol'].tolist())\n",
        "\n",
        "# Extract the target values from the DataFrame\n",
        "targets = df_mouse['single-class-label'].tolist()\n",
        "\n",
        "# Create a DeepChem dataset from the features and targets\n",
        "dataset_mouse= dc.data.NumpyDataset(features, targets)"
      ]
    },
    {
      "cell_type": "markdown",
      "source": [
        "# Cross species evaluation -- graph conv"
      ],
      "metadata": {
        "id": "FzAvtEwGWpUp"
      }
    },
    {
      "cell_type": "code",
      "execution_count": 48,
      "metadata": {
        "colab": {
          "base_uri": "https://localhost:8080/",
          "height": 1000
        },
        "id": "qjJVM1ahFMle",
        "outputId": "bef6e85b-eab7-429a-a80b-cb91ed31442a"
      },
      "outputs": [
        {
          "output_type": "stream",
          "name": "stdout",
          "text": [
            "Confusion Matrix for Human Test dataset:\n",
            "[[338  20]\n",
            " [ 30 224]]\n",
            "Confusion Matrix for Human Independent dataset:\n",
            "[[114  24]\n",
            " [ 29  41]]\n",
            "Confusion Matrix for Eel dataset:\n",
            "[[2792  583]\n",
            " [ 982 1102]]\n",
            "Confusion Matrix for Mouse dataset:\n",
            "[[193  30]\n",
            " [ 39 106]]\n",
            "Confusion Matrix for Cow dataset:\n",
            "[[164  54]\n",
            " [ 42 197]]\n",
            "Confusion Matrix for Ray dataset:\n",
            "[[516 203]\n",
            " [303 384]]\n",
            "Confusion Matrix for Mosquito dataset:\n",
            "[[39  6]\n",
            " [12 15]]\n"
          ]
        },
        {
          "output_type": "display_data",
          "data": {
            "text/plain": [
              "<Figure size 1000x600 with 1 Axes>"
            ],
            "image/png": "[encoded data removed]"
          },
          "metadata": {}
        },
        {
          "output_type": "stream",
          "name": "stdout",
          "text": [
            "Evaluation for Human Test dataset:\n",
            "Accuracy: 0.9183\n",
            "Precision: 0.9180\n",
            "Recall: 0.8819\n",
            "F1 Score: 0.8996\n",
            "MCC: 0.8313\n",
            "Cohen's Kappa: 0.8308\n",
            "\n",
            "\n",
            "Evaluation for Human Independent dataset:\n",
            "Accuracy: 0.7452\n",
            "Precision: 0.6308\n",
            "Recall: 0.5857\n",
            "F1 Score: 0.6074\n",
            "MCC: 0.4198\n",
            "Cohen's Kappa: 0.4192\n",
            "\n",
            "\n",
            "Evaluation for Eel dataset:\n",
            "Accuracy: 0.7133\n",
            "Precision: 0.6540\n",
            "Recall: 0.5288\n",
            "F1 Score: 0.5848\n",
            "MCC: 0.3745\n",
            "Cohen's Kappa: 0.3696\n",
            "\n",
            "\n",
            "Evaluation for Mouse dataset:\n",
            "Accuracy: 0.8125\n",
            "Precision: 0.7794\n",
            "Recall: 0.7310\n",
            "F1 Score: 0.7544\n",
            "MCC: 0.6039\n",
            "Cohen's Kappa: 0.6031\n",
            "\n",
            "\n",
            "Evaluation for Cow dataset:\n",
            "Accuracy: 0.7899\n",
            "Precision: 0.7849\n",
            "Recall: 0.8243\n",
            "F1 Score: 0.8041\n",
            "MCC: 0.5788\n",
            "Cohen's Kappa: 0.5780\n",
            "\n",
            "\n",
            "Evaluation for Ray dataset:\n",
            "Accuracy: 0.6401\n",
            "Precision: 0.6542\n",
            "Recall: 0.5590\n",
            "F1 Score: 0.6028\n",
            "MCC: 0.2804\n",
            "Cohen's Kappa: 0.2775\n",
            "\n",
            "\n",
            "Evaluation for Mosquito dataset:\n",
            "Accuracy: 0.7500\n",
            "Precision: 0.7143\n",
            "Recall: 0.5556\n",
            "F1 Score: 0.6250\n",
            "MCC: 0.4497\n",
            "Cohen's Kappa: 0.4419\n",
            "\n",
            "\n"
          ]
        }
      ],
      "source": [
        "import deepchem as dc\n",
        "import tensorflow as tf\n",
        "import numpy as np\n",
        "import pandas as pd\n",
        "import matplotlib.pyplot as plt\n",
        "from sklearn.metrics import roc_curve, auc, confusion_matrix, accuracy_score, precision_score, recall_score, f1_score, matthews_corrcoef, cohen_kappa_score\n",
        "\n",
        "datasets = {\n",
        "    'Human Test': test_dataset,\n",
        "    'Human Independent': dataset_humanIndependent,\n",
        "    'Eel': dataset_eel,\n",
        "    'Mouse': dataset_mouse,\n",
        "    'Cow': dataset_cow,\n",
        "    'Ray': dataset_ray,\n",
        "    'Mosquito': dataset_mosquito\n",
        "}\n",
        "\n",
        "# Set up the plot\n",
        "plt.figure(figsize=(10, 6))\n",
        "\n",
        "# Initialize a dictionary to store evaluation metrics for each dataset\n",
        "evaluation_metrics = {}\n",
        "\n",
        "# Evaluate and plot ROC curve for each dataset\n",
        "for species, data in datasets.items():\n",
        "    X = data.X\n",
        "    y_true = data.y.ravel()\n",
        "    # Make predictions on the test dataset\n",
        "    y_pred = best_model.predict(data).reshape(-1, 2)\n",
        "    y_pred_positive = y_pred[:, 1]\n",
        "\n",
        "    # Calculate the ROC curve\n",
        "    fpr, tpr, _ = roc_curve(y_true, y_pred_positive)\n",
        "\n",
        "    # Calculate the AUC (Area Under the Curve)\n",
        "    roc_auc = auc(fpr, tpr)\n",
        "\n",
        "    # Calculate the confusion matrix\n",
        "    y_pred_binary = np.argmax(y_pred, axis=1)\n",
        "    conf_matrix = confusion_matrix(y_true, y_pred_binary)\n",
        "\n",
        "    # Calculate other evaluation metrics\n",
        "    accuracy = accuracy_score(y_true, y_pred_binary)\n",
        "    precision = precision_score(y_true, y_pred_binary)\n",
        "    recall = recall_score(y_true, y_pred_binary)\n",
        "    f1 = f1_score(y_true, y_pred_binary)\n",
        "    mcc = matthews_corrcoef(y_true, y_pred_binary)\n",
        "    cohen_kappa = cohen_kappa_score(y_true, y_pred_binary)\n",
        "\n",
        "    # Store the evaluation metrics in the dictionary\n",
        "    evaluation_metrics[species] = {\n",
        "        'Accuracy': accuracy,\n",
        "        'Precision': precision,\n",
        "        'Recall': recall,\n",
        "        'F1 Score': f1,\n",
        "        'MCC': mcc,\n",
        "        \"Cohen's Kappa\": cohen_kappa\n",
        "    }\n",
        "\n",
        "    # Plot the ROC curve for each species\n",
        "    plt.plot(fpr, tpr, label=f'{species} (AUC = {roc_auc:.2f})')\n",
        "\n",
        "    # Display Confusion Matrix\n",
        "    print(f\"Confusion Matrix for {species} dataset:\")\n",
        "    print(conf_matrix)\n",
        "\n",
        "# Plot settings\n",
        "plt.plot([0, 1], [0, 1], linestyle='--', color='gray', label='Random')\n",
        "plt.title('ROC Curve for Different Species')\n",
        "plt.xlabel('False Positive Rate')\n",
        "plt.ylabel('True Positive Rate')\n",
        "plt.legend(loc='lower right')\n",
        "plt.show()\n",
        "\n",
        "# Display or analyze the stored evaluation metrics\n",
        "for species, metrics in evaluation_metrics.items():\n",
        "    print(f\"Evaluation for {species} dataset:\")\n",
        "    for metric_name, value in metrics.items():\n",
        "        print(f\"{metric_name}: {value:.4f}\")\n",
        "    print(\"\\n\")\n",
        "\n",
        "# Create a DataFrame from the evaluation_metrics dictionary\n",
        "df_metrics = pd.DataFrame(evaluation_metrics).transpose()\n",
        "\n",
        "# Save the DataFrames to Excel files\n",
        "df_metrics.to_excel('evaluation_metrics_graphConv.xlsx', index_label='Species')\n"
      ]
    },
    {
      "cell_type": "markdown",
      "source": [
        "###Cross Species evaluation"
      ],
      "metadata": {
        "id": "JkedohfyWLzU"
      }
    },
    {
      "cell_type": "code",
      "source": [
        "import pandas as pd\n",
        "import matplotlib.pyplot as plt\n",
        "from sklearn.metrics import roc_curve, auc, accuracy_score, precision_score, recall_score, f1_score, matthews_corrcoef, cohen_kappa_score, confusion_matrix\n",
        "from sklearn.model_selection import train_test_split\n",
        "from sklearn.preprocessing import StandardScaler\n",
        "\n",
        "datasets = {\n",
        "    'Human Test': test_dataset,\n",
        "    'Human Independent': dataset_humanIndependent\n",
        "}\n",
        "\n",
        "# Set up the plot\n",
        "plt.figure(figsize=(10, 6))\n",
        "\n",
        "# Initialize a dictionary to store evaluation metrics for each dataset\n",
        "evaluation_metrics = {}\n",
        "\n",
        "# Evaluate and plot ROC curve for each dataset\n",
        "for species, data in datasets.items():\n",
        "    X = data.X\n",
        "    y_true = data.y.ravel()\n",
        "\n",
        "    # Make predictions on the test dataset\n",
        "    y_pred = best_model.predict(data).reshape(-1, 2)\n",
        "    y_pred_positive = y_pred[:, 1]\n",
        "\n",
        "    # Calculate the ROC curve\n",
        "    fpr, tpr, _ = roc_curve(y_true, y_pred_positive)\n",
        "\n",
        "    # Calculate the AUC (Area Under the Curve)\n",
        "    roc_auc = auc(fpr, tpr)\n",
        "\n",
        "    # Calculate the confusion matrix\n",
        "    y_pred_binary = np.argmax(y_pred, axis=1)\n",
        "    conf_matrix = confusion_matrix(y_true, y_pred_binary)\n",
        "\n",
        "    # Calculate other evaluation metrics\n",
        "    accuracy = accuracy_score(y_true, y_pred_binary)\n",
        "    precision = precision_score(y_true, y_pred_binary)\n",
        "    recall = recall_score(y_true, y_pred_binary)\n",
        "    f1 = f1_score(y_true, y_pred_binary)\n",
        "    mcc = matthews_corrcoef(y_true, y_pred_binary)\n",
        "    cohen_kappa = cohen_kappa_score(y_true, y_pred_binary)\n",
        "\n",
        "    # Store the evaluation metrics in the dictionary\n",
        "    evaluation_metrics[species] = {\n",
        "        'Accuracy': accuracy,\n",
        "        'Precision': precision,\n",
        "        'Recall': recall,\n",
        "        'F1 Score': f1,\n",
        "        'MCC': mcc,\n",
        "        \"Cohen's Kappa\": cohen_kappa\n",
        "    }\n",
        "\n",
        "    # Plot the ROC curve for each species\n",
        "    plt.plot(fpr, tpr, label=f'{species} (AUC = {roc_auc:.2f})')\n",
        "\n",
        "    # Display Confusion Matrix\n",
        "    print(f\"Confusion Matrix for {species} dataset:\")\n",
        "    print(conf_matrix)\n",
        "\n",
        "# Plot settings\n",
        "plt.plot([0, 1], [0, 1], linestyle='--', color='gray', label='Random')\n",
        "plt.title('ROC Curve for Different Species')\n",
        "plt.xlabel('False Positive Rate')\n",
        "plt.ylabel('True Positive Rate')\n",
        "plt.legend(loc='lower right')\n",
        "plt.show()\n",
        "\n",
        "# Display or analyze the stored evaluation metrics\n",
        "for species, metrics in evaluation_metrics.items():\n",
        "    print(f\"Evaluation for {species} dataset:\")\n",
        "    for metric_name, value in metrics.items():\n",
        "        print(f\"{metric_name}: {value:.4f}\")\n",
        "    print(\"\\n\")\n",
        "\n",
        "# Create a DataFrame from the evaluation_metrics dictionary\n",
        "df_metrics = pd.DataFrame(evaluation_metrics).transpose()\n",
        "\n",
        "# Save the DataFrames to Excel files\n",
        "df_metrics.to_excel('evaluation_metrics_graphConv.xlsx', index_label='Species')\n",
        "\n",
        "# Create a DataFrame from the evaluation_metrics dictionary\n",
        "df_metrics = pd.DataFrame(evaluation_metrics).transpose()\n",
        "\n",
        "# Save the DataFrames to Excel files\n",
        "df_metrics.to_excel('evaluation_metrics_tpot.xlsx', index_label='Species')\n"
      ],
      "metadata": {
        "colab": {
          "base_uri": "https://localhost:8080/",
          "height": 993
        },
        "id": "lilyLw989zQS",
        "outputId": "3966bcde-cbe2-4a2c-89bd-3061f3437ba2"
      },
      "execution_count": 49,
      "outputs": [
        {
          "output_type": "stream",
          "name": "stdout",
          "text": [
            "Confusion Matrix for Human Test dataset:\n",
            "[[338  20]\n",
            " [ 30 224]]\n",
            "Confusion Matrix for Human Independent dataset:\n",
            "[[114  24]\n",
            " [ 29  41]]\n"
          ]
        },
        {
          "output_type": "display_data",
          "data": {
            "text/plain": [
              "<Figure size 1000x600 with 1 Axes>"
            ],
            "image/png": "[encoded data removed]"
          },
          "metadata": {}
        },
        {
          "output_type": "stream",
          "name": "stdout",
          "text": [
            "Evaluation for Human Test dataset:\n",
            "Accuracy: 0.9183\n",
            "Precision: 0.9180\n",
            "Recall: 0.8819\n",
            "F1 Score: 0.8996\n",
            "MCC: 0.8313\n",
            "Cohen's Kappa: 0.8308\n",
            "\n",
            "\n",
            "Evaluation for Human Independent dataset:\n",
            "Accuracy: 0.7452\n",
            "Precision: 0.6308\n",
            "Recall: 0.5857\n",
            "F1 Score: 0.6074\n",
            "MCC: 0.4198\n",
            "Cohen's Kappa: 0.4192\n",
            "\n",
            "\n"
          ]
        }
      ]
    },
    {
      "cell_type": "markdown",
      "metadata": {
        "id": "BIB_dW3mjcZy"
      },
      "source": [
        "#Weave Model\n",
        "Weave model represents an evolutionary step in molecular graph convolution, introducing atom pair-based feature extraction that extends to non-adjacent atoms, though it encounters challenges related to the quantification of association distances and spatial coordinates (Duvenaud et al., 2015; Ohue et al., 2019"
      ]
    },
    {
      "cell_type": "markdown",
      "source": [
        "\n",
        "## Weave Modeling(hyperparameter optimization was not possible due to nature of data)"
      ],
      "metadata": {
        "id": "2b6TEj1-XXuj"
      }
    },
    {
      "cell_type": "code",
      "execution_count": 50,
      "metadata": {
        "id": "scD_6-Wg2xaw"
      },
      "outputs": [],
      "source": [
        "import deepchem as dc\n",
        "import pandas as pd\n",
        "from rdkit import Chem\n",
        "from deepchem.feat import ConvMolFeaturizer\n",
        "\n",
        "# Define the ConvMolFeaturizer\n",
        "featurizer = dc.feat.WeaveFeaturizer()\n",
        "# Featurize the SMILES column\n",
        "features = featurizer.featurize(df['cleanedMol'].tolist())\n",
        "# Extract the target values from the DataFrame\n",
        "targets = df['classLabel'].tolist()\n",
        "# Create a DeepChem dataset from the features and targets\n",
        "dataset = dc.data.NumpyDataset(features, targets)\n",
        "# Split the dataset into training, validation, and test sets\n",
        "splitter = dc.splits.RandomSplitter()\n",
        "import deepchem as dc\n",
        "splitter = dc.splits.RandomSplitter()\n",
        "train_frac = 0.7\n",
        "valid_frac = 0.15\n",
        "test_frac = 0.15\n",
        "# Use the splitter to split the dataset\n",
        "train_dataset, valid_dataset, test_dataset = splitter.train_valid_test_split(\n",
        "    dataset, frac_train=train_frac, frac_valid=valid_frac, frac_test=test_frac\n",
        ")"
      ]
    },
    {
      "cell_type": "code",
      "execution_count": 51,
      "metadata": {
        "colab": {
          "base_uri": "https://localhost:8080/"
        },
        "id": "W2ydMEiALuiw",
        "outputId": "c8243c10-21f2-406a-97eb-5c41c5e31a41"
      },
      "outputs": [
        {
          "output_type": "stream",
          "name": "stderr",
          "text": [
            "/usr/local/lib/python3.10/dist-packages/keras/src/initializers/initializers.py:120: UserWarning: The initializer TruncatedNormal is unseeded and being called multiple times, which will return identical values each time (even if the initializer is unseeded). Please update your code to provide a seed to the initializer, or avoid using the same initializer instance more than once.\n",
            "  warnings.warn(\n",
            "WARNING:tensorflow:Gradients do not exist for variables ['weave_layer_1/kernel:0', 'weave_layer_1/Variable:0', 'weave_layer_1/kernel:0', 'weave_layer_1/Variable:0', 'weave_layer_1/kernel:0', 'weave_layer_1/Variable:0', 'weave_layer_1/batch_normalization_3/gamma:0', 'weave_layer_1/batch_normalization_3/beta:0', 'weave_layer_1/batch_normalization_4/gamma:0', 'weave_layer_1/batch_normalization_4/beta:0', 'weave_layer_1/batch_normalization_5/gamma:0', 'weave_layer_1/batch_normalization_5/beta:0'] when minimizing the loss. If you're using `model.compile()`, did you forget to provide a `loss` argument?\n",
            "WARNING:tensorflow:Gradients do not exist for variables ['weave_layer_1/kernel:0', 'weave_layer_1/Variable:0', 'weave_layer_1/kernel:0', 'weave_layer_1/Variable:0', 'weave_layer_1/kernel:0', 'weave_layer_1/Variable:0', 'weave_layer_1/batch_normalization_3/gamma:0', 'weave_layer_1/batch_normalization_3/beta:0', 'weave_layer_1/batch_normalization_4/gamma:0', 'weave_layer_1/batch_normalization_4/beta:0', 'weave_layer_1/batch_normalization_5/gamma:0', 'weave_layer_1/batch_normalization_5/beta:0'] when minimizing the loss. If you're using `model.compile()`, did you forget to provide a `loss` argument?\n",
            "WARNING:tensorflow:Gradients do not exist for variables ['weave_layer_1/kernel:0', 'weave_layer_1/Variable:0', 'weave_layer_1/kernel:0', 'weave_layer_1/Variable:0', 'weave_layer_1/kernel:0', 'weave_layer_1/Variable:0', 'weave_layer_1/batch_normalization_3/gamma:0', 'weave_layer_1/batch_normalization_3/beta:0', 'weave_layer_1/batch_normalization_4/gamma:0', 'weave_layer_1/batch_normalization_4/beta:0', 'weave_layer_1/batch_normalization_5/gamma:0', 'weave_layer_1/batch_normalization_5/beta:0'] when minimizing the loss. If you're using `model.compile()`, did you forget to provide a `loss` argument?\n"
          ]
        }
      ],
      "source": [
        "model = dc.models.WeaveModel(n_tasks=1, n_weave=2, fully_connected_layer_sizes=[2000, 1000], mode=\"classification\", model_dir=\"/content/drive/MyDrive/Predictive Generative transfer learning/TransferAll/Graph Convolutional\")\n",
        "loss = model.fit(train_dataset)"
      ]
    },
    {
      "cell_type": "markdown",
      "source": [
        "### Featurization of smiles on species datasets - Weave"
      ],
      "metadata": {
        "id": "VUbMt1-6Zx6U"
      }
    },
    {
      "cell_type": "code",
      "execution_count": 52,
      "metadata": {
        "id": "GkAw3eIUSLFQ"
      },
      "outputs": [],
      "source": [
        "df_humanIndependent.to_csv('inhibitor_HumanIndependent.csv', index=False)\n",
        "df_eel.to_csv('inhibitor_eel.csv', index=False)\n",
        "df_mouse.to_csv('inhibitor_mouse.csv', index=False)\n",
        "df_cow.to_csv('inhibitor_cow.csv', index=False)\n",
        "df_ray.to_csv('inhibitor_ray.csv', index=False)\n",
        "df_mosquito.to_csv('inhibitor_mosquito.csv', index=False)"
      ]
    },
    {
      "cell_type": "markdown",
      "source": [
        "### human"
      ],
      "metadata": {
        "id": "ZfuhSN3KXqmO"
      }
    },
    {
      "cell_type": "code",
      "execution_count": 53,
      "metadata": {
        "id": "_wsmSFx_SLFQ"
      },
      "outputs": [],
      "source": [
        "# Define the ConvMolFeaturizer\n",
        "featurizer = dc.feat.WeaveFeaturizer()\n",
        "\n",
        "# Featurize the SMILES column\n",
        "features = featurizer.featurize(df_humanIndependent['cleanedMol'].tolist())\n",
        "\n",
        "# Extract the target values from the DataFrame\n",
        "targets = df_humanIndependent['binary_activities'].tolist()\n",
        "\n",
        "# Create a DeepChem dataset from the features and targets\n",
        "dataset_humanIndependent= dc.data.NumpyDataset(features, targets)"
      ]
    },
    {
      "cell_type": "markdown",
      "metadata": {
        "id": "-OQ1VQINSLFR"
      },
      "source": [
        "### eel"
      ]
    },
    {
      "cell_type": "code",
      "execution_count": 54,
      "metadata": {
        "id": "RlZnopOXSLFS"
      },
      "outputs": [],
      "source": [
        "\n",
        "# Define the ConvMolFeaturizer\n",
        "featurizer = dc.feat.WeaveFeaturizer()\n",
        "\n",
        "# Featurize the SMILES column\n",
        "features = featurizer.featurize(df_eel['cleanedMol'].tolist())\n",
        "\n",
        "# Extract the target values from the DataFrame\n",
        "targets = df_eel['single-class-label'].tolist()\n",
        "\n",
        "# Create a DeepChem dataset from the features and targets\n",
        "dataset_eel= dc.data.NumpyDataset(features, targets)"
      ]
    },
    {
      "cell_type": "markdown",
      "source": [
        "### cow"
      ],
      "metadata": {
        "id": "K4Co8Q7EYNFX"
      }
    },
    {
      "cell_type": "code",
      "execution_count": 55,
      "metadata": {
        "id": "DnZRTpVxSLFT"
      },
      "outputs": [],
      "source": [
        "# Define the ConvMolFeaturizer\n",
        "featurizer = dc.feat.WeaveFeaturizer()\n",
        "\n",
        "# Featurize the SMILES column\n",
        "features = featurizer.featurize(df_cow['cleanedMol'].tolist())\n",
        "\n",
        "# Extract the target values from the DataFrame\n",
        "targets = df_cow['single-class-label'].tolist()\n",
        "\n",
        "# Create a DeepChem dataset from the features and targets\n",
        "dataset_cow= dc.data.NumpyDataset(features, targets)"
      ]
    },
    {
      "cell_type": "markdown",
      "source": [
        "### mosquito"
      ],
      "metadata": {
        "id": "sYh6HoKXYRmR"
      }
    },
    {
      "cell_type": "code",
      "execution_count": 56,
      "metadata": {
        "id": "jKbMLcuLSLFU"
      },
      "outputs": [],
      "source": [
        "# Define the ConvMolFeaturizer\n",
        "featurizer = dc.feat.WeaveFeaturizer()\n",
        "\n",
        "# Featurize the SMILES column\n",
        "features = featurizer.featurize(df_mosquito['cleanedMol'].tolist())\n",
        "\n",
        "# Extract the target values from the DataFrame\n",
        "targets = df_mosquito['single-class-label'].tolist()\n",
        "\n",
        "# Create a DeepChem dataset from the features and targets\n",
        "dataset_mosquito= dc.data.NumpyDataset(features, targets)"
      ]
    },
    {
      "cell_type": "markdown",
      "source": [
        "### ray"
      ],
      "metadata": {
        "id": "U42SvmoZYWkj"
      }
    },
    {
      "cell_type": "code",
      "execution_count": 57,
      "metadata": {
        "id": "k6NQizlkSLFV"
      },
      "outputs": [],
      "source": [
        "# Define the ConvMolFeaturizer\n",
        "featurizer = dc.feat.WeaveFeaturizer()\n",
        "\n",
        "# Featurize the SMILES column\n",
        "features = featurizer.featurize(df_ray['cleanedMol'].tolist())\n",
        "\n",
        "# Extract the target values from the DataFrame\n",
        "targets = df_ray['single-class-label'].tolist()\n",
        "\n",
        "# Create a DeepChem dataset from the features and targets\n",
        "dataset_ray= dc.data.NumpyDataset(features, targets)"
      ]
    },
    {
      "cell_type": "markdown",
      "source": [
        "### mouse"
      ],
      "metadata": {
        "id": "SfO2VEOQYYpN"
      }
    },
    {
      "cell_type": "code",
      "execution_count": 58,
      "metadata": {
        "id": "idRafZ4SSLFV"
      },
      "outputs": [],
      "source": [
        "# Define the ConvMolFeaturizer\n",
        "featurizer = dc.feat.WeaveFeaturizer()\n",
        "# Featurize the SMILES column\n",
        "features = featurizer.featurize(df_mouse['cleanedMol'].tolist())\n",
        "# Extract the target values from the DataFrame\n",
        "targets = df_mouse['single-class-label'].tolist()\n",
        "# Create a DeepChem dataset from the features and targets\n",
        "dataset_mouse= dc.data.NumpyDataset(features, targets)"
      ]
    },
    {
      "cell_type": "markdown",
      "source": [
        "### Cross species evaluation - weave"
      ],
      "metadata": {
        "id": "bMas6szgYbhb"
      }
    },
    {
      "cell_type": "code",
      "execution_count": 59,
      "metadata": {
        "id": "ZToE-mEOSLFW",
        "colab": {
          "base_uri": "https://localhost:8080/",
          "height": 1000
        },
        "outputId": "755fa0f9-e117-44b3-fb9d-8d1d38bcb12e"
      },
      "outputs": [
        {
          "output_type": "stream",
          "name": "stdout",
          "text": [
            "Confusion Matrix for Human Test dataset:\n",
            "[[151 195]\n",
            " [ 32 234]]\n",
            "Confusion Matrix for Human Independent dataset:\n",
            "[[64 74]\n",
            " [10 60]]\n",
            "Confusion Matrix for Eel dataset:\n",
            "[[1191 2184]\n",
            " [ 428 1656]]\n",
            "Confusion Matrix for Mouse dataset:\n",
            "[[ 75 148]\n",
            " [ 20 125]]\n",
            "Confusion Matrix for Cow dataset:\n",
            "[[ 55 163]\n",
            " [  5 234]]\n",
            "Confusion Matrix for Ray dataset:\n",
            "[[199 520]\n",
            " [137 550]]\n",
            "Confusion Matrix for Mosquito dataset:\n",
            "[[ 3 42]\n",
            " [ 1 26]]\n"
          ]
        },
        {
          "output_type": "display_data",
          "data": {
            "text/plain": [
              "<Figure size 1000x600 with 1 Axes>"
            ],
            "image/png": "[encoded data removed]"
          },
          "metadata": {}
        },
        {
          "output_type": "stream",
          "name": "stdout",
          "text": [
            "Evaluation for Human Test dataset:\n",
            "Accuracy: 0.6291\n",
            "Precision: 0.5455\n",
            "Recall: 0.8797\n",
            "F1 Score: 0.6734\n",
            "MCC: 0.3423\n",
            "Cohen's Kappa: 0.2952\n",
            "\n",
            "\n",
            "Evaluation for Human Independent dataset:\n",
            "Accuracy: 0.5962\n",
            "Precision: 0.4478\n",
            "Recall: 0.8571\n",
            "F1 Score: 0.5882\n",
            "MCC: 0.3167\n",
            "Cohen's Kappa: 0.2619\n",
            "\n",
            "\n",
            "Evaluation for Eel dataset:\n",
            "Accuracy: 0.5215\n",
            "Precision: 0.4313\n",
            "Recall: 0.7946\n",
            "F1 Score: 0.5591\n",
            "MCC: 0.1569\n",
            "Cohen's Kappa: 0.1270\n",
            "\n",
            "\n",
            "Evaluation for Mouse dataset:\n",
            "Accuracy: 0.5435\n",
            "Precision: 0.4579\n",
            "Recall: 0.8621\n",
            "F1 Score: 0.5981\n",
            "MCC: 0.2215\n",
            "Cohen's Kappa: 0.1719\n",
            "\n",
            "\n",
            "Evaluation for Cow dataset:\n",
            "Accuracy: 0.6324\n",
            "Precision: 0.5894\n",
            "Recall: 0.9791\n",
            "F1 Score: 0.7358\n",
            "MCC: 0.3422\n",
            "Cohen's Kappa: 0.2390\n",
            "\n",
            "\n",
            "Evaluation for Ray dataset:\n",
            "Accuracy: 0.5327\n",
            "Precision: 0.5140\n",
            "Recall: 0.8006\n",
            "F1 Score: 0.6261\n",
            "MCC: 0.0907\n",
            "Cohen's Kappa: 0.0764\n",
            "\n",
            "\n",
            "Evaluation for Mosquito dataset:\n",
            "Accuracy: 0.4028\n",
            "Precision: 0.3824\n",
            "Recall: 0.9630\n",
            "F1 Score: 0.5474\n",
            "MCC: 0.0626\n",
            "Cohen's Kappa: 0.0227\n",
            "\n",
            "\n"
          ]
        }
      ],
      "source": [
        "import deepchem as dc\n",
        "import tensorflow as tf\n",
        "import numpy as np\n",
        "import pandas as pd\n",
        "import matplotlib.pyplot as plt\n",
        "from sklearn.metrics import roc_curve, auc, confusion_matrix, accuracy_score, precision_score, recall_score, f1_score, matthews_corrcoef, cohen_kappa_score\n",
        "\n",
        "datasets = {\n",
        "    'Human Test': test_dataset,\n",
        "    'Human Independent': dataset_humanIndependent,\n",
        "    'Eel': dataset_eel,\n",
        "    'Mouse': dataset_mouse,\n",
        "    'Cow': dataset_cow,\n",
        "    'Ray': dataset_ray,\n",
        "    'Mosquito': dataset_mosquito\n",
        "}\n",
        "\n",
        "# Set up the plot\n",
        "plt.figure(figsize=(10, 6))\n",
        "\n",
        "# Initialize a dictionary to store evaluation metrics for each dataset\n",
        "evaluation_metrics = {}\n",
        "\n",
        "# Evaluate and plot ROC curve for each dataset\n",
        "for species, data in datasets.items():\n",
        "    X = data.X\n",
        "    y_true = data.y.ravel()\n",
        "\n",
        "    # Make predictions on the test dataset\n",
        "    y_pred = model.predict(data).reshape(-1, 2)\n",
        "    y_pred_positive = y_pred[:, 1]\n",
        "\n",
        "    # Calculate the ROC curve\n",
        "    fpr, tpr, _ = roc_curve(y_true, y_pred_positive)\n",
        "\n",
        "    # Calculate the AUC (Area Under the Curve)\n",
        "    roc_auc = auc(fpr, tpr)\n",
        "\n",
        "    # Calculate the confusion matrix\n",
        "    y_pred_binary = np.argmax(y_pred, axis=1)\n",
        "    conf_matrix = confusion_matrix(y_true, y_pred_binary)\n",
        "\n",
        "    # Calculate other evaluation metrics\n",
        "    accuracy = accuracy_score(y_true, y_pred_binary)\n",
        "    precision = precision_score(y_true, y_pred_binary)\n",
        "    recall = recall_score(y_true, y_pred_binary)\n",
        "    f1 = f1_score(y_true, y_pred_binary)\n",
        "    mcc = matthews_corrcoef(y_true, y_pred_binary)\n",
        "    cohen_kappa = cohen_kappa_score(y_true, y_pred_binary)\n",
        "\n",
        "    # Store the evaluation metrics in the dictionary\n",
        "    evaluation_metrics[species] = {\n",
        "        'Accuracy': accuracy,\n",
        "        'Precision': precision,\n",
        "        'Recall': recall,\n",
        "        'F1 Score': f1,\n",
        "        'MCC': mcc,\n",
        "        \"Cohen's Kappa\": cohen_kappa\n",
        "    }\n",
        "\n",
        "    # Plot the ROC curve for each species\n",
        "    plt.plot(fpr, tpr, label=f'{species} (AUC = {roc_auc:.2f})')\n",
        "\n",
        "    # Display Confusion Matrix\n",
        "    print(f\"Confusion Matrix for {species} dataset:\")\n",
        "    print(conf_matrix)\n",
        "\n",
        "# Plot settings\n",
        "plt.plot([0, 1], [0, 1], linestyle='--', color='gray', label='Random')\n",
        "plt.title('ROC Curve for Different Species')\n",
        "plt.xlabel('False Positive Rate')\n",
        "plt.ylabel('True Positive Rate')\n",
        "plt.legend(loc='lower right')\n",
        "plt.show()\n",
        "\n",
        "# Display or analyze the stored evaluation metrics\n",
        "for species, metrics in evaluation_metrics.items():\n",
        "    print(f\"Evaluation for {species} dataset:\")\n",
        "    for metric_name, value in metrics.items():\n",
        "        print(f\"{metric_name}: {value:.4f}\")\n",
        "    print(\"\\n\")\n",
        "\n",
        "# Create a DataFrame from the evaluation_metrics dictionary\n",
        "df_metrics = pd.DataFrame(evaluation_metrics).transpose()\n",
        "\n",
        "# Save the DataFrames to Excel files\n",
        "df_metrics.to_excel('evaluation_metrics_grover.xlsx', index_label='Species')\n"
      ]
    },
    {
      "cell_type": "markdown",
      "source": [
        "##References\n",
        "\n",
        "* https://github.com/deepchem/deepchem/blob/master/examples/tutorials/Introduction_to_Graph_Convolutions.ipynb\n",
        "* Ramsundar, B., Eastman, P., Walters, P., Pande, V., Leswing, K., & Wu, Z. (2019). Deep Learning for the Life Sciences. O’Reilly Media. https://www.amazon.com/Deep-Learning-Life-Sciences-Microscopy/dp/1492039837\n",
        "* Vignaux, P. A., Lane, T. R., Urbina, F., Gerlach, J., Puhl, A. C., Snyder, S. H., & Ekins, S. (2023). Validation of Acetylcholinesterase Inhibition Machine Learning Models for Multiple Species. Chemical Research in Toxicology, 36(2), 188–201. https://doi.org/10.1021/acs.chemrestox.2c00283\n",
        "* Duvenaud, D., Maclaurin, D., Aguilera-Iparraguirre, J., Gómez-Bombarelli, R., Hirzel, T., Aspuru-Guzik, A., & Adams, R. P. (2015). Convolutional Networks on Graphs for Learning Molecular Fingerprints (arXiv:1509.09292). arXiv. http://arxiv.org/abs/1509.09292\n",
        "* Durant, J. L., Leland, B. A., Henry, D. R., & Nourse, J. G. (2002). Reoptimization of MDL Keys for Use in Drug Discovery. Journal of Chemical Information and Computer Sciences, 42(6), 1273–1280. https://doi.org/10.1021/ci010132r"
      ],
      "metadata": {
        "id": "Iw_0zqCjYjRX"
      }
    }
  ],
  "metadata": {
    "colab": {
      "provenance": [],
      "gpuType": "T4",
      "include_colab_link": true
    },
    "kernelspec": {
      "display_name": "Python 3",
      "name": "python3"
    },
    "language_info": {
      "name": "python"
    },
    "accelerator": "GPU"
  },
  "nbformat": 4,
  "nbformat_minor": 0
}